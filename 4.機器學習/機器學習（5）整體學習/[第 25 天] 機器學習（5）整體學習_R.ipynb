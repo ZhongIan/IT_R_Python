{
 "cells": [
  {
   "cell_type": "markdown",
   "metadata": {},
   "source": [
    "http://ithelp.ithome.com.tw/articles/10187314"
   ]
  },
  {
   "cell_type": "markdown",
   "metadata": {},
   "source": [
    "# 前言\n",
    "\n",
    "當我們使用一種分類器沒有辦法達到很良好的預測結果時，\n",
    "\n",
    "除了改使用其他類型的分類器，\n",
    "\n",
    "還有一個方式稱為整體學習（Ensemble learning）可以將數個分類器的預測結果綜合考慮，\n",
    "藉此達到顯著提升分類效果。\n"
   ]
  },
  {
   "cell_type": "markdown",
   "metadata": {},
   "source": [
    "# Bagging\n",
    "\n",
    "Bagging 是 Bootstrap Aggregating 的簡稱，\n",
    "\n",
    "透過統計學的 Bootstrap sampling 得到不同的訓練資料，\n",
    "\n",
    "然後根據這些訓練資料得到一系列的基本分類器，假如演算法產生了 5 個基本分類器，\n",
    "\n",
    "她們對某個觀測值的預測結果分別為 1, 0, 1, 1, 1，那麼 Bagging 演算法的輸出結果就會是 1，\n",
    "\n",
    "這個過程稱之為基本分類器的投票。\n",
    "\n",
    "我們使用 adabag 套件的 bagging() 函數"
   ]
  },
  {
   "cell_type": "code",
   "execution_count": 7,
   "metadata": {},
   "outputs": [
    {
     "ename": "ERROR",
     "evalue": "Error in library(adabag): there is no package called 'adabag'\n",
     "output_type": "error",
     "traceback": [
      "Error in library(adabag): there is no package called 'adabag'\nTraceback:\n",
      "1. library(adabag)",
      "2. stop(txt, domain = NA)"
     ]
    }
   ],
   "source": [
    "library(adabag)\n",
    "library(rpart)\n",
    "\n",
    "url = \"https://storage.googleapis.com/2017_ithome_ironman/data/kaggle_titanic_train.csv\"\n",
    "titanic_train <- read.csv(url)\n",
    "titanic_train$Survived <- factor(titanic_train$Survived)\n",
    "\n",
    "# 將 Age 遺漏值以 median 填補\n",
    "age_median <- median(titanic_train$Age, na.rm = TRUE)\n",
    "new_Age <- ifelse(is.na(titanic_train$Age), age_median, titanic_train$Age)\n",
    "titanic_train$Age <- new_Age\n",
    "\n",
    "# 切分訓練與測試資料\n",
    "n <- nrow(titanic_train)\n",
    "shuffled_titanic <- titanic_train[sample(n), ]\n",
    "train_indices <- 1:round(0.7 * n)\n",
    "train_titanic <- shuffled_titanic[train_indices, ]\n",
    "test_indices <- (round(0.7 * n) + 1):n\n",
    "test_titanic <- shuffled_titanic[test_indices, ]\n",
    "\n",
    "# 建立模型\n",
    "bag_fit <- bagging(Survived ~ Pclass + Age + Sex, data = train_titanic, mfinal = 100)\n",
    "\n",
    "# 預測\n",
    "test_titanic_predicted <- predict(bag_fit, test_titanic)\n",
    "\n",
    "# 績效\n",
    "accuracy <- 1 - test_titanic_predicted$error\n",
    "accuracy"
   ]
  },
  {
   "cell_type": "markdown",
   "metadata": {},
   "source": [
    "# AdaBoost\n",
    "\n",
    "AdaBoost 同樣是基於數個基本分類器的整體學習演算法，\n",
    "\n",
    "跟前述 Bagging 演算法不同的地方在於，她在形成基本分類器時除了隨機生成，\n",
    "\n",
    "還會針對在前一個基本分類器中被分類錯誤的觀測值提高抽樣權重，\n",
    "\n",
    "使得該觀測值在下一個基本分類器形成時有更高機率被選入，藉此提高被正確分類的機率，\n",
    "\n",
    "簡單來說，她是個具有即時調節觀測值抽樣權重的進階 Bagging 演算法。\n",
    "\n",
    "我們使用 sklearn.ensemble 的 AdaBoostClassifier()。\n",
    "\n",
    "我們使用 adabag 套件的 boosting() 函數。"
   ]
  },
  {
   "cell_type": "code",
   "execution_count": null,
   "metadata": {
    "collapsed": true
   },
   "outputs": [],
   "source": []
  }
 ],
 "metadata": {
  "kernelspec": {
   "display_name": "R",
   "language": "R",
   "name": "ir"
  },
  "language_info": {
   "codemirror_mode": "r",
   "file_extension": ".r",
   "mimetype": "text/x-r-source",
   "name": "R",
   "pygments_lexer": "r",
   "version": "3.4.1"
  }
 },
 "nbformat": 4,
 "nbformat_minor": 2
}
