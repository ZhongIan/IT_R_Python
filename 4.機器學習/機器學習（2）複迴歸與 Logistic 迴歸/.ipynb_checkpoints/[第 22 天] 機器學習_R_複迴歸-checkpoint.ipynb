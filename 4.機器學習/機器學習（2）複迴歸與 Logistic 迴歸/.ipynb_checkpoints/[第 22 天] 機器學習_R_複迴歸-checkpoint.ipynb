{
 "cells": [
  {
   "cell_type": "markdown",
   "metadata": {},
   "source": [
    "# 複迴歸\n",
    "\n",
    "http://ithelp.ithome.com.tw/articles/10187047"
   ]
  },
  {
   "cell_type": "markdown",
   "metadata": {},
   "source": [
    "# 建立複迴歸模型\n",
    "\n",
    "使用連鎖蛋糕店的 店面面積（坪）與車站距離（公里）來預測分店單月銷售量（萬日圓）。\n",
    "\n",
    "我們使用 lm() 函數。"
   ]
  },
  {
   "cell_type": "code",
   "execution_count": 11,
   "metadata": {},
   "outputs": [
    {
     "data": {
      "text/html": [
       "<dl class=dl-horizontal>\n",
       "\t<dt>store_area</dt>\n",
       "\t\t<dd>41.5134782564384</dd>\n",
       "\t<dt>dist_to_station</dt>\n",
       "\t\t<dd>-0.340882685663619</dd>\n",
       "</dl>\n"
      ],
      "text/latex": [
       "\\begin{description*}\n",
       "\\item[store\\textbackslash{}\\_area] 41.5134782564384\n",
       "\\item[dist\\textbackslash{}\\_to\\textbackslash{}\\_station] -0.340882685663619\n",
       "\\end{description*}\n"
      ],
      "text/markdown": [
       "store_area\n",
       ":   41.5134782564384dist_to_station\n",
       ":   -0.340882685663619\n",
       "\n"
      ],
      "text/plain": [
       "     store_area dist_to_station \n",
       "     41.5134783      -0.3408827 "
      ]
     },
     "metadata": {},
     "output_type": "display_data"
    },
    {
     "data": {
      "text/html": [
       "<strong>(Intercept):</strong> 65.3239163889484"
      ],
      "text/latex": [
       "\\textbf{(Intercept):} 65.3239163889484"
      ],
      "text/markdown": [
       "**(Intercept):** 65.3239163889484"
      ],
      "text/plain": [
       "(Intercept) \n",
       "   65.32392 "
      ]
     },
     "metadata": {},
     "output_type": "display_data"
    }
   ],
   "source": [
    "store_area <- c(10, 8, 8, 5, 7, 8, 7, 9, 6, 9)\n",
    "dist_to_station <- c(80, 0, 200, 200, 300, 230, 40, 0, 330, 180)\n",
    "monthly_sales <- c(469, 366, 371, 208, 246, 297, 363, 436, 198, 364)\n",
    "bakery_df <- data.frame(store_area, dist_to_station, monthly_sales)\n",
    "\n",
    "lm_fit <- lm(monthly_sales ~ ., data = bakery_df)\n",
    "\n",
    "# 印出係數\n",
    "lm_fit$coefficients[-1]\n",
    "\n",
    "# 印出截距\n",
    "lm_fit$coefficients[1]"
   ]
  },
  {
   "cell_type": "markdown",
   "metadata": {},
   "source": [
    "# 利用複迴歸模型預測\n",
    "\n",
    "建立複迴歸模型之後，身為連鎖蛋糕店的老闆，在開設新店選址的時候，就可以用新店資訊預測單月銷售量，進而更精準地掌握店租與人事成本的管理。\n",
    "\n",
    "我們使用 predict() 函數。"
   ]
  },
  {
   "cell_type": "code",
   "execution_count": 12,
   "metadata": {},
   "outputs": [
    {
     "data": {
      "text/html": [
       "<strong>1:</strong> 442.961603530335"
      ],
      "text/latex": [
       "\\textbf{1:} 442.961603530335"
      ],
      "text/markdown": [
       "**1:** 442.961603530335"
      ],
      "text/plain": [
       "       1 \n",
       "442.9616 "
      ]
     },
     "metadata": {},
     "output_type": "display_data"
    }
   ],
   "source": [
    "# 新蛋糕店資料\n",
    "to_be_predicted <- data.frame(store_area = 10, dist_to_station = 110)\n",
    "predicted_sales <- predict(lm_fit, newdata = to_be_predicted)\n",
    "\n",
    "# 預測新蛋糕店的單月銷量\n",
    "predicted_sales"
   ]
  },
  {
   "cell_type": "markdown",
   "metadata": {},
   "source": [
    "# 複迴歸模型的績效\n",
    "\n",
    "複迴歸模型的績效（Performance）有 Mean squared error（MSE）、 R-squared 與 Adjusted R-squared。"
   ]
  },
  {
   "cell_type": "code",
   "execution_count": 13,
   "metadata": {},
   "outputs": [
    {
     "data": {
      "text/html": [
       "417.30061199947"
      ],
      "text/latex": [
       "417.30061199947"
      ],
      "text/markdown": [
       "417.30061199947"
      ],
      "text/plain": [
       "[1] 417.3006"
      ]
     },
     "metadata": {},
     "output_type": "display_data"
    },
    {
     "data": {
      "text/html": [
       "0.945235852681711"
      ],
      "text/latex": [
       "0.945235852681711"
      ],
      "text/markdown": [
       "0.945235852681711"
      ],
      "text/plain": [
       "[1] 0.9452359"
      ]
     },
     "metadata": {},
     "output_type": "display_data"
    },
    {
     "data": {
      "text/html": [
       "0.929588953447914"
      ],
      "text/latex": [
       "0.929588953447914"
      ],
      "text/markdown": [
       "0.929588953447914"
      ],
      "text/plain": [
       "[1] 0.929589"
      ]
     },
     "metadata": {},
     "output_type": "display_data"
    }
   ],
   "source": [
    "store_area <- c(10, 8, 8, 5, 7, 8, 7, 9, 6, 9)\n",
    "dist_to_station <- c(80, 0, 200, 200, 300, 230, 40, 0, 330, 180)\n",
    "monthly_sales <- c(469, 366, 371, 208, 246, 297, 363, 436, 198, 364)\n",
    "bakery_df <- data.frame(store_area, dist_to_station, monthly_sales)\n",
    "\n",
    "lm_fit <- lm(monthly_sales ~ ., data = bakery_df)\n",
    "predicted_sales <- predict(lm_fit, newdata = data.frame(store_area, dist_to_station))\n",
    "\n",
    "# 模型績效\n",
    "mse <- mean((monthly_sales - predicted_sales) ^ 2)\n",
    "\n",
    "# 印出模型績效\n",
    "mse\n",
    "summary(lm_fit)$r.squared\n",
    "summary(lm_fit)$adj.r.squared"
   ]
  },
  {
   "cell_type": "markdown",
   "metadata": {},
   "source": [
    "# 複迴歸模型的係數檢定\n",
    "\n",
    "複迴歸模型我們通常還會檢定變數的顯著性，以 P-value 是否小於 0.05（信心水準 95%）來判定。\n",
    "\n",
    "使用 summary(lm_fit) 的 coefficients 屬性。"
   ]
  },
  {
   "cell_type": "code",
   "execution_count": 14,
   "metadata": {},
   "outputs": [
    {
     "data": {
      "text/html": [
       "<dl class=dl-horizontal>\n",
       "\t<dt>store_area</dt>\n",
       "\t\t<dd>0.000294402984886652</dd>\n",
       "\t<dt>dist_to_station</dt>\n",
       "\t\t<dd>0.00330442858808869</dd>\n",
       "</dl>\n"
      ],
      "text/latex": [
       "\\begin{description*}\n",
       "\\item[store\\textbackslash{}\\_area] 0.000294402984886652\n",
       "\\item[dist\\textbackslash{}\\_to\\textbackslash{}\\_station] 0.00330442858808869\n",
       "\\end{description*}\n"
      ],
      "text/markdown": [
       "store_area\n",
       ":   0.000294402984886652dist_to_station\n",
       ":   0.00330442858808869\n",
       "\n"
      ],
      "text/plain": [
       "     store_area dist_to_station \n",
       "    0.000294403     0.003304429 "
      ]
     },
     "metadata": {},
     "output_type": "display_data"
    }
   ],
   "source": [
    "store_area <- c(10, 8, 8, 5, 7, 8, 7, 9, 6, 9)\n",
    "dist_to_station <- c(80, 0, 200, 200, 300, 230, 40, 0, 330, 180)\n",
    "monthly_sales <- c(469, 366, 371, 208, 246, 297, 363, 436, 198, 364)\n",
    "bakery_df <- data.frame(store_area, dist_to_station, monthly_sales)\n",
    "\n",
    "lm_fit <- lm(monthly_sales ~ ., data = bakery_df)\n",
    "\n",
    "# 印出 p-value\n",
    "summary(lm_fit)$coefficients[-1, 4]"
   ]
  },
  {
   "cell_type": "code",
   "execution_count": null,
   "metadata": {
    "collapsed": true
   },
   "outputs": [],
   "source": []
  }
 ],
 "metadata": {
  "kernelspec": {
   "display_name": "R",
   "language": "R",
   "name": "ir"
  },
  "language_info": {
   "codemirror_mode": "r",
   "file_extension": ".r",
   "mimetype": "text/x-r-source",
   "name": "R",
   "pygments_lexer": "r",
   "version": "3.4.1"
  }
 },
 "nbformat": 4,
 "nbformat_minor": 2
}
