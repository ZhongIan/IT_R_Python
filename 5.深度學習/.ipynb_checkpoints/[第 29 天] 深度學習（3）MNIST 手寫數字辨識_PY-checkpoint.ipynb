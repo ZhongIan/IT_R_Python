{
 "cells": [
  {
   "cell_type": "markdown",
   "metadata": {},
   "source": [
    "http://ithelp.ithome.com.tw/articles/10187912"
   ]
  },
  {
   "cell_type": "code",
   "execution_count": 2,
   "metadata": {},
   "outputs": [
    {
     "data": {
      "text/html": [
       "<!--為了使表格置右-->\n",
       "<style>\n",
       "  table {margin-left: 0 !important;}\n",
       "</style>"
      ],
      "text/plain": [
       "<IPython.core.display.HTML object>"
      ]
     },
     "metadata": {},
     "output_type": "display_data"
    }
   ],
   "source": [
    "%%html\n",
    "<!--為了使表格置右-->\n",
    "<style>\n",
    "  table {margin-left: 0 !important;}\n",
    "</style>"
   ]
  },
  {
   "cell_type": "markdown",
   "metadata": {},
   "source": [
    "# 讀入 MNIST\n",
    "\n",
    "如同在 scikit-learn 套件中讀入 iris 一般，\n",
    "\n",
    "在 TensorFlow 套件中讀入 MNIST 同樣是很容易的，不論是訓練資料或者測試資料，都有分 images 與 labels 屬性，\n",
    "\n",
    "我們簡單跟 scikit-learn 套件做個對照：\n",
    "\n",
    "套件 |\t自變數 X|\t目標變數 y\n",
    "---|---|---\n",
    "sklearn |\tdata | \ttarget\n",
    "tensorflow |\timages |  labels"
   ]
  },
  {
   "cell_type": "markdown",
   "metadata": {},
   "source": [
    "MNIST 的圖片是 28 像素 x 28 像素，每一張圖片就可以用 28 x 28 = 784 個數字來紀錄，\n",
    "\n",
    "因此 print(x_train.shape) 的輸出告訴我們有 55,000 張訓練圖片，每張圖片都有 784 個數字；\n",
    "\n",
    "而 print(y_train.shape) 的輸出告訴我們的是這 55,000 張訓練圖片的真實答案，\n",
    "\n",
    "print(np.argmax(y_train[1, :])) 的輸出告訴我們第一張訓練圖片的真實答案為 3。"
   ]
  },
  {
   "cell_type": "code",
   "execution_count": 3,
   "metadata": {},
   "outputs": [
    {
     "name": "stdout",
     "output_type": "stream",
     "text": [
      "Successfully downloaded train-images-idx3-ubyte.gz 9912422 bytes.\n",
      "Extracting MNIST_data/train-images-idx3-ubyte.gz\n",
      "Successfully downloaded train-labels-idx1-ubyte.gz 28881 bytes.\n",
      "Extracting MNIST_data/train-labels-idx1-ubyte.gz\n",
      "Successfully downloaded t10k-images-idx3-ubyte.gz 1648877 bytes.\n",
      "Extracting MNIST_data/t10k-images-idx3-ubyte.gz\n",
      "Successfully downloaded t10k-labels-idx1-ubyte.gz 4542 bytes.\n",
      "Extracting MNIST_data/t10k-labels-idx1-ubyte.gz\n",
      "(55000, 784)\n",
      "(55000, 10)\n",
      "(10000, 784)\n",
      "(10000, 10)\n",
      "---\n",
      "3\n"
     ]
    }
   ],
   "source": [
    "from tensorflow.examples.tutorials.mnist import input_data\n",
    "import numpy as np\n",
    "\n",
    "# 讀入 MNIST\n",
    "mnist = input_data.read_data_sets(\"MNIST_data/\", one_hot = True)\n",
    "x_train = mnist.train.images\n",
    "y_train = mnist.train.labels\n",
    "x_test = mnist.test.images\n",
    "y_test = mnist.test.labels\n",
    "\n",
    "# 檢視結構\n",
    "print(x_train.shape)\n",
    "print(y_train.shape)\n",
    "print(x_test.shape)\n",
    "print(y_test.shape)\n",
    "print(\"---\")\n",
    "\n",
    "# 檢視一個觀測值\n",
    "#print(x_train[1, :])\n",
    "print(np.argmax(y_train[1, :])) # 第一張訓練圖片的真實答案"
   ]
  },
  {
   "cell_type": "markdown",
   "metadata": {},
   "source": [
    "我們也可以使用 matplotlib.pyplot 把第一張訓練圖片印出來看看。"
   ]
  },
  {
   "cell_type": "code",
   "execution_count": 4,
   "metadata": {},
   "outputs": [
    {
     "name": "stdout",
     "output_type": "stream",
     "text": [
      "Extracting MNIST_data/train-images-idx3-ubyte.gz\n",
      "Extracting MNIST_data/train-labels-idx1-ubyte.gz\n",
      "Extracting MNIST_data/t10k-images-idx3-ubyte.gz\n",
      "Extracting MNIST_data/t10k-labels-idx1-ubyte.gz\n"
     ]
    },
    {
     "data": {
      "text/plain": [
       "<matplotlib.image.AxesImage at 0xe268550>"
      ]
     },
     "execution_count": 4,
     "metadata": {},
     "output_type": "execute_result"
    },
    {
     "data": {
      "image/png": "[encoded data removed]",
      "text/plain": [
       "<matplotlib.figure.Figure at 0xe0fe160>"
      ]
     },
     "metadata": {},
     "output_type": "display_data"
    }
   ],
   "source": [
    "from tensorflow.examples.tutorials.mnist import input_data\n",
    "import numpy as np\n",
    "import matplotlib.pyplot as plt\n",
    "\n",
    "%matplotlib inline\n",
    "\n",
    "# 讀入 MNIST\n",
    "mnist = input_data.read_data_sets(\"MNIST_data/\", one_hot = True)\n",
    "x_train = mnist.train.images\n",
    "\n",
    "# 印出來看看\n",
    "first_train_img = np.reshape(x_train[1, :], (28, 28))\n",
    "plt.matshow(first_train_img, cmap = plt.get_cmap('gray'))\n",
    "plt.show()"
   ]
  },
  {
   "cell_type": "markdown",
   "metadata": {},
   "source": [
    "## Softmax 函數\n",
    "\n",
    "我們需要透過 Softmax 函數將分類器輸出的分數（Evidence）轉換為機率（Probability），然後依據機率作為預測結果的輸出，可想而知深度學習模型的輸出層會是一個 Softmax 函數。\n",
    "\n",
    "day2902\n",
    "\n",
    "## Cross-entropy\n",
    "\n",
    "不同於我們先前使用 Mean Squared Error 定義 Loss，在這個深度學習模型中我們改用 Cross-entropy 來定義 Loss。"
   ]
  },
  {
   "cell_type": "markdown",
   "metadata": {},
   "source": [
    "# TensorFlow 實作\n",
    "\n",
    "我們建立一個可以利用 TensorBoard 檢視的深度學習模型，實作手寫數字辨識的分類器。"
   ]
  },
  {
   "cell_type": "code",
   "execution_count": 5,
   "metadata": {},
   "outputs": [
    {
     "name": "stdout",
     "output_type": "stream",
     "text": [
      "Extracting MNIST_data/train-images-idx3-ubyte.gz\n",
      "Extracting MNIST_data/train-labels-idx1-ubyte.gz\n",
      "Extracting MNIST_data/t10k-images-idx3-ubyte.gz\n",
      "Extracting MNIST_data/t10k-labels-idx1-ubyte.gz\n"
     ]
    },
    {
     "data": {
      "text/plain": [
       "<tf.Tensor 'CrossEntropy/Loss:0' shape=() dtype=string>"
      ]
     },
     "execution_count": 5,
     "metadata": {},
     "output_type": "execute_result"
    },
    {
     "data": {
      "text/plain": [
       "<tf.Tensor 'Accuracy/Accuracy:0' shape=() dtype=string>"
      ]
     },
     "execution_count": 5,
     "metadata": {},
     "output_type": "execute_result"
    },
    {
     "name": "stdout",
     "output_type": "stream",
     "text": [
      "1.73533\n",
      "0.400726\n",
      "0.340979\n",
      "0.346085\n",
      "0.290693\n",
      "0.416332\n",
      "0.320504\n",
      "0.319093\n",
      "0.235077\n",
      "0.201265\n",
      "0.420871\n",
      "0.214512\n",
      "0.191262\n",
      "0.214835\n",
      "0.190091\n",
      "0.266656\n",
      "0.236716\n",
      "0.259709\n",
      "0.285935\n",
      "0.255396\n",
      "---\n",
      "Accuracy:  0.9203\n"
     ]
    }
   ],
   "source": [
    "import tensorflow as tf\n",
    "from tensorflow.examples.tutorials.mnist import input_data\n",
    "\n",
    "# 讀入 MNIST\n",
    "mnist = input_data.read_data_sets(\"MNIST_data/\", one_hot = True)\n",
    "x_train = mnist.train.images\n",
    "y_train = mnist.train.labels\n",
    "x_test = mnist.test.images\n",
    "y_test = mnist.test.labels\n",
    "\n",
    "# 設定參數\n",
    "learning_rate = 0.5\n",
    "training_steps = 1000\n",
    "batch_size = 100\n",
    "logs_path = 'TensorBoard/'\n",
    "n_features = x_train.shape[1]\n",
    "n_labels = y_train.shape[1]\n",
    "\n",
    "# 建立 Feeds\n",
    "with tf.name_scope('Inputs'):\n",
    "    x = tf.placeholder(tf.float32, [None, n_features], name = 'Input_Data')\n",
    "with tf.name_scope('Labels'):\n",
    "    y = tf.placeholder(tf.float32, [None, n_labels], name = 'Label_Data')\n",
    "\n",
    "# 建立 Variables\n",
    "with tf.name_scope('ModelParameters'):\n",
    "    W = tf.Variable(tf.zeros([n_features, n_labels]), name = 'Weights')\n",
    "    b = tf.Variable(tf.zeros([n_labels]), name = 'Bias')\n",
    "\n",
    "# 開始建構深度學習模型\n",
    "with tf.name_scope('Model'):\n",
    "    # Softmax\n",
    "    prediction = tf.nn.softmax(tf.matmul(x, W) + b)\n",
    "with tf.name_scope('CrossEntropy'):\n",
    "    # Cross-entropy\n",
    "    loss = tf.reduce_mean(-tf.reduce_sum(y * tf.log(prediction), reduction_indices = 1))\n",
    "    tf.summary.scalar(\"Loss\", loss)\n",
    "with tf.name_scope('GradientDescent'):\n",
    "    # Gradient Descent\n",
    "    optimizer = tf.train.GradientDescentOptimizer(learning_rate).minimize(loss)\n",
    "with tf.name_scope('Accuracy'):\n",
    "    correct_prediction = tf.equal(tf.argmax(prediction, 1), tf.argmax(y, 1))\n",
    "    acc = tf.reduce_mean(tf.cast(correct_prediction, tf.float32))\n",
    "    tf.summary.scalar('Accuracy', acc)\n",
    "\n",
    "# 初始化\n",
    "init = tf.global_variables_initializer()\n",
    "\n",
    "# 開始執行運算\n",
    "sess = tf.Session()\n",
    "sess.run(init)\n",
    "\n",
    "# 將視覺化輸出\n",
    "merged = tf.summary.merge_all()\n",
    "writer = tf.summary.FileWriter(logs_path, graph = tf.get_default_graph())\n",
    "\n",
    "# 訓練\n",
    "for step in range(training_steps):\n",
    "    batch_xs, batch_ys = mnist.train.next_batch(batch_size)\n",
    "    sess.run(optimizer, feed_dict = {x: batch_xs, y: batch_ys})\n",
    "    if step % 50 == 0:\n",
    "        print(sess.run(loss, feed_dict = {x: batch_xs, y: batch_ys}))\n",
    "        summary = sess.run(merged, feed_dict = {x: batch_xs, y: batch_ys})\n",
    "        writer.add_summary(summary, step)\n",
    "\n",
    "print(\"---\")\n",
    "# 準確率\n",
    "print(\"Accuracy: \", sess.run(acc, feed_dict={x: x_test, y: y_test}))\n",
    "\n",
    "sess.close()"
   ]
  },
  {
   "cell_type": "code",
   "execution_count": null,
   "metadata": {
    "collapsed": true
   },
   "outputs": [],
   "source": []
  }
 ],
 "metadata": {
  "kernelspec": {
   "display_name": "Python 3",
   "language": "python",
   "name": "python3"
  },
  "language_info": {
   "codemirror_mode": {
    "name": "ipython",
    "version": 3
   },
   "file_extension": ".py",
   "mimetype": "text/x-python",
   "name": "python",
   "nbconvert_exporter": "python",
   "pygments_lexer": "ipython3",
   "version": "3.6.1"
  },
  "toc": {
   "colors": {
    "hover_highlight": "#DAA520",
    "navigate_num": "#000000",
    "navigate_text": "#333333",
    "running_highlight": "#FF0000",
    "selected_highlight": "#FFD700",
    "sidebar_border": "#EEEEEE",
    "wrapper_background": "#FFFFFF"
   },
   "moveMenuLeft": true,
   "nav_menu": {
    "height": "84px",
    "width": "252px"
   },
   "navigate_menu": true,
   "number_sections": true,
   "sideBar": true,
   "threshold": 4,
   "toc_cell": false,
   "toc_section_display": "block",
   "toc_window_display": true,
   "widenNotebook": false
  }
 },
 "nbformat": 4,
 "nbformat_minor": 2
}
