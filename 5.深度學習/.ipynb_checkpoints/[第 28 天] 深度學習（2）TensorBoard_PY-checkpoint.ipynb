{
 "cells": [
  {
   "cell_type": "markdown",
   "metadata": {},
   "source": [
    "http://ithelp.ithome.com.tw/articles/10187814"
   ]
  },
  {
   "cell_type": "markdown",
   "metadata": {},
   "source": [
    "我們今天繼續練習神經網絡的套件 TensorFlow，在昨天的第一個實作中我們建立一個很單純的神經網絡，\n",
    "\n",
    "利用梯度遞減（Gradient descent）的演算法去逼近線性迴歸模型的係數與截距，\n",
    "\n",
    "但是我們很快就有了疑問：一直提到的建立運算元（Graphs）究竟在哪裡？是看得到的嗎？\n",
    "\n",
    "答案是可以的，我們可以利用 TensorBoard 來視覺化神經網絡。"
   ]
  },
  {
   "cell_type": "markdown",
   "metadata": {},
   "source": [
    "# 整理程式\n",
    "\n",
    "在視覺化之前，我們先用較模組化的寫法：[MorvanZhou@GitHub](https://github.com/MorvanZhou/tutorials/blob/master/tensorflowTUT/tf15_tensorboard/full_code.py)\n",
    "的範例程式改寫昨天的程式。\n",
    "\n",
    "# 改寫架構\n",
    "\n",
    "+ 定義一個添加層的函數：add_layer()\n",
    "+ 準備資料（Inputs）\n",
    "+ 建立 Feeds（使用 tf.placeholder() 方法）來傳入資料\n",
    "+ 添加隱藏層與輸出層\n",
    "+ 定義 loss 與要使用的 Optimizer（使用梯度遞減）\n",
    "+ 初始化 Graph 並開始運算"
   ]
  },
  {
   "cell_type": "markdown",
   "metadata": {},
   "source": [
    "# 改寫後的程式\n",
    "\n",
    "我們可以看到隨著每次運算，loss 的數值都在降低，表示類似模型不斷在逼近真實模型。"
   ]
  },
  {
   "cell_type": "code",
   "execution_count": 3,
   "metadata": {},
   "outputs": [
    {
     "name": "stdout",
     "output_type": "stream",
     "text": [
      "0.118851\n",
      "0.0208628\n",
      "0.00506674\n",
      "0.001231\n",
      "0.000299087\n",
      "7.26674e-05\n",
      "1.7655e-05\n",
      "4.28932e-06\n",
      "1.04195e-06\n",
      "2.53137e-07\n",
      "6.1538e-08\n"
     ]
    }
   ],
   "source": [
    "import tensorflow as tf\n",
    "import numpy as np\n",
    "\n",
    "# 定義一個添加層的函數\n",
    "def add_layer(inputs, input_tensors, output_tensors, activation_function = None):\n",
    "    W = tf.Variable(tf.random_normal([input_tensors, output_tensors]))\n",
    "    b = tf.Variable(tf.zeros([1, output_tensors]))\n",
    "    formula = tf.add(tf.matmul(inputs, W), b)\n",
    "    if activation_function is None:\n",
    "        outputs = formula\n",
    "    else:\n",
    "        outputs = activation_function(formula)\n",
    "    return outputs\n",
    "\n",
    "# 準備資料\n",
    "x_data = np.random.rand(100)\n",
    "x_data = x_data.reshape(len(x_data), 1)\n",
    "y_data = x_data * 0.1 + 0.3\n",
    "\n",
    "# 建立 Feeds\n",
    "x_feeds = tf.placeholder(tf.float32, shape = [None, 1])\n",
    "y_feeds = tf.placeholder(tf.float32, shape = [None, 1])\n",
    "\n",
    "# 添加 1 個隱藏層\n",
    "hidden_layer = add_layer(x_feeds, input_tensors = 1, output_tensors = 10, activation_function = None)\n",
    "\n",
    "# 添加 1 個輸出層\n",
    "output_layer = add_layer(hidden_layer, input_tensors = 10, output_tensors = 1, activation_function = None)\n",
    "\n",
    "# 定義 `loss` 與要使用的 Optimizer\n",
    "loss = tf.reduce_mean(tf.square(y_feeds - output_layer))\n",
    "optimizer = tf.train.GradientDescentOptimizer(learning_rate = 0.01)\n",
    "train = optimizer.minimize(loss)\n",
    "\n",
    "# 初始化 Graph 並開始運算\n",
    "init = tf.global_variables_initializer()\n",
    "sess = tf.Session()\n",
    "sess.run(init)\n",
    "\n",
    "for step in range(201):\n",
    "    sess.run(train, feed_dict = {x_feeds: x_data, y_feeds: y_data})\n",
    "    if step % 20 == 0:\n",
    "        print(sess.run(loss, feed_dict = {x_feeds: x_data, y_feeds: y_data}))\n",
    "\n",
    "sess.close()"
   ]
  },
  {
   "cell_type": "markdown",
   "metadata": {},
   "source": [
    "# 視覺化\n",
    "\n",
    "接著我們要在模組化的程式中使用 with tf.name_scope(): 為每個運算元命名，\n",
    "\n",
    "然後在神經網絡運算初始之後，利用 tf.summary.FileWriter() 將視覺化檔案輸出。"
   ]
  },
  {
   "cell_type": "code",
   "execution_count": 5,
   "metadata": {
    "collapsed": true
   },
   "outputs": [],
   "source": [
    "import tensorflow as tf\n",
    "import numpy as np\n",
    "\n",
    "# 定義一個添加層的函數\n",
    "def add_layer(inputs, input_tensors, output_tensors, activation_function = None):\n",
    "    with tf.name_scope('Layer'):\n",
    "        with tf.name_scope('Weights'):\n",
    "            W = tf.Variable(tf.random_normal([input_tensors, output_tensors]))\n",
    "        with tf.name_scope('Biases'):\n",
    "            b = tf.Variable(tf.zeros([1, output_tensors]))\n",
    "        with tf.name_scope('Formula'):\n",
    "            formula = tf.add(tf.matmul(inputs, W), b)\n",
    "        if activation_function is None:\n",
    "            outputs = formula\n",
    "        else:\n",
    "            outputs = activation_function(formula)\n",
    "        return outputs\n",
    "\n",
    "# 準備資料\n",
    "x_data = np.random.rand(100)\n",
    "x_data = x_data.reshape(len(x_data), 1)\n",
    "y_data = x_data * 0.1 + 0.3\n",
    "\n",
    "# 建立 Feeds\n",
    "with tf.name_scope('Inputs'):\n",
    "    x_feeds = tf.placeholder(tf.float32, shape = [None, 1])\n",
    "    y_feeds = tf.placeholder(tf.float32, shape = [None, 1])\n",
    "\n",
    "# 添加 1 個隱藏層\n",
    "hidden_layer = add_layer(x_feeds, input_tensors = 1, output_tensors = 10, activation_function = None)\n",
    "\n",
    "# 添加 1 個輸出層\n",
    "output_layer = add_layer(hidden_layer, input_tensors = 10, output_tensors = 1, activation_function = None)\n",
    "\n",
    "# 定義 `loss` 與要使用的 Optimizer\n",
    "with tf.name_scope('Loss'):\n",
    "    loss = tf.reduce_mean(tf.square(y_feeds - output_layer))\n",
    "with tf.name_scope('Train'):\n",
    "    optimizer = tf.train.GradientDescentOptimizer(learning_rate = 0.01)\n",
    "    train = optimizer.minimize(loss)\n",
    "\n",
    "# 初始化 Graph\n",
    "init = tf.global_variables_initializer()\n",
    "sess = tf.Session()\n",
    "\n",
    "# 將視覺化輸出\n",
    "writer = tf.summary.FileWriter(\"TensorBoard\", graph = sess.graph)\n",
    "\n",
    "# 開始運算\n",
    "sess.run(init)\n",
    "for step in range(201):\n",
    "    sess.run(train, feed_dict = {x_feeds: x_data, y_feeds: y_data})\n",
    "    #if step % 20 == 0:\n",
    "        #print(sess.run(loss, feed_dict = {x_feeds: x_data, y_feeds: y_data}))\n",
    "\n",
    "sess.close()"
   ]
  },
  {
   "cell_type": "markdown",
   "metadata": {
    "collapsed": true
   },
   "source": [
    "\n",
    "回到終端機可以看到視覺化檔案已經生成，\n",
    "\n",
    "接著利用 cd 指令切換到 \"TensorBoard 的上一層，執行這段指令：\n",
    "\n",
    " tensorboard --logdir=TensorBoard\n",
    "    \n",
    "等我們看到系統回覆之後，就可以打開瀏覽器，在網址列輸入：localhost:6006 ，就可以在 Graphs 頁籤下看到神經網絡圖。\n",
    "\n",
    "<div class=\"burk\">**路徑中不可包含中文**</div><i class=\"fa fa-lightbulb-o \"></i>\n",
    "\n",
    "因此在桌面生成一個"
   ]
  },
  {
   "cell_type": "code",
   "execution_count": null,
   "metadata": {
    "collapsed": true
   },
   "outputs": [],
   "source": []
  }
 ],
 "metadata": {
  "kernelspec": {
   "display_name": "Python 3",
   "language": "python",
   "name": "python3"
  },
  "language_info": {
   "codemirror_mode": {
    "name": "ipython",
    "version": 3
   },
   "file_extension": ".py",
   "mimetype": "text/x-python",
   "name": "python",
   "nbconvert_exporter": "python",
   "pygments_lexer": "ipython3",
   "version": "3.6.1"
  },
  "toc": {
   "colors": {
    "hover_highlight": "#DAA520",
    "navigate_num": "#000000",
    "navigate_text": "#333333",
    "running_highlight": "#FF0000",
    "selected_highlight": "#FFD700",
    "sidebar_border": "#EEEEEE",
    "wrapper_background": "#FFFFFF"
   },
   "moveMenuLeft": true,
   "nav_menu": {
    "height": "84px",
    "width": "252px"
   },
   "navigate_menu": true,
   "number_sections": true,
   "sideBar": true,
   "threshold": 4,
   "toc_cell": false,
   "toc_section_display": "block",
   "toc_window_display": true,
   "widenNotebook": false
  }
 },
 "nbformat": 4,
 "nbformat_minor": 2
}
