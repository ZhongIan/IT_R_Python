{
 "cells": [
  {
   "cell_type": "markdown",
   "metadata": {},
   "source": [
    "http://ithelp.ithome.com.tw/articles/10187702"
   ]
  },
  {
   "cell_type": "markdown",
   "metadata": {},
   "source": [
    "# 第一步（pip 安裝）\n",
    "\n",
    "在終端機使用 pip 指令安裝 TensorFlow："
   ]
  },
  {
   "cell_type": "markdown",
   "metadata": {},
   "source": [
    "可參考 ~雲端硬碟/learn/jupyter/tensorflow/tensorflow.ipynb"
   ]
  },
  {
   "cell_type": "markdown",
   "metadata": {},
   "source": [
    "# 第二步（測試）\n",
    "\n",
    "進入 jupyter notebook 測試以下程式："
   ]
  },
  {
   "cell_type": "code",
   "execution_count": 1,
   "metadata": {},
   "outputs": [
    {
     "name": "stdout",
     "output_type": "stream",
     "text": [
      "b'Hello, TensorFlow!'\n"
     ]
    }
   ],
   "source": [
    "import tensorflow as tf\n",
    "hello = tf.constant('Hello, TensorFlow!')\n",
    "sess = tf.Session()\n",
    "print(sess.run(hello))"
   ]
  },
  {
   "cell_type": "markdown",
   "metadata": {},
   "source": [
    "# 快速實作\n",
    "\n",
    "讓我們跟著官方文件實作第一個 TensorFlow 程式，\n",
    "\n",
    "我們要利用梯度遞減（Gradient descent）的演算法找出已知迴歸模型（y = 0.1x + 0.3）的係數（0.1）與截距（0.3）並對照結果。\n",
    "\n",
    "TensorFlow 一直到 sess.run() 才開始作用，前面都只是在建立資料流的結構。"
   ]
  },
  {
   "cell_type": "code",
   "execution_count": 3,
   "metadata": {},
   "outputs": [
    {
     "name": "stdout",
     "output_type": "stream",
     "text": [
      "0 [ 0.00030005] [ 0.44892299]\n",
      "20 [ 0.05717007] [ 0.32069048]\n",
      "40 [ 0.08681855] [ 0.30636778]\n",
      "60 [ 0.09594326] [ 0.30195975]\n",
      "80 [ 0.09875149] [ 0.30060315]\n",
      "100 [ 0.09961578] [ 0.30018562]\n",
      "120 [ 0.09988177] [ 0.30005714]\n",
      "140 [ 0.09996361] [ 0.3000176]\n",
      "160 [ 0.0999888] [ 0.30000544]\n",
      "180 [ 0.09999655] [ 0.30000168]\n",
      "200 [ 0.09999894] [ 0.30000052]\n"
     ]
    }
   ],
   "source": [
    "import tensorflow as tf\n",
    "import numpy as np\n",
    "\n",
    "# 準備資料\n",
    "x_data = np.random.rand(100).astype(np.float32)\n",
    "y_data = x_data * 0.1 + 0.3\n",
    "\n",
    "# W 指的是係數，斜率介於 -1 至 1 之間\n",
    "# b 指的是截距，從 0 開始逼近任意數字\n",
    "# y 指的是預測值\n",
    "W = tf.Variable(tf.random_uniform([1], -1.0, 1.0))\n",
    "b = tf.Variable(tf.zeros([1]))\n",
    "y = W * x_data + b\n",
    "\n",
    "# 我們的目標是要讓 loss（MSE）最小化\n",
    "loss = tf.reduce_mean(tf.square(y - y_data))\n",
    "optimizer = tf.train.GradientDescentOptimizer(learning_rate = 0.5)\n",
    "train = optimizer.minimize(loss)\n",
    "\n",
    "# 初始化\n",
    "init = tf.global_variables_initializer()\n",
    "\n",
    "# 將神經網絡圖畫出來\n",
    "sess = tf.Session()\n",
    "sess.run(init)\n",
    "\n",
    "# 將迴歸線的係數與截距模擬出來\n",
    "# 每跑 20 次把當時的係數與截距印出來\n",
    "for step in range(201):\n",
    "    sess.run(train)\n",
    "    if step % 20 == 0:\n",
    "        print(step, sess.run(W), sess.run(b))\n",
    "        \n",
    "# 關閉 Session\n",
    "sess.close()"
   ]
  },
  {
   "cell_type": "code",
   "execution_count": 7,
   "metadata": {},
   "outputs": [
    {
     "data": {
      "text/html": [
       "<!--為了使表格置右-->\n",
       "<style>\n",
       "  table {margin-left: 0 !important;}\n",
       "</style>"
      ],
      "text/plain": [
       "<IPython.core.display.HTML object>"
      ]
     },
     "metadata": {},
     "output_type": "display_data"
    }
   ],
   "source": [
    "%%html\n",
    "<!--為了使表格置右-->\n",
    "<style>\n",
    "  table {margin-left: 0 !important;}\n",
    "</style>\n"
   ]
  },
  {
   "cell_type": "markdown",
   "metadata": {},
   "source": [
    "# 基礎使用\n",
    "\n",
    "應用 TensorFlow 的時候我們得了解她的名詞與定義：\n",
    "\n",
    "名詞|\t定義\n",
    "---|---\n",
    "Graphs|\t建立運算元\n",
    "Sessions|\t執行運算\n",
    "Tensors|\t資料\n",
    "Variables|\t變數\n",
    "Feeds|\t資料輸入\n",
    "Fetches|\t資料輸出"
   ]
  },
  {
   "cell_type": "markdown",
   "metadata": {},
   "source": [
    "## 建立運算元"
   ]
  },
  {
   "cell_type": "code",
   "execution_count": 13,
   "metadata": {},
   "outputs": [],
   "source": [
    "import tensorflow as tf\n",
    "\n",
    "# 1x2 的矩陣\n",
    "matrix1 = tf.constant([[3, 3]])\n",
    "\n",
    "# 2x1 的矩陣\n",
    "matrix2 = tf.constant([[2],\n",
    "                       [2]]\n",
    "                      )\n",
    "\n",
    "# matmul() 方法代表是矩陣的乘法，答案是 12\n",
    "product = tf.matmul(matrix1, matrix2)"
   ]
  },
  {
   "cell_type": "markdown",
   "metadata": {},
   "source": [
    "現在我們的運算元已經建立好，有三個節點，分別是兩個 constant() 與一個 matmul()，意即神經網絡的圖已經建構完成，但是尚未執行運算。"
   ]
  },
  {
   "cell_type": "markdown",
   "metadata": {},
   "source": [
    "## 執行運算\n",
    "\n",
    "### 方法一\n",
    "\n",
    "記得使用 close() 方法關閉 Session。"
   ]
  },
  {
   "cell_type": "code",
   "execution_count": 14,
   "metadata": {},
   "outputs": [
    {
     "name": "stdout",
     "output_type": "stream",
     "text": [
      "[[12]]\n"
     ]
    }
   ],
   "source": [
    "import tensorflow as tf\n",
    "\n",
    "# 1x2 的矩陣\n",
    "matrix1 = tf.constant([[3, 3]])\n",
    "\n",
    "# 2x1 的矩陣\n",
    "matrix2 = tf.constant([[2],\n",
    "                       [2]]\n",
    "                      )\n",
    "\n",
    "# matmul() 方法代表是矩陣的乘法\n",
    "product = tf.matmul(matrix1, matrix2)\n",
    "\n",
    "# 啟動 Session\n",
    "sess = tf.Session()\n",
    "result = sess.run(product)\n",
    "print(result)\n",
    "\n",
    "# 關閉 Session\n",
    "sess.close()"
   ]
  },
  {
   "cell_type": "markdown",
   "metadata": {},
   "source": [
    "### 方法二\n",
    "\n",
    "不需要另外關閉 Session。"
   ]
  },
  {
   "cell_type": "code",
   "execution_count": 15,
   "metadata": {},
   "outputs": [
    {
     "name": "stdout",
     "output_type": "stream",
     "text": [
      "[array([[12]])]\n"
     ]
    }
   ],
   "source": [
    "import tensorflow as tf\n",
    "\n",
    "# 1x2 的矩陣\n",
    "matrix1 = tf.constant([[3, 3]])\n",
    "\n",
    "# 2x1 的矩陣\n",
    "matrix2 = tf.constant([[2],\n",
    "                       [2]]\n",
    "                      )\n",
    "\n",
    "# matmul() 方法代表是矩陣的乘法\n",
    "product = tf.matmul(matrix1, matrix2)\n",
    "\n",
    "# 啟動\n",
    "with tf.Session() as sess:\n",
    "    result = sess.run([product])\n",
    "    print(result)"
   ]
  },
  {
   "cell_type": "markdown",
   "metadata": {},
   "source": [
    "### 方法三\n",
    "\n",
    "要將 matrix1 設定為 Variable 然後再由她來初始化。"
   ]
  },
  {
   "cell_type": "code",
   "execution_count": 16,
   "metadata": {},
   "outputs": [
    {
     "name": "stdout",
     "output_type": "stream",
     "text": [
      "[[12]]\n"
     ]
    }
   ],
   "source": [
    "# 啟動 Session\n",
    "import tensorflow as tf\n",
    "sess = tf.InteractiveSession()\n",
    "\n",
    "# 1x2 的矩陣\n",
    "# 注意這裡改變成 Variable\n",
    "matrix1 = tf.Variable([[3, 3]])\n",
    "\n",
    "# 2x1 的矩陣\n",
    "matrix2 = tf.constant([[2],\n",
    "                       [2]]\n",
    "                      )\n",
    "\n",
    "# 初始化 `matrix1`\n",
    "matrix1.initializer.run()\n",
    "\n",
    "# 執行運算\n",
    "result = tf.matmul(matrix1, matrix2)\n",
    "print(result.eval())\n",
    "\n",
    "# 關閉 Session\n",
    "sess.close()"
   ]
  },
  {
   "cell_type": "markdown",
   "metadata": {},
   "source": [
    "## 變數"
   ]
  },
  {
   "cell_type": "code",
   "execution_count": 17,
   "metadata": {},
   "outputs": [
    {
     "name": "stdout",
     "output_type": "stream",
     "text": [
      "0\n"
     ]
    },
    {
     "data": {
      "text/plain": [
       "1"
      ]
     },
     "execution_count": 17,
     "metadata": {},
     "output_type": "execute_result"
    },
    {
     "name": "stdout",
     "output_type": "stream",
     "text": [
      "1\n"
     ]
    },
    {
     "data": {
      "text/plain": [
       "2"
      ]
     },
     "execution_count": 17,
     "metadata": {},
     "output_type": "execute_result"
    },
    {
     "name": "stdout",
     "output_type": "stream",
     "text": [
      "2\n"
     ]
    },
    {
     "data": {
      "text/plain": [
       "3"
      ]
     },
     "execution_count": 17,
     "metadata": {},
     "output_type": "execute_result"
    },
    {
     "name": "stdout",
     "output_type": "stream",
     "text": [
      "3\n"
     ]
    }
   ],
   "source": [
    "import tensorflow as tf\n",
    "\n",
    "# 建立 Variable\n",
    "state = tf.Variable(0, name=\"counter\")\n",
    "\n",
    "# 每次加 1 之後更新 state\n",
    "one = tf.constant(1)\n",
    "new_value = tf.add(state, one)\n",
    "update = tf.assign(state, new_value)\n",
    "\n",
    "# 初始化\n",
    "init_op = tf.global_variables_initializer()\n",
    "\n",
    "# 執行運算\n",
    "with tf.Session() as sess:\n",
    "    sess.run(init_op)\n",
    "    # 印初始值\n",
    "    print(sess.run(state))\n",
    "    # 更新三次分別印出 Variable\n",
    "    for _ in range(3):\n",
    "        sess.run(update)\n",
    "        print(sess.run(state))\n",
    "        \n",
    "# 關閉 Session\n",
    "sess.close()"
   ]
  },
  {
   "cell_type": "markdown",
   "metadata": {},
   "source": [
    "## 資料輸入\n",
    "\n",
    "先利用 tf.placeholder() 宣告資料的種類，在執行的時候才將資料以字典（dictionary）的結構輸入。"
   ]
  },
  {
   "cell_type": "code",
   "execution_count": 19,
   "metadata": {},
   "outputs": [
    {
     "name": "stdout",
     "output_type": "stream",
     "text": [
      "[array([ 21.], dtype=float32)]\n"
     ]
    }
   ],
   "source": [
    "import tensorflow as tf\n",
    "\n",
    "input1 = tf.placeholder(tf.float32)\n",
    "input2 = tf.placeholder(tf.float32)\n",
    "output = tf.multiply(input1, input2)\n",
    "\n",
    "# 將 input1 以 7 輸入，input2 以 3 輸入\n",
    "with tf.Session() as sess:\n",
    "    print(sess.run([output], feed_dict = {input1: [7], input2: [3]}))"
   ]
  },
  {
   "cell_type": "markdown",
   "metadata": {},
   "source": [
    "## 資料輸出\n"
   ]
  },
  {
   "cell_type": "code",
   "execution_count": 23,
   "metadata": {},
   "outputs": [
    {
     "name": "stdout",
     "output_type": "stream",
     "text": [
      "[array([8]), array([15])]\n"
     ]
    }
   ],
   "source": [
    "input1 = tf.constant([3])\n",
    "input2 = tf.constant([5])\n",
    "added = tf.add(input1, input2)\n",
    "multiplied = tf.multiply(input1, input2)\n",
    "\n",
    "# 輸出 added 與 multiplied\n",
    "with tf.Session() as sess:\n",
    "    result = sess.run([added, multiplied])\n",
    "    print(result)"
   ]
  },
  {
   "cell_type": "code",
   "execution_count": null,
   "metadata": {
    "collapsed": true
   },
   "outputs": [],
   "source": []
  }
 ],
 "metadata": {
  "kernelspec": {
   "display_name": "Python 3",
   "language": "python",
   "name": "python3"
  },
  "language_info": {
   "codemirror_mode": {
    "name": "ipython",
    "version": 3
   },
   "file_extension": ".py",
   "mimetype": "text/x-python",
   "name": "python",
   "nbconvert_exporter": "python",
   "pygments_lexer": "ipython3",
   "version": "3.6.1"
  },
  "toc": {
   "colors": {
    "hover_highlight": "#DAA520",
    "navigate_num": "#000000",
    "navigate_text": "#333333",
    "running_highlight": "#FF0000",
    "selected_highlight": "#FFD700",
    "sidebar_border": "#EEEEEE",
    "wrapper_background": "#FFFFFF"
   },
   "moveMenuLeft": true,
   "nav_menu": {
    "height": "228px",
    "width": "252px"
   },
   "navigate_menu": true,
   "number_sections": true,
   "sideBar": true,
   "threshold": 4,
   "toc_cell": false,
   "toc_section_display": "block",
   "toc_window_display": true,
   "widenNotebook": false
  }
 },
 "nbformat": 4,
 "nbformat_minor": 2
}
