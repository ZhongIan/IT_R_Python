{
 "cells": [
  {
   "cell_type": "markdown",
   "metadata": {},
   "source": [
    "http://ithelp.ithome.com.tw/articles/10185299"
   ]
  },
  {
   "cell_type": "code",
   "execution_count": 1,
   "metadata": {},
   "outputs": [
    {
     "data": {
      "text/html": [
       "49"
      ],
      "text/latex": [
       "49"
      ],
      "text/markdown": [
       "49"
      ],
      "text/plain": [
       "[1] 49"
      ]
     },
     "metadata": {},
     "output_type": "display_data"
    },
    {
     "data": {
      "text/html": [
       "8"
      ],
      "text/latex": [
       "8"
      ],
      "text/markdown": [
       "8"
      ],
      "text/plain": [
       "[1] 8"
      ]
     },
     "metadata": {},
     "output_type": "display_data"
    },
    {
     "data": {
      "text/html": [
       "12"
      ],
      "text/latex": [
       "12"
      ],
      "text/markdown": [
       "12"
      ],
      "text/plain": [
       "[1] 12"
      ]
     },
     "metadata": {},
     "output_type": "display_data"
    },
    {
     "data": {
      "text/html": [
       "12"
      ],
      "text/latex": [
       "12"
      ],
      "text/markdown": [
       "12"
      ],
      "text/plain": [
       "[1] 12"
      ]
     },
     "metadata": {},
     "output_type": "display_data"
    },
    {
     "data": {
      "text/html": [
       "6"
      ],
      "text/latex": [
       "6"
      ],
      "text/markdown": [
       "6"
      ],
      "text/plain": [
       "[1] 6"
      ]
     },
     "metadata": {},
     "output_type": "display_data"
    },
    {
     "data": {
      "text/html": [
       "61"
      ],
      "text/latex": [
       "61"
      ],
      "text/markdown": [
       "61"
      ],
      "text/plain": [
       "[1] 61"
      ]
     },
     "metadata": {},
     "output_type": "display_data"
    }
   ],
   "source": [
    "ironmen <- c(49, 8, 12, 12, 6, 61)\n",
    "ironmen[1]\n",
    "ironmen[2]\n",
    "ironmen[3]\n",
    "ironmen[4]\n",
    "ironmen[5]\n",
    "ironmen[6]"
   ]
  },
  {
   "cell_type": "markdown",
   "metadata": {},
   "source": [
    "# R 語言的迴圈\n",
    "\n",
    "for 與 while \n",
    "\n",
    "## for 迴圈"
   ]
  },
  {
   "cell_type": "code",
   "execution_count": 2,
   "metadata": {},
   "outputs": [
    {
     "name": "stdout",
     "output_type": "stream",
     "text": [
      "[1] 49\n",
      "[1] 8\n",
      "[1] 12\n",
      "[1] 12\n",
      "[1] 6\n",
      "[1] 61\n"
     ]
    },
    {
     "data": {
      "text/html": [
       "61"
      ],
      "text/latex": [
       "61"
      ],
      "text/markdown": [
       "61"
      ],
      "text/plain": [
       "[1] 61"
      ]
     },
     "metadata": {},
     "output_type": "display_data"
    },
    {
     "name": "stdout",
     "output_type": "stream",
     "text": [
      "[1] 49\n",
      "[1] 8\n",
      "[1] 12\n",
      "[1] 12\n",
      "[1] 6\n",
      "[1] 61\n"
     ]
    },
    {
     "data": {
      "text/html": [
       "6"
      ],
      "text/latex": [
       "6"
      ],
      "text/markdown": [
       "6"
      ],
      "text/plain": [
       "[1] 6"
      ]
     },
     "metadata": {},
     "output_type": "display_data"
    }
   ],
   "source": [
    "# 不帶索引值的寫法\n",
    "ironmen <- c(49, 8, 12, 12, 6, 61)\n",
    "for (ironman in ironmen) {\n",
    "    print(ironman)\n",
    "}\n",
    "ironman # 把迴圈的迭代器（iterator）或稱游標（cursor）最後的值印出來看看\n",
    "\n",
    "# 帶索引值的寫法\n",
    "for (index in 1:length(ironmen)) {\n",
    "    print(ironmen[index])\n",
    "}\n",
    "index # 把迴圈的迭代器（iterator）或稱游標（cursor）最後的值印出來看看"
   ]
  },
  {
   "cell_type": "markdown",
   "metadata": {},
   "source": [
    "## while 迴圈"
   ]
  },
  {
   "cell_type": "code",
   "execution_count": 4,
   "metadata": {},
   "outputs": [
    {
     "name": "stdout",
     "output_type": "stream",
     "text": [
      "[1] 49\n",
      "[1] 8\n",
      "[1] 12\n",
      "[1] 12\n",
      "[1] 6\n",
      "[1] 61\n"
     ]
    },
    {
     "data": {
      "text/html": [
       "7"
      ],
      "text/latex": [
       "7"
      ],
      "text/markdown": [
       "7"
      ],
      "text/plain": [
       "[1] 7"
      ]
     },
     "metadata": {},
     "output_type": "display_data"
    }
   ],
   "source": [
    "ironmen <- c(49, 8, 12, 12, 6, 61)\n",
    "index <- 1\n",
    "while (index <= length(ironmen)) {\n",
    "    print(ironmen[index])\n",
    "    index <- index + 1\n",
    "}\n",
    "index # 把迴圈的迭代器（iterator）或稱游標（cursor）最後的值印出來看看"
   ]
  },
  {
   "cell_type": "markdown",
   "metadata": {},
   "source": [
    "# R 語言的流程控制\n",
    "\n",
    "R 語言可以透過 if-else if-else 的結構創造程式執行的分支，\n",
    "    \n",
    "當我們只有兩個分支，使用 if-else 就足夠，\n",
    "    \n",
    "多個分支時還有一個額外的 switch() 函數供我們選擇。"
   ]
  },
  {
   "cell_type": "markdown",
   "metadata": {},
   "source": [
    "## if-else\n",
    "\n",
    "整數除以 2 的餘數只會有兩種答案，使用 if-else 結構依照餘數的值回傳對應的訊息。"
   ]
  },
  {
   "cell_type": "code",
   "execution_count": 7,
   "metadata": {},
   "outputs": [
    {
     "name": "stdout",
     "output_type": "stream",
     "text": [
      "[1] \"1 是奇數\"\n",
      "[1] \"2 是偶數\"\n",
      "[1] \"3 是奇數\"\n",
      "[1] \"4 是偶數\"\n",
      "[1] \"5 是奇數\"\n",
      "[1] \"6 是偶數\"\n",
      "[1] \"7 是奇數\"\n",
      "[1] \"8 是偶數\"\n",
      "[1] \"9 是奇數\"\n",
      "[1] \"10 是偶數\"\n"
     ]
    }
   ],
   "source": [
    "my_seq <- 1:10\n",
    "for (i in my_seq) {\n",
    "    if (i %% 2 == 0) {\n",
    "        print(paste(i, \"是偶數\"))\n",
    "    } else {\n",
    "        print(paste(i, \"是奇數\"))\n",
    "    }\n",
    "}"
   ]
  },
  {
   "cell_type": "markdown",
   "metadata": {},
   "source": [
    "## if-else if-else\n",
    "\n",
    "整數除以 3 的餘數會有三種答案，使用 if-else if-else 結構依照餘數的值回傳對應的訊息。"
   ]
  },
  {
   "cell_type": "code",
   "execution_count": 8,
   "metadata": {},
   "outputs": [
    {
     "name": "stdout",
     "output_type": "stream",
     "text": [
      "[1] \"1 除以 3 餘數是 1\"\n",
      "[1] \"2 除以 3 餘數是 2\"\n",
      "[1] \"3 可以被 3 整除\"\n",
      "[1] \"4 除以 3 餘數是 1\"\n",
      "[1] \"5 除以 3 餘數是 2\"\n",
      "[1] \"6 可以被 3 整除\"\n",
      "[1] \"7 除以 3 餘數是 1\"\n",
      "[1] \"8 除以 3 餘數是 2\"\n",
      "[1] \"9 可以被 3 整除\"\n",
      "[1] \"10 除以 3 餘數是 1\"\n"
     ]
    }
   ],
   "source": [
    "my_seq <- 1:10\n",
    "for (i in my_seq) {\n",
    "    if (i %% 3 == 0) {\n",
    "        print(paste(i, \"可以被 3 整除\"))\n",
    "    } else if (i %% 3 == 1) {\n",
    "        print(paste(i, \"除以 3 餘數是 1\"))\n",
    "    } else {\n",
    "        print(paste(i, \"除以 3 餘數是 2\"))\n",
    "    }\n",
    "}"
   ]
  },
  {
   "cell_type": "markdown",
   "metadata": {},
   "source": [
    "# switch() 函數\n",
    "\n",
    "將 if-else if-else 結構用 switch() 函數改寫，這裡要注意的是我們要先調整為用文字型態來判斷。"
   ]
  },
  {
   "cell_type": "code",
   "execution_count": 9,
   "metadata": {},
   "outputs": [
    {
     "name": "stdout",
     "output_type": "stream",
     "text": [
      "[1] \"1 除以 3 餘數是 1\"\n",
      "[1] \"2 除以 3 餘數是 2\"\n",
      "[1] \"3 可以被 3 整除\"\n",
      "[1] \"4 除以 3 餘數是 1\"\n",
      "[1] \"5 除以 3 餘數是 2\"\n",
      "[1] \"6 可以被 3 整除\"\n",
      "[1] \"7 除以 3 餘數是 1\"\n",
      "[1] \"8 除以 3 餘數是 2\"\n",
      "[1] \"9 可以被 3 整除\"\n",
      "[1] \"10 除以 3 餘數是 1\"\n"
     ]
    }
   ],
   "source": [
    "my_seq <- 1:10\n",
    "for (i in my_seq) {\n",
    "    ans <- i %% 3\n",
    "    switch(as.character(ans),\n",
    "        \"0\" = print(paste(i, \"可以被 3 整除\")),\n",
    "        \"1\" = print(paste(i, \"除以 3 餘數是 1\")),\n",
    "        \"2\" = print(paste(i, \"除以 3 餘數是 2\"))\n",
    "    )\n",
    "}"
   ]
  },
  {
   "cell_type": "markdown",
   "metadata": {},
   "source": [
    "# R 語言的 break 與 next 描述\n",
    "\n",
    "利用 break 描述告訴 for 迴圈當迭代器（此處指變數 ironman）小於 10 的時候要結束迴圈；\n",
    "\n",
    "利用 next 描述告訴 for 迴圈當迭代器小於 10 的時候要跳過它然後繼續執行。"
   ]
  },
  {
   "cell_type": "code",
   "execution_count": 10,
   "metadata": {},
   "outputs": [
    {
     "name": "stdout",
     "output_type": "stream",
     "text": [
      "[1] 49\n"
     ]
    },
    {
     "data": {
      "text/html": [
       "8"
      ],
      "text/latex": [
       "8"
      ],
      "text/markdown": [
       "8"
      ],
      "text/plain": [
       "[1] 8"
      ]
     },
     "metadata": {},
     "output_type": "display_data"
    },
    {
     "name": "stdout",
     "output_type": "stream",
     "text": [
      "[1] 49\n",
      "[1] 12\n",
      "[1] 12\n",
      "[1] 61\n"
     ]
    },
    {
     "data": {
      "text/html": [
       "61"
      ],
      "text/latex": [
       "61"
      ],
      "text/markdown": [
       "61"
      ],
      "text/plain": [
       "[1] 61"
      ]
     },
     "metadata": {},
     "output_type": "display_data"
    }
   ],
   "source": [
    "# break 描述\n",
    "ironmen <- c(49, 8, 12, 12, 6, 61)\n",
    "for (ironman in ironmen) {\n",
    "    if (ironman < 10) {\n",
    "        break\n",
    "    } else {\n",
    "        print(ironman)\n",
    "    }\n",
    "}\n",
    "ironman # 把迴圈的迭代器（iterator）或稱游標（cursor）最後的值印出來看看\n",
    "\n",
    "# next 描述\n",
    "for (ironman in ironmen) {\n",
    "    if (ironman <= 10) {\n",
    "        next\n",
    "    } else {\n",
    "        print(ironman)\n",
    "    }\n",
    "}\n",
    "ironman # 把迴圈的迭代器（iterator）或稱游標（cursor）最後的值印出來看看"
   ]
  },
  {
   "cell_type": "code",
   "execution_count": null,
   "metadata": {
    "collapsed": true
   },
   "outputs": [],
   "source": []
  }
 ],
 "metadata": {
  "kernelspec": {
   "display_name": "R",
   "language": "R",
   "name": "ir"
  },
  "language_info": {
   "codemirror_mode": "r",
   "file_extension": ".r",
   "mimetype": "text/x-r-source",
   "name": "R",
   "pygments_lexer": "r",
   "version": "3.4.1"
  }
 },
 "nbformat": 4,
 "nbformat_minor": 2
}
