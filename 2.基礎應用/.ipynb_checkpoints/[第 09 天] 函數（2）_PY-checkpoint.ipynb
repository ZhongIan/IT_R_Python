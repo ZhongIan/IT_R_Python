{
 "cells": [
  {
   "cell_type": "markdown",
   "metadata": {},
   "source": [
    "http://ithelp.ithome.com.tw/articles/10185485"
   ]
  },
  {
   "cell_type": "markdown",
   "metadata": {},
   "source": [
    "+ 變數範圍（Scope），\n",
    "+ 巢狀函數（Nested functions），\n",
    "+ 錯誤處理（Error Handling）以及 \n",
    "+ Python 特殊的彈性參數（Flexible arguments）。"
   ]
  },
  {
   "cell_type": "markdown",
   "metadata": {},
   "source": [
    "# 變數範圍（Scope）"
   ]
  },
  {
   "cell_type": "markdown",
   "metadata": {},
   "source": [
    "Python\n",
    "\n",
    "我們自訂一個單純的 my_square() 函數將輸入的數字平方後回傳。"
   ]
  },
  {
   "cell_type": "code",
   "execution_count": 2,
   "metadata": {},
   "outputs": [
    {
     "name": "stdout",
     "output_type": "stream",
     "text": [
      "9\n"
     ]
    },
    {
     "ename": "NameError",
     "evalue": "name 'ans' is not defined",
     "output_type": "error",
     "traceback": [
      "\u001b[1;31m---------------------------------------------------------------------------\u001b[0m",
      "\u001b[1;31mNameError\u001b[0m                                 Traceback (most recent call last)",
      "\u001b[1;32m<ipython-input-2-d47288a50674>\u001b[0m in \u001b[0;36m<module>\u001b[1;34m()\u001b[0m\n\u001b[0;32m      9\u001b[0m \u001b[1;33m\u001b[0m\u001b[0m\n\u001b[0;32m     10\u001b[0m \u001b[1;31m# 印出變數\u001b[0m\u001b[1;33m\u001b[0m\u001b[1;33m\u001b[0m\u001b[0m\n\u001b[1;32m---> 11\u001b[1;33m \u001b[0mprint\u001b[0m\u001b[1;33m(\u001b[0m\u001b[0mans\u001b[0m\u001b[1;33m)\u001b[0m \u001b[1;31m# 無法印出區域變數\u001b[0m\u001b[1;33m\u001b[0m\u001b[0m\n\u001b[0m",
      "\u001b[1;31mNameError\u001b[0m: name 'ans' is not defined"
     ]
    }
   ],
   "source": [
    "# 定義自訂函數\n",
    "def my_square(input_number):\n",
    "    '計算平方數'\n",
    "    ans = input_number**2 # 區域變數，只有在函數中可以被使用\n",
    "    return ans\n",
    "\n",
    "# 呼叫函數\n",
    "print(my_square(3))\n",
    "\n",
    "# 印出變數\n",
    "print(ans) # 無法印出區域變數"
   ]
  },
  {
   "cell_type": "markdown",
   "metadata": {},
   "source": [
    "換一種寫法我們將 ans 在函數外也指派一次。"
   ]
  },
  {
   "cell_type": "code",
   "execution_count": 3,
   "metadata": {},
   "outputs": [
    {
     "name": "stdout",
     "output_type": "stream",
     "text": [
      "9\n",
      "1\n"
     ]
    }
   ],
   "source": [
    "ans = 1 # 全域變數\n",
    "# 定義自訂函數\n",
    "def my_square(input_number):\n",
    "    '計算平方數'\n",
    "    ans = input_number**2 # 區域變數，只有在函數中可以被使用\n",
    "    return ans\n",
    "\n",
    "# 呼叫函數\n",
    "print(my_square(3))\n",
    "\n",
    "# 印出變數\n",
    "print(ans) # 全域變數"
   ]
  },
  {
   "cell_type": "markdown",
   "metadata": {},
   "source": [
    "# 巢狀函數（Nested functions）\n",
    "\n",
    "我們可以在函數裡面嵌入函數，舉例來說一個計算平均數的函數裡面應該要包含兩個函數，\n",
    "\n",
    "一個是計算總和的函數 my_sum()，一個是計算個數的函數 my_length()。"
   ]
  },
  {
   "cell_type": "code",
   "execution_count": 5,
   "metadata": {},
   "outputs": [
    {
     "name": "stdout",
     "output_type": "stream",
     "text": [
      "26.666666666666668\n"
     ]
    }
   ],
   "source": [
    "# 定義自訂函數\n",
    "def my_mean(input_list):\n",
    "    '計算平均數'\n",
    "    def my_sum(input_list):\n",
    "        '計算總和'\n",
    "        temp_sum = 0\n",
    "        for i in input_list:\n",
    "            temp_sum += i\n",
    "        return temp_sum\n",
    "    def my_length(input_list):\n",
    "        '計算個數'\n",
    "        temp_length = 0\n",
    "        for i in input_list:\n",
    "            temp_length += 1\n",
    "        return temp_length\n",
    "    return my_sum(input_list) / my_length(input_list)\n",
    "\n",
    "# 呼叫自訂函數\n",
    "my_list = [51, 8, 18, 13, 6, 64]\n",
    "print(my_mean(my_list))"
   ]
  },
  {
   "cell_type": "markdown",
   "metadata": {},
   "source": [
    "# 錯誤處理（Error Handling）\n",
    "\n",
    "我們在使用內建函數時候常有各種原因會導致錯誤或者警示，這時收到的回傳訊息可以幫助我們修改程式。"
   ]
  },
  {
   "cell_type": "code",
   "execution_count": 6,
   "metadata": {},
   "outputs": [
    {
     "name": "stdout",
     "output_type": "stream",
     "text": [
      "1\n"
     ]
    },
    {
     "ename": "ValueError",
     "evalue": "invalid literal for int() with base 10: 'True'",
     "output_type": "error",
     "traceback": [
      "\u001b[1;31m---------------------------------------------------------------------------\u001b[0m",
      "\u001b[1;31mValueError\u001b[0m                                Traceback (most recent call last)",
      "\u001b[1;32m<ipython-input-6-16edee9f4b83>\u001b[0m in \u001b[0;36m<module>\u001b[1;34m()\u001b[0m\n\u001b[0;32m      1\u001b[0m \u001b[0mprint\u001b[0m\u001b[1;33m(\u001b[0m\u001b[0mint\u001b[0m\u001b[1;33m(\u001b[0m\u001b[1;32mTrue\u001b[0m\u001b[1;33m)\u001b[0m\u001b[1;33m)\u001b[0m\u001b[1;33m\u001b[0m\u001b[0m\n\u001b[1;32m----> 2\u001b[1;33m \u001b[0mprint\u001b[0m\u001b[1;33m(\u001b[0m\u001b[0mint\u001b[0m\u001b[1;33m(\u001b[0m\u001b[1;34m\"True\"\u001b[0m\u001b[1;33m)\u001b[0m\u001b[1;33m)\u001b[0m\u001b[1;33m\u001b[0m\u001b[0m\n\u001b[0m",
      "\u001b[1;31mValueError\u001b[0m: invalid literal for int() with base 10: 'True'"
     ]
    }
   ],
   "source": [
    "print(int(True))\n",
    "print(int(\"True\"))"
   ]
  },
  {
   "cell_type": "markdown",
   "metadata": {},
   "source": [
    "# Python\n",
    "\n",
    "Python 使用 try - except 的語法結構進行錯誤處理，\n",
    "\n",
    "讓我們修改原本計算平方數的 my_square() 當使用者輸入文字時會回傳客製錯誤訊息：「請輸入數值。」"
   ]
  },
  {
   "cell_type": "code",
   "execution_count": 9,
   "metadata": {},
   "outputs": [
    {
     "name": "stdout",
     "output_type": "stream",
     "text": [
      "9\n",
      "請輸入數值。\n"
     ]
    }
   ],
   "source": [
    "# 定義自訂函數\n",
    "def my_square(input_number):\n",
    "    '計算平方數且有錯誤處理的函數'\n",
    "    try:\n",
    "        ans = input_number**2\n",
    "        return ans\n",
    "    except:\n",
    "        print(\"請輸入數值。\")\n",
    "\n",
    "# 呼叫自訂函數\n",
    "print(my_square(3))\n",
    "my_square('ironmen')"
   ]
  },
  {
   "cell_type": "markdown",
   "metadata": {},
   "source": [
    "# Python 的彈性參數（Flexible arguments）\n",
    "\n",
    "Python 可以使用 *args 或 **kwargs(Keyword arguments)來分別處理不帶鍵值與帶有鍵值的彈性數量參數，\n",
    "\n",
    "利用這個特性，我們不一定要使用資料結構把變數包裝起來當做輸入。\n",
    "\n",
    "## *args"
   ]
  },
  {
   "cell_type": "code",
   "execution_count": 11,
   "metadata": {},
   "outputs": [
    {
     "name": "stdout",
     "output_type": "stream",
     "text": [
      "51\n",
      "8\n",
      "18\n",
      "13\n",
      "6\n",
      "---\n",
      "51\n",
      "8\n",
      "18\n",
      "13\n",
      "6\n",
      "64\n"
     ]
    }
   ],
   "source": [
    "# 定義自訂函數\n",
    "def ironmen_list(*args):\n",
    "    '列出各組參賽鐵人數'\n",
    "    for ironman in args:\n",
    "        print(ironman)\n",
    "\n",
    "# 呼叫自訂函數\n",
    "ironmen_list(51, 8, 18, 13, 6) # 不含自我挑戰組\n",
    "print(\"---\")\n",
    "ironmen_list(51, 8, 18, 13, 6, 64) # 含自我挑戰組"
   ]
  },
  {
   "cell_type": "markdown",
   "metadata": {},
   "source": [
    "# **kwargs"
   ]
  },
  {
   "cell_type": "code",
   "execution_count": 17,
   "metadata": {},
   "outputs": [
    {
     "name": "stdout",
     "output_type": "stream",
     "text": [
      "ModernWeb ： 51 人\n",
      "DevOps ： 8 人\n",
      "Cloud ： 18 人\n",
      "BigData ： 13 人\n",
      "Security ： 6 人\n",
      "自我挑戰組 ： 64 人\n"
     ]
    }
   ],
   "source": [
    "# 定義自訂函數\n",
    "def ironmen_list(**kwargs):\n",
    "    '列出各組參賽鐵人數'\n",
    "    for key in kwargs:\n",
    "        print(key, \"：\", kwargs[key], \"人\")\n",
    "\n",
    "ironmen_list(ModernWeb = 51,\n",
    "             DevOps = 8, \n",
    "             Cloud = 18, \n",
    "             BigData = 13, \n",
    "             Security = 6, \n",
    "             自我挑戰組 = 64)"
   ]
  },
  {
   "cell_type": "code",
   "execution_count": null,
   "metadata": {
    "collapsed": true
   },
   "outputs": [],
   "source": []
  }
 ],
 "metadata": {
  "kernelspec": {
   "display_name": "Python 3",
   "language": "python",
   "name": "python3"
  },
  "language_info": {
   "codemirror_mode": {
    "name": "ipython",
    "version": 3
   },
   "file_extension": ".py",
   "mimetype": "text/x-python",
   "name": "python",
   "nbconvert_exporter": "python",
   "pygments_lexer": "ipython3",
   "version": "3.6.1"
  }
 },
 "nbformat": 4,
 "nbformat_minor": 2
}
