{
 "cells": [
  {
   "cell_type": "markdown",
   "metadata": {},
   "source": [
    "http://ithelp.ithome.com.tw/articles/10186310"
   ]
  },
  {
   "cell_type": "markdown",
   "metadata": {},
   "source": [
    "載入資料之後，接踵而來的就是資料整理（Data manipulation）的差事，或稱資料改寫（Data munging），\n",
    "\n",
    "抑或是一個比較潮的詞彙：資料角力（Data wrangling）。資料角力的目的是為了視覺化或者機器學習模型需求，\n",
    "\n",
    "必須將資料整理成合乎需求的格式"
   ]
  },
  {
   "cell_type": "markdown",
   "metadata": {},
   "source": [
    "# 我們討論幾個常用技巧，然後使用 Python 與 R 語言練習。\n",
    "\n",
    "+ 連接\n",
    "+ 合併\n",
    "+ 轉置\n",
    "+ 移除重複\n",
    "+ 分箱\n",
    "+ 輸出\n",
    "\n",
    "## 連接\n",
    "\n",
    "類似資料庫表格的 join。\n",
    "\n",
    "R 語言\n",
    "\n",
    "我們使用 merge() 函數。"
   ]
  },
  {
   "cell_type": "code",
   "execution_count": 3,
   "metadata": {},
   "outputs": [
    {
     "data": {
      "text/html": [
       "<table>\n",
       "<thead><tr><th scope=col>name</th><th scope=col>occupation</th><th scope=col>devil_fruit</th></tr></thead>\n",
       "<tbody>\n",
       "\t<tr><td>布魯克       </td><td>音樂家       </td><td>黃泉果實     </td></tr>\n",
       "\t<tr><td>多尼多尼·喬巴</td><td>醫生         </td><td>人人果實     </td></tr>\n",
       "\t<tr><td>妮可·羅賓    </td><td>考古學家     </td><td>花花果實     </td></tr>\n",
       "\t<tr><td>蒙其·D·魯夫  </td><td>船長         </td><td>橡膠果實     </td></tr>\n",
       "</tbody>\n",
       "</table>\n"
      ],
      "text/latex": [
       "\\begin{tabular}{r|lll}\n",
       " name & occupation & devil\\_fruit\\\\\n",
       "\\hline\n",
       "\t 布魯克        & 音樂家        & 黃泉果實     \\\\\n",
       "\t 多尼多尼·喬巴 & 醫生          & 人人果實     \\\\\n",
       "\t 妮可·羅賓     & 考古學家      & 花花果實     \\\\\n",
       "\t 蒙其·D·魯夫   & 船長          & 橡膠果實     \\\\\n",
       "\\end{tabular}\n"
      ],
      "text/markdown": [
       "\n",
       "name | occupation | devil_fruit | \n",
       "|---|---|---|---|\n",
       "| 布魯克        | 音樂家        | 黃泉果實      | \n",
       "| 多尼多尼·喬巴 | 醫生          | 人人果實      | \n",
       "| 妮可·羅賓     | 考古學家      | 花花果實      | \n",
       "| 蒙其·D·魯夫   | 船長          | 橡膠果實      | \n",
       "\n",
       "\n"
      ],
      "text/plain": [
       "  name          occupation devil_fruit\n",
       "1 布魯克        音樂家     黃泉果實   \n",
       "2 多尼多尼·喬巴 醫生       人人果實   \n",
       "3 妮可·羅賓     考古學家   花花果實   \n",
       "4 蒙其·D·魯夫   船長       橡膠果實   "
      ]
     },
     "metadata": {},
     "output_type": "display_data"
    }
   ],
   "source": [
    "name <- c(\"蒙其·D·魯夫\", \"羅羅亞·索隆\", \"娜美\", \"騙人布\", \"賓什莫克·香吉士\", \"多尼多尼·喬巴\", \"妮可·羅賓\", \"佛朗基\", \"布魯克\")\n",
    "occupation <- c(\"船長\", \"劍士\", \"航海士\", \"狙擊手\", \"廚師\", \"醫生\", \"考古學家\", \"船匠\", \"音樂家\")\n",
    "\n",
    "# 建立第一個 data frame\n",
    "straw_hat_df = data.frame(name, occupation)\n",
    "\n",
    "name <- c(\"蒙其·D·魯夫\", \"多尼多尼·喬巴\", \"妮可·羅賓\", \"布魯克\")\n",
    "devil_fruit <- c(\"橡膠果實\", \"人人果實\", \"花花果實\", \"黃泉果實\")\n",
    "\n",
    "# 建立第二個 data frame\n",
    "devil_fruit_df = data.frame(name, devil_fruit)\n",
    "\n",
    "# 連接\n",
    "straw_hat_merged = merge(straw_hat_df, devil_fruit_df)\n",
    "straw_hat_merged"
   ]
  },
  {
   "cell_type": "markdown",
   "metadata": {},
   "source": [
    "R 語言的 merge() 函數預設也是inner join，如果我們希望使用不同的合併方式，\n",
    "\n",
    "我們可以在 all.x = 與 all.y = 參數指定。"
   ]
  },
  {
   "cell_type": "code",
   "execution_count": 6,
   "metadata": {},
   "outputs": [
    {
     "data": {
      "text/html": [
       "<table>\n",
       "<thead><tr><th scope=col>name</th><th scope=col>occupation</th><th scope=col>devil_fruit</th></tr></thead>\n",
       "<tbody>\n",
       "\t<tr><td>布魯克         </td><td>音樂家         </td><td>黃泉果實       </td></tr>\n",
       "\t<tr><td>多尼多尼·喬巴  </td><td>醫生           </td><td>人人果實       </td></tr>\n",
       "\t<tr><td>佛朗基         </td><td>船匠           </td><td>NA             </td></tr>\n",
       "\t<tr><td>妮可·羅賓      </td><td>考古學家       </td><td>花花果實       </td></tr>\n",
       "\t<tr><td>娜美           </td><td>航海士         </td><td>NA             </td></tr>\n",
       "\t<tr><td>蒙其·D·魯夫    </td><td>船長           </td><td>橡膠果實       </td></tr>\n",
       "\t<tr><td>賓什莫克·香吉士</td><td>廚師           </td><td>NA             </td></tr>\n",
       "\t<tr><td>羅羅亞·索隆    </td><td>劍士           </td><td>NA             </td></tr>\n",
       "\t<tr><td>騙人布         </td><td>狙擊手         </td><td>NA             </td></tr>\n",
       "</tbody>\n",
       "</table>\n"
      ],
      "text/latex": [
       "\\begin{tabular}{r|lll}\n",
       " name & occupation & devil\\_fruit\\\\\n",
       "\\hline\n",
       "\t 布魯克          & 音樂家          & 黃泉果實       \\\\\n",
       "\t 多尼多尼·喬巴   & 醫生            & 人人果實       \\\\\n",
       "\t 佛朗基          & 船匠            & NA             \\\\\n",
       "\t 妮可·羅賓       & 考古學家        & 花花果實       \\\\\n",
       "\t 娜美            & 航海士          & NA             \\\\\n",
       "\t 蒙其·D·魯夫     & 船長            & 橡膠果實       \\\\\n",
       "\t 賓什莫克·香吉士 & 廚師            & NA             \\\\\n",
       "\t 羅羅亞·索隆     & 劍士            & NA             \\\\\n",
       "\t 騙人布          & 狙擊手          & NA             \\\\\n",
       "\\end{tabular}\n"
      ],
      "text/markdown": [
       "\n",
       "name | occupation | devil_fruit | \n",
       "|---|---|---|---|---|---|---|---|---|\n",
       "| 布魯克          | 音樂家          | 黃泉果實        | \n",
       "| 多尼多尼·喬巴   | 醫生            | 人人果實        | \n",
       "| 佛朗基          | 船匠            | NA              | \n",
       "| 妮可·羅賓       | 考古學家        | 花花果實        | \n",
       "| 娜美            | 航海士          | NA              | \n",
       "| 蒙其·D·魯夫     | 船長            | 橡膠果實        | \n",
       "| 賓什莫克·香吉士 | 廚師            | NA              | \n",
       "| 羅羅亞·索隆     | 劍士            | NA              | \n",
       "| 騙人布          | 狙擊手          | NA              | \n",
       "\n",
       "\n"
      ],
      "text/plain": [
       "  name            occupation devil_fruit\n",
       "1 布魯克          音樂家     黃泉果實   \n",
       "2 多尼多尼·喬巴   醫生       人人果實   \n",
       "3 佛朗基          船匠       NA         \n",
       "4 妮可·羅賓       考古學家   花花果實   \n",
       "5 娜美            航海士     NA         \n",
       "6 蒙其·D·魯夫     船長       橡膠果實   \n",
       "7 賓什莫克·香吉士 廚師       NA         \n",
       "8 羅羅亞·索隆     劍士       NA         \n",
       "9 騙人布          狙擊手     NA         "
      ]
     },
     "metadata": {},
     "output_type": "display_data"
    }
   ],
   "source": [
    "name <- c(\"蒙其·D·魯夫\", \"羅羅亞·索隆\", \"娜美\", \"騙人布\", \"賓什莫克·香吉士\", \"多尼多尼·喬巴\", \"妮可·羅賓\", \"佛朗基\", \"布魯克\")\n",
    "occupation <- c(\"船長\", \"劍士\", \"航海士\", \"狙擊手\", \"廚師\", \"醫生\", \"考古學家\", \"船匠\", \"音樂家\")\n",
    "\n",
    "# 建立第一個 data frame\n",
    "straw_hat_df = data.frame(name, occupation)\n",
    "\n",
    "name <- c(\"蒙其·D·魯夫\", \"多尼多尼·喬巴\", \"妮可·羅賓\", \"布魯克\")\n",
    "devil_fruit <- c(\"橡膠果實\", \"人人果實\", \"花花果實\", \"黃泉果實\")\n",
    "\n",
    "# 建立第二個 data frame\n",
    "devil_fruit_df = data.frame(name, devil_fruit)\n",
    "\n",
    "# 連接\n",
    "straw_hat_merged = merge(straw_hat_df, devil_fruit_df, all.x = TRUE)\n",
    "straw_hat_merged"
   ]
  },
  {
   "cell_type": "markdown",
   "metadata": {},
   "source": [
    "## 合併\n",
    "\n",
    "新增一個觀測值或一個變數欄位。\n",
    "\n",
    "R 語言\n",
    "\n",
    "我們使用 rbind() 函數新增一個觀測值，使用 cbind() 函數新增一個變數欄位。"
   ]
  },
  {
   "cell_type": "code",
   "execution_count": 7,
   "metadata": {},
   "outputs": [
    {
     "data": {
      "text/html": [
       "<table>\n",
       "<thead><tr><th scope=col>name</th><th scope=col>occupation</th></tr></thead>\n",
       "<tbody>\n",
       "\t<tr><td>蒙其·D·魯夫          </td><td>船長                 </td></tr>\n",
       "\t<tr><td>羅羅亞·索隆          </td><td>劍士                 </td></tr>\n",
       "\t<tr><td>娜美                 </td><td>航海士               </td></tr>\n",
       "\t<tr><td>騙人布               </td><td>狙擊手               </td></tr>\n",
       "\t<tr><td>賓什莫克·香吉士      </td><td>廚師                 </td></tr>\n",
       "\t<tr><td>多尼多尼·喬巴        </td><td>醫生                 </td></tr>\n",
       "\t<tr><td>妮可·羅賓            </td><td>考古學家             </td></tr>\n",
       "\t<tr><td>佛朗基               </td><td>船匠                 </td></tr>\n",
       "\t<tr><td>布魯克               </td><td>音樂家               </td></tr>\n",
       "\t<tr><td>娜菲&lt;U+9C81&gt;塔利·薇薇</td><td>阿拉巴斯坦王國公主         </td></tr>\n",
       "</tbody>\n",
       "</table>\n"
      ],
      "text/latex": [
       "\\begin{tabular}{r|ll}\n",
       " name & occupation\\\\\n",
       "\\hline\n",
       "\t 蒙其·D·魯夫           & 船長                 \\\\\n",
       "\t 羅羅亞·索隆           & 劍士                 \\\\\n",
       "\t 娜美                  & 航海士               \\\\\n",
       "\t 騙人布                & 狙擊手               \\\\\n",
       "\t 賓什莫克·香吉士       & 廚師                 \\\\\n",
       "\t 多尼多尼·喬巴         & 醫生                 \\\\\n",
       "\t 妮可·羅賓             & 考古學家             \\\\\n",
       "\t 佛朗基                & 船匠                 \\\\\n",
       "\t 布魯克                & 音樂家               \\\\\n",
       "\t 娜菲<U+9C81>塔利·薇薇 & 阿拉巴斯坦王國公主   \\\\\n",
       "\\end{tabular}\n"
      ],
      "text/markdown": [
       "\n",
       "name | occupation | \n",
       "|---|---|---|---|---|---|---|---|---|---|\n",
       "| 蒙其·D·魯夫           | 船長                  | \n",
       "| 羅羅亞·索隆           | 劍士                  | \n",
       "| 娜美                  | 航海士                | \n",
       "| 騙人布                | 狙擊手                | \n",
       "| 賓什莫克·香吉士       | 廚師                  | \n",
       "| 多尼多尼·喬巴         | 醫生                  | \n",
       "| 妮可·羅賓             | 考古學家              | \n",
       "| 佛朗基                | 船匠                  | \n",
       "| 布魯克                | 音樂家                | \n",
       "| 娜菲<U+9C81>塔利·薇薇 | 阿拉巴斯坦王國公主    | \n",
       "\n",
       "\n"
      ],
      "text/plain": [
       "   name                  occupation        \n",
       "1  蒙其·D·魯夫           船長              \n",
       "2  羅羅亞·索隆           劍士              \n",
       "3  娜美                  航海士            \n",
       "4  騙人布                狙擊手            \n",
       "5  賓什莫克·香吉士       廚師              \n",
       "6  多尼多尼·喬巴         醫生              \n",
       "7  妮可·羅賓             考古學家          \n",
       "8  佛朗基                船匠              \n",
       "9  布魯克                音樂家            \n",
       "10 娜菲<U+9C81>塔利·薇薇 阿拉巴斯坦王國公主"
      ]
     },
     "metadata": {},
     "output_type": "display_data"
    },
    {
     "data": {
      "text/html": [
       "<table>\n",
       "<thead><tr><th scope=col>name</th><th scope=col>occupation</th><th scope=col>age</th></tr></thead>\n",
       "<tbody>\n",
       "\t<tr><td>蒙其·D·魯夫          </td><td>船長                 </td><td>19                   </td></tr>\n",
       "\t<tr><td>羅羅亞·索隆          </td><td>劍士                 </td><td>21                   </td></tr>\n",
       "\t<tr><td>娜美                 </td><td>航海士               </td><td>20                   </td></tr>\n",
       "\t<tr><td>騙人布               </td><td>狙擊手               </td><td>19                   </td></tr>\n",
       "\t<tr><td>賓什莫克·香吉士      </td><td>廚師                 </td><td>21                   </td></tr>\n",
       "\t<tr><td>多尼多尼·喬巴        </td><td>醫生                 </td><td>17                   </td></tr>\n",
       "\t<tr><td>妮可·羅賓            </td><td>考古學家             </td><td>30                   </td></tr>\n",
       "\t<tr><td>佛朗基               </td><td>船匠                 </td><td>36                   </td></tr>\n",
       "\t<tr><td>布魯克               </td><td>音樂家               </td><td>90                   </td></tr>\n",
       "\t<tr><td>娜菲&lt;U+9C81&gt;塔利·薇薇</td><td>阿拉巴斯坦王國公主         </td><td>18                         </td></tr>\n",
       "</tbody>\n",
       "</table>\n"
      ],
      "text/latex": [
       "\\begin{tabular}{r|lll}\n",
       " name & occupation & age\\\\\n",
       "\\hline\n",
       "\t 蒙其·D·魯夫           & 船長                  & 19                   \\\\\n",
       "\t 羅羅亞·索隆           & 劍士                  & 21                   \\\\\n",
       "\t 娜美                  & 航海士                & 20                   \\\\\n",
       "\t 騙人布                & 狙擊手                & 19                   \\\\\n",
       "\t 賓什莫克·香吉士       & 廚師                  & 21                   \\\\\n",
       "\t 多尼多尼·喬巴         & 醫生                  & 17                   \\\\\n",
       "\t 妮可·羅賓             & 考古學家              & 30                   \\\\\n",
       "\t 佛朗基                & 船匠                  & 36                   \\\\\n",
       "\t 布魯克                & 音樂家                & 90                   \\\\\n",
       "\t 娜菲<U+9C81>塔利·薇薇 & 阿拉巴斯坦王國公主    & 18                   \\\\\n",
       "\\end{tabular}\n"
      ],
      "text/markdown": [
       "\n",
       "name | occupation | age | \n",
       "|---|---|---|---|---|---|---|---|---|---|\n",
       "| 蒙其·D·魯夫           | 船長                  | 19                    | \n",
       "| 羅羅亞·索隆           | 劍士                  | 21                    | \n",
       "| 娜美                  | 航海士                | 20                    | \n",
       "| 騙人布                | 狙擊手                | 19                    | \n",
       "| 賓什莫克·香吉士       | 廚師                  | 21                    | \n",
       "| 多尼多尼·喬巴         | 醫生                  | 17                    | \n",
       "| 妮可·羅賓             | 考古學家              | 30                    | \n",
       "| 佛朗基                | 船匠                  | 36                    | \n",
       "| 布魯克                | 音樂家                | 90                    | \n",
       "| 娜菲<U+9C81>塔利·薇薇 | 阿拉巴斯坦王國公主    | 18                    | \n",
       "\n",
       "\n"
      ],
      "text/plain": [
       "   name                  occupation         age\n",
       "1  蒙其·D·魯夫           船長               19 \n",
       "2  羅羅亞·索隆           劍士               21 \n",
       "3  娜美                  航海士             20 \n",
       "4  騙人布                狙擊手             19 \n",
       "5  賓什莫克·香吉士       廚師               21 \n",
       "6  多尼多尼·喬巴         醫生               17 \n",
       "7  妮可·羅賓             考古學家           30 \n",
       "8  佛朗基                船匠               36 \n",
       "9  布魯克                音樂家             90 \n",
       "10 娜菲<U+9C81>塔利·薇薇 阿拉巴斯坦王國公主 18 "
      ]
     },
     "metadata": {},
     "output_type": "display_data"
    }
   ],
   "source": [
    "name <- c(\"蒙其·D·魯夫\", \"羅羅亞·索隆\", \"娜美\", \"騙人布\", \"賓什莫克·香吉士\", \"多尼多尼·喬巴\", \"妮可·羅賓\", \"佛朗基\", \"布魯克\")\n",
    "occupation <- c(\"船長\", \"劍士\", \"航海士\", \"狙擊手\", \"廚師\", \"醫生\", \"考古學家\", \"船匠\", \"音樂家\")\n",
    "\n",
    "# 建立第一個 data frame\n",
    "straw_hat_df = data.frame(name, occupation)\n",
    "straw_hat_df$name <- as.character(straw_hat_df$name)\n",
    "straw_hat_df$occupation <- as.character(straw_hat_df$occupation)\n",
    "\n",
    "# 新增一個觀測值\n",
    "princess_vivi <- c(\"娜菲鲁塔利·薇薇\", \"阿拉巴斯坦王國公主\")\n",
    "straw_hat_df_w_vivi <- rbind(straw_hat_df, princess_vivi)\n",
    "straw_hat_df_w_vivi\n",
    "\n",
    "# 新增一個變數欄位\n",
    "age <- c(19, 21, 20, 19, 21, 17, 30, 36, 90, 18)\n",
    "straw_hat_df_w_vivi_age <- cbind(straw_hat_df_w_vivi, age)\n",
    "straw_hat_df_w_vivi_age"
   ]
  },
  {
   "cell_type": "markdown",
   "metadata": {},
   "source": [
    "## 轉置\n",
    "\n",
    "轉置（Transpose）指的是寬表格（Wide table）與長表格（Long table）之間的互換。\n",
    "\n",
    "R 語言\n",
    "\n",
    "我們使用 tidyr 套件的 gather() 函數將寬表格轉置為長表格，使用 spread() 函數將長表格轉置回寬表格。"
   ]
  },
  {
   "cell_type": "code",
   "execution_count": 9,
   "metadata": {},
   "outputs": [
    {
     "data": {
      "text/html": [
       "<table>\n",
       "<thead><tr><th scope=col>name</th><th scope=col>item</th><th scope=col>value</th></tr></thead>\n",
       "<tbody>\n",
       "\t<tr><td>蒙其·D·魯夫    </td><td>age            </td><td> 19            </td></tr>\n",
       "\t<tr><td>羅羅亞·索隆    </td><td>age            </td><td> 21            </td></tr>\n",
       "\t<tr><td>娜美           </td><td>age            </td><td> 20            </td></tr>\n",
       "\t<tr><td>騙人布         </td><td>age            </td><td> 19            </td></tr>\n",
       "\t<tr><td>賓什莫克·香吉士</td><td>age            </td><td> 21            </td></tr>\n",
       "\t<tr><td>多尼多尼·喬巴  </td><td>age            </td><td> 17            </td></tr>\n",
       "\t<tr><td>妮可·羅賓      </td><td>age            </td><td> 30            </td></tr>\n",
       "\t<tr><td>佛朗基         </td><td>age            </td><td> 36            </td></tr>\n",
       "\t<tr><td>布魯克         </td><td>age            </td><td> 90            </td></tr>\n",
       "\t<tr><td>蒙其·D·魯夫    </td><td>height         </td><td>174            </td></tr>\n",
       "\t<tr><td>羅羅亞·索隆    </td><td>height         </td><td>181            </td></tr>\n",
       "\t<tr><td>娜美           </td><td>height         </td><td>170            </td></tr>\n",
       "\t<tr><td>騙人布         </td><td>height         </td><td>176            </td></tr>\n",
       "\t<tr><td>賓什莫克·香吉士</td><td>height         </td><td>180            </td></tr>\n",
       "\t<tr><td>多尼多尼·喬巴  </td><td>height         </td><td> 90            </td></tr>\n",
       "\t<tr><td>妮可·羅賓      </td><td>height         </td><td>188            </td></tr>\n",
       "\t<tr><td>佛朗基         </td><td>height         </td><td>240            </td></tr>\n",
       "\t<tr><td>布魯克         </td><td>height         </td><td>277            </td></tr>\n",
       "</tbody>\n",
       "</table>\n"
      ],
      "text/latex": [
       "\\begin{tabular}{r|lll}\n",
       " name & item & value\\\\\n",
       "\\hline\n",
       "\t 蒙其·D·魯夫     & age             &  19            \\\\\n",
       "\t 羅羅亞·索隆     & age             &  21            \\\\\n",
       "\t 娜美            & age             &  20            \\\\\n",
       "\t 騙人布          & age             &  19            \\\\\n",
       "\t 賓什莫克·香吉士 & age             &  21            \\\\\n",
       "\t 多尼多尼·喬巴   & age             &  17            \\\\\n",
       "\t 妮可·羅賓       & age             &  30            \\\\\n",
       "\t 佛朗基          & age             &  36            \\\\\n",
       "\t 布魯克          & age             &  90            \\\\\n",
       "\t 蒙其·D·魯夫     & height          & 174            \\\\\n",
       "\t 羅羅亞·索隆     & height          & 181            \\\\\n",
       "\t 娜美            & height          & 170            \\\\\n",
       "\t 騙人布          & height          & 176            \\\\\n",
       "\t 賓什莫克·香吉士 & height          & 180            \\\\\n",
       "\t 多尼多尼·喬巴   & height          &  90            \\\\\n",
       "\t 妮可·羅賓       & height          & 188            \\\\\n",
       "\t 佛朗基          & height          & 240            \\\\\n",
       "\t 布魯克          & height          & 277            \\\\\n",
       "\\end{tabular}\n"
      ],
      "text/markdown": [
       "\n",
       "name | item | value | \n",
       "|---|---|---|---|---|---|---|---|---|---|---|---|---|---|---|---|---|---|\n",
       "| 蒙其·D·魯夫     | age             |  19             | \n",
       "| 羅羅亞·索隆     | age             |  21             | \n",
       "| 娜美            | age             |  20             | \n",
       "| 騙人布          | age             |  19             | \n",
       "| 賓什莫克·香吉士 | age             |  21             | \n",
       "| 多尼多尼·喬巴   | age             |  17             | \n",
       "| 妮可·羅賓       | age             |  30             | \n",
       "| 佛朗基          | age             |  36             | \n",
       "| 布魯克          | age             |  90             | \n",
       "| 蒙其·D·魯夫     | height          | 174             | \n",
       "| 羅羅亞·索隆     | height          | 181             | \n",
       "| 娜美            | height          | 170             | \n",
       "| 騙人布          | height          | 176             | \n",
       "| 賓什莫克·香吉士 | height          | 180             | \n",
       "| 多尼多尼·喬巴   | height          |  90             | \n",
       "| 妮可·羅賓       | height          | 188             | \n",
       "| 佛朗基          | height          | 240             | \n",
       "| 布魯克          | height          | 277             | \n",
       "\n",
       "\n"
      ],
      "text/plain": [
       "   name            item   value\n",
       "1  蒙其·D·魯夫     age     19  \n",
       "2  羅羅亞·索隆     age     21  \n",
       "3  娜美            age     20  \n",
       "4  騙人布          age     19  \n",
       "5  賓什莫克·香吉士 age     21  \n",
       "6  多尼多尼·喬巴   age     17  \n",
       "7  妮可·羅賓       age     30  \n",
       "8  佛朗基          age     36  \n",
       "9  布魯克          age     90  \n",
       "10 蒙其·D·魯夫     height 174  \n",
       "11 羅羅亞·索隆     height 181  \n",
       "12 娜美            height 170  \n",
       "13 騙人布          height 176  \n",
       "14 賓什莫克·香吉士 height 180  \n",
       "15 多尼多尼·喬巴   height  90  \n",
       "16 妮可·羅賓       height 188  \n",
       "17 佛朗基          height 240  \n",
       "18 布魯克          height 277  "
      ]
     },
     "metadata": {},
     "output_type": "display_data"
    },
    {
     "data": {
      "text/html": [
       "<table>\n",
       "<thead><tr><th scope=col>name</th><th scope=col>age</th><th scope=col>height</th></tr></thead>\n",
       "<tbody>\n",
       "\t<tr><td>布魯克         </td><td>90             </td><td>277            </td></tr>\n",
       "\t<tr><td>多尼多尼·喬巴  </td><td>17             </td><td> 90            </td></tr>\n",
       "\t<tr><td>佛朗基         </td><td>36             </td><td>240            </td></tr>\n",
       "\t<tr><td>妮可·羅賓      </td><td>30             </td><td>188            </td></tr>\n",
       "\t<tr><td>娜美           </td><td>20             </td><td>170            </td></tr>\n",
       "\t<tr><td>蒙其·D·魯夫    </td><td>19             </td><td>174            </td></tr>\n",
       "\t<tr><td>賓什莫克·香吉士</td><td>21             </td><td>180            </td></tr>\n",
       "\t<tr><td>羅羅亞·索隆    </td><td>21             </td><td>181            </td></tr>\n",
       "\t<tr><td>騙人布         </td><td>19             </td><td>176            </td></tr>\n",
       "</tbody>\n",
       "</table>\n"
      ],
      "text/latex": [
       "\\begin{tabular}{r|lll}\n",
       " name & age & height\\\\\n",
       "\\hline\n",
       "\t 布魯克          & 90              & 277            \\\\\n",
       "\t 多尼多尼·喬巴   & 17              &  90            \\\\\n",
       "\t 佛朗基          & 36              & 240            \\\\\n",
       "\t 妮可·羅賓       & 30              & 188            \\\\\n",
       "\t 娜美            & 20              & 170            \\\\\n",
       "\t 蒙其·D·魯夫     & 19              & 174            \\\\\n",
       "\t 賓什莫克·香吉士 & 21              & 180            \\\\\n",
       "\t 羅羅亞·索隆     & 21              & 181            \\\\\n",
       "\t 騙人布          & 19              & 176            \\\\\n",
       "\\end{tabular}\n"
      ],
      "text/markdown": [
       "\n",
       "name | age | height | \n",
       "|---|---|---|---|---|---|---|---|---|\n",
       "| 布魯克          | 90              | 277             | \n",
       "| 多尼多尼·喬巴   | 17              |  90             | \n",
       "| 佛朗基          | 36              | 240             | \n",
       "| 妮可·羅賓       | 30              | 188             | \n",
       "| 娜美            | 20              | 170             | \n",
       "| 蒙其·D·魯夫     | 19              | 174             | \n",
       "| 賓什莫克·香吉士 | 21              | 180             | \n",
       "| 羅羅亞·索隆     | 21              | 181             | \n",
       "| 騙人布          | 19              | 176             | \n",
       "\n",
       "\n"
      ],
      "text/plain": [
       "  name            age height\n",
       "1 布魯克          90  277   \n",
       "2 多尼多尼·喬巴   17   90   \n",
       "3 佛朗基          36  240   \n",
       "4 妮可·羅賓       30  188   \n",
       "5 娜美            20  170   \n",
       "6 蒙其·D·魯夫     19  174   \n",
       "7 賓什莫克·香吉士 21  180   \n",
       "8 羅羅亞·索隆     21  181   \n",
       "9 騙人布          19  176   "
      ]
     },
     "metadata": {},
     "output_type": "display_data"
    }
   ],
   "source": [
    "library(tidyr)\n",
    "\n",
    "name <- c(\"蒙其·D·魯夫\", \"羅羅亞·索隆\", \"娜美\", \"騙人布\", \"賓什莫克·香吉士\", \"多尼多尼·喬巴\", \"妮可·羅賓\", \"佛朗基\", \"布魯克\")\n",
    "age <- c(19, 21, 20, 19, 21, 17, 30, 36, 90)\n",
    "height <- c(174, 181, 170, 176, 180, 90, 188, 240, 277)\n",
    "\n",
    "# 建立一個寬表格\n",
    "straw_hat_df_wide <- data.frame(name, age, height)\n",
    "\n",
    "# 轉換為長表格\n",
    "straw_hat_df_long <- gather(straw_hat_df_wide, key = item, value = value, age, height)\n",
    "straw_hat_df_long\n",
    "\n",
    "# 轉換回寬表格\n",
    "straw_hat_df_wide <- spread(straw_hat_df_long, key = item, value = value)\n",
    "straw_hat_df_wide"
   ]
  },
  {
   "cell_type": "markdown",
   "metadata": {},
   "source": [
    "## 移除重複值\n",
    "\n",
    "R 語言\n",
    "\n",
    "我們使用 duplicated() 函數。"
   ]
  },
  {
   "cell_type": "code",
   "execution_count": 10,
   "metadata": {},
   "outputs": [
    {
     "data": {
      "text/html": [
       "<table>\n",
       "<thead><tr><th></th><th scope=col>name</th><th scope=col>age</th></tr></thead>\n",
       "<tbody>\n",
       "\t<tr><th scope=row>1</th><td>蒙其·D·魯夫</td><td>19         </td></tr>\n",
       "\t<tr><th scope=row>3</th><td>蒙其·D·魯夫</td><td>17         </td></tr>\n",
       "\t<tr><th scope=row>4</th><td>羅羅亞·索隆</td><td>21         </td></tr>\n",
       "\t<tr><th scope=row>6</th><td>羅羅亞·索隆</td><td>19         </td></tr>\n",
       "</tbody>\n",
       "</table>\n"
      ],
      "text/latex": [
       "\\begin{tabular}{r|ll}\n",
       "  & name & age\\\\\n",
       "\\hline\n",
       "\t1 & 蒙其·D·魯夫 & 19         \\\\\n",
       "\t3 & 蒙其·D·魯夫 & 17         \\\\\n",
       "\t4 & 羅羅亞·索隆 & 21         \\\\\n",
       "\t6 & 羅羅亞·索隆 & 19         \\\\\n",
       "\\end{tabular}\n"
      ],
      "text/markdown": [
       "\n",
       "| <!--/--> | name | age | \n",
       "|---|---|---|---|\n",
       "| 1 | 蒙其·D·魯夫 | 19          | \n",
       "| 3 | 蒙其·D·魯夫 | 17          | \n",
       "| 4 | 羅羅亞·索隆 | 21          | \n",
       "| 6 | 羅羅亞·索隆 | 19          | \n",
       "\n",
       "\n"
      ],
      "text/plain": [
       "  name        age\n",
       "1 蒙其·D·魯夫 19 \n",
       "3 蒙其·D·魯夫 17 \n",
       "4 羅羅亞·索隆 21 \n",
       "6 羅羅亞·索隆 19 "
      ]
     },
     "metadata": {},
     "output_type": "display_data"
    }
   ],
   "source": [
    "# 建立一個有重複值的 data frame\n",
    "name = c(\"蒙其·D·魯夫\", \"蒙其·D·魯夫\", \"蒙其·D·魯夫\", \"羅羅亞·索隆\", \"羅羅亞·索隆\", \"羅羅亞·索隆\")\n",
    "age <- c(19, 19, 17, 21, 21, 19)\n",
    "duplicated_df <- data.frame(name, age)\n",
    "is_duplicates <- duplicated(duplicated_df)\n",
    "duplicated_df[!is_duplicates, ]"
   ]
  },
  {
   "cell_type": "markdown",
   "metadata": {},
   "source": [
    "## 分箱\n",
    "\n",
    "數值分箱（Binning）是將連續型數值用幾個切點分隔，新增一個類別型變數的技巧。\n",
    "\n",
    "R 語言\n",
    "\n",
    "我們使用 cut() 函數。"
   ]
  },
  {
   "cell_type": "code",
   "execution_count": 13,
   "metadata": {},
   "outputs": [
    {
     "data": {
      "text/html": [
       "<table>\n",
       "<thead><tr><th scope=col>name</th><th scope=col>age</th><th scope=col>age_cat</th></tr></thead>\n",
       "<tbody>\n",
       "\t<tr><td>蒙其·D·魯夫    </td><td>19             </td><td>小於 25 歲     </td></tr>\n",
       "\t<tr><td>羅羅亞·索隆    </td><td>21             </td><td>小於 25 歲     </td></tr>\n",
       "\t<tr><td>娜美           </td><td>20             </td><td>小於 25 歲     </td></tr>\n",
       "\t<tr><td>騙人布         </td><td>19             </td><td>小於 25 歲     </td></tr>\n",
       "\t<tr><td>賓什莫克·香吉士</td><td>21             </td><td>小於 25 歲     </td></tr>\n",
       "\t<tr><td>多尼多尼·喬巴  </td><td>17             </td><td>小於 25 歲     </td></tr>\n",
       "\t<tr><td>妮可·羅賓      </td><td>30             </td><td>超過 25 歲     </td></tr>\n",
       "\t<tr><td>佛朗基         </td><td>36             </td><td>超過 25 歲     </td></tr>\n",
       "\t<tr><td>布魯克         </td><td>90             </td><td>超過 25 歲     </td></tr>\n",
       "</tbody>\n",
       "</table>\n"
      ],
      "text/latex": [
       "\\begin{tabular}{r|lll}\n",
       " name & age & age\\_cat\\\\\n",
       "\\hline\n",
       "\t 蒙其·D·魯夫     & 19              & 小於 25 歲     \\\\\n",
       "\t 羅羅亞·索隆     & 21              & 小於 25 歲     \\\\\n",
       "\t 娜美            & 20              & 小於 25 歲     \\\\\n",
       "\t 騙人布          & 19              & 小於 25 歲     \\\\\n",
       "\t 賓什莫克·香吉士 & 21              & 小於 25 歲     \\\\\n",
       "\t 多尼多尼·喬巴   & 17              & 小於 25 歲     \\\\\n",
       "\t 妮可·羅賓       & 30              & 超過 25 歲     \\\\\n",
       "\t 佛朗基          & 36              & 超過 25 歲     \\\\\n",
       "\t 布魯克          & 90              & 超過 25 歲     \\\\\n",
       "\\end{tabular}\n"
      ],
      "text/markdown": [
       "\n",
       "name | age | age_cat | \n",
       "|---|---|---|---|---|---|---|---|---|\n",
       "| 蒙其·D·魯夫     | 19              | 小於 25 歲      | \n",
       "| 羅羅亞·索隆     | 21              | 小於 25 歲      | \n",
       "| 娜美            | 20              | 小於 25 歲      | \n",
       "| 騙人布          | 19              | 小於 25 歲      | \n",
       "| 賓什莫克·香吉士 | 21              | 小於 25 歲      | \n",
       "| 多尼多尼·喬巴   | 17              | 小於 25 歲      | \n",
       "| 妮可·羅賓       | 30              | 超過 25 歲      | \n",
       "| 佛朗基          | 36              | 超過 25 歲      | \n",
       "| 布魯克          | 90              | 超過 25 歲      | \n",
       "\n",
       "\n"
      ],
      "text/plain": [
       "  name            age age_cat   \n",
       "1 蒙其·D·魯夫     19  小於 25 歲\n",
       "2 羅羅亞·索隆     21  小於 25 歲\n",
       "3 娜美            20  小於 25 歲\n",
       "4 騙人布          19  小於 25 歲\n",
       "5 賓什莫克·香吉士 21  小於 25 歲\n",
       "6 多尼多尼·喬巴   17  小於 25 歲\n",
       "7 妮可·羅賓       30  超過 25 歲\n",
       "8 佛朗基          36  超過 25 歲\n",
       "9 布魯克          90  超過 25 歲"
      ]
     },
     "metadata": {},
     "output_type": "display_data"
    }
   ],
   "source": [
    "name <- c(\"蒙其·D·魯夫\", \"羅羅亞·索隆\", \"娜美\", \"騙人布\", \"賓什莫克·香吉士\", \"多尼多尼·喬巴\", \"妮可·羅賓\", \"佛朗基\", \"布魯克\")\n",
    "age <- c(19, 21, 20, 19, 21, 17, 30, 36, 90)\n",
    "straw_hat_df <- data.frame(name, age)\n",
    "\n",
    "# 分箱\n",
    "bins <- c(0, 25, Inf)\n",
    "group_names <- c(\"小於 25 歲\", \"超過 25 歲\")\n",
    "straw_hat_df$age_cat <- cut(straw_hat_df$age, breaks = bins, labels = group_names)\n",
    "straw_hat_df"
   ]
  },
  {
   "cell_type": "markdown",
   "metadata": {},
   "source": [
    "## 輸出\n",
    "\n",
    "經過激烈的資料角力（Data wrangling）之後，我們想要將整理乾淨的資料輸出成 csv 或者 JSON。\n",
    "\n",
    "\n",
    "R 語言\n",
    "\n",
    "我們使用 write.csv() 函數與 jsonlite 套件的 toJSON() 函數。"
   ]
  },
  {
   "cell_type": "code",
   "execution_count": 11,
   "metadata": {
    "collapsed": true
   },
   "outputs": [],
   "source": [
    "library(jsonlite)\n",
    "\n",
    "name <- c(\"蒙其·D·魯夫\", \"羅羅亞·索隆\", \"娜美\", \"騙人布\", \"賓什莫克·香吉士\", \"多尼多尼·喬巴\", \"妮可·羅賓\", \"佛朗基\", \"布魯克\")\n",
    "age <- c(19, 21, 20, 19, 21, 17, 30, 36, 90)\n",
    "straw_hat_df <- data.frame(name, age)\n",
    "\n",
    "# 輸出為 csv\n",
    "write.csv(straw_hat_df, file = \"straw_hat.csv\", row.names = FALSE)\n",
    "\n",
    "# 輸出為 JSON\n",
    "straw_hat_json <- toJSON(straw_hat_df)\n",
    "write(straw_hat_json, file = \"straw_hat.json\")"
   ]
  },
  {
   "cell_type": "code",
   "execution_count": null,
   "metadata": {
    "collapsed": true
   },
   "outputs": [],
   "source": []
  }
 ],
 "metadata": {
  "kernelspec": {
   "display_name": "R",
   "language": "R",
   "name": "ir"
  },
  "language_info": {
   "codemirror_mode": "r",
   "file_extension": ".r",
   "mimetype": "text/x-r-source",
   "name": "R",
   "pygments_lexer": "r",
   "version": "3.4.1"
  },
  "toc": {
   "colors": {
    "hover_highlight": "#DAA520",
    "navigate_num": "#000000",
    "navigate_text": "#333333",
    "running_highlight": "#FF0000",
    "selected_highlight": "#FFD700",
    "sidebar_border": "#EEEEEE",
    "wrapper_background": "#FFFFFF"
   },
   "moveMenuLeft": true,
   "nav_menu": {
    "height": "155px",
    "width": "252px"
   },
   "navigate_menu": true,
   "number_sections": true,
   "sideBar": true,
   "threshold": 4,
   "toc_cell": false,
   "toc_section_display": "block",
   "toc_window_display": true,
   "widenNotebook": false
  }
 },
 "nbformat": 4,
 "nbformat_minor": 2
}
