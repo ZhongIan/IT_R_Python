{
 "cells": [
  {
   "cell_type": "markdown",
   "metadata": {},
   "source": [
    "http://ithelp.ithome.com.tw/articles/10185382"
   ]
  },
  {
   "cell_type": "markdown",
   "metadata": {},
   "source": [
    "# 應用內建函數"
   ]
  },
  {
   "cell_type": "code",
   "execution_count": 1,
   "metadata": {},
   "outputs": [
    {
     "name": "stdout",
     "output_type": "stream",
     "text": [
      "62\n",
      "6\n",
      "6\n",
      "[6, 8, 12, 16, 50, 62]\n",
      "[62, 50, 16, 12, 8, 6]\n"
     ]
    }
   ],
   "source": [
    "ironmen = [50, 8, 16, 12, 6, 62]\n",
    "\n",
    "# 應用函數\n",
    "print(max(ironmen)) # 最多的鐵人數\n",
    "print(min(ironmen)) # 最少的鐵人數\n",
    "print(len(ironmen)) # 總共有幾組\n",
    "print(sorted(ironmen)) # 遞增排序\n",
    "print(sorted(ironmen, reverse = True)) # 遞減排序"
   ]
  },
  {
   "cell_type": "markdown",
   "metadata": {},
   "source": [
    "# 查詢函數文件"
   ]
  },
  {
   "cell_type": "code",
   "execution_count": 5,
   "metadata": {},
   "outputs": [
    {
     "name": "stdout",
     "output_type": "stream",
     "text": [
      "Help on built-in function sorted in module builtins:\n",
      "\n",
      "sorted(iterable, /, *, key=None, reverse=False)\n",
      "    Return a new list containing all items from the iterable in ascending order.\n",
      "    \n",
      "    A custom key function can be supplied to customize the sort order, and the\n",
      "    reverse flag can be set to request the result in descending order.\n",
      "\n"
     ]
    }
   ],
   "source": [
    "sorted?\n",
    "help(sorted)"
   ]
  },
  {
   "cell_type": "markdown",
   "metadata": {},
   "source": [
    "# Python 的自訂函數\n",
    "\n",
    "## Python 自訂函數的架構：\n",
    "\n",
    "def function_name(輸入, 參數 1, 參數 2, ...):\n",
    "\n",
    "    '''\n",
    "    Docstrings\n",
    "    '''    \n",
    "    #函數做些什麼事\n",
    "    return 結果\n",
    "    \n",
    "Python 使用者習慣加入 Docstrings 做自訂函數的說明，接著我們利用兩個練習來熟悉如何自訂函數。"
   ]
  },
  {
   "cell_type": "markdown",
   "metadata": {},
   "source": [
    "# 計算圓形的面積或周長\n",
    "\n",
    "第一個練習是輸入圓形的半徑長，依照參數的指定回傳面積或周長。"
   ]
  },
  {
   "cell_type": "code",
   "execution_count": 7,
   "metadata": {},
   "outputs": [
    {
     "name": "stdout",
     "output_type": "stream",
     "text": [
      "28.274333882308138\n",
      "18.84955592153876\n"
     ]
    }
   ],
   "source": [
    "import math # 要使用 pi 得引入套件 math\n",
    "\n",
    "# 定義自訂函數\n",
    "def circle_calculate(radius, area = True):\n",
    "    '依據輸入的半徑與 area 參數計算圓形的面積或周長' # 單行的 docstring\n",
    "    circle_area = math.pi * radius**2\n",
    "    circle_circum = 2 * math.pi * radius\n",
    "    if area == True:\n",
    "        return circle_area\n",
    "    else:\n",
    "        return circle_circum\n",
    "\n",
    "# 呼叫自訂函數\n",
    "my_radius = 3\n",
    "print(circle_calculate(my_radius)) # 預設回傳面積\n",
    "print(circle_calculate(my_radius, area = False)) # 指定參數回傳周長"
   ]
  },
  {
   "cell_type": "markdown",
   "metadata": {},
   "source": [
    "# 交換排序法（exchange sort）\n",
    "\n",
    "第二個練習是寫程式的基本功交換排序法。"
   ]
  },
  {
   "cell_type": "code",
   "execution_count": 8,
   "metadata": {},
   "outputs": [
    {
     "name": "stdout",
     "output_type": "stream",
     "text": [
      "[92, 60, 7, 15, 89, 26, 13, 72, 67, 30]\n",
      "[7, 13, 15, 26, 30, 60, 67, 72, 89, 92]\n",
      "[92, 89, 72, 67, 60, 30, 26, 15, 13, 7]\n"
     ]
    }
   ],
   "source": [
    "import random # 呼叫函數時使用隨機整數\n",
    "\n",
    "# 定義自訂函數\n",
    "def exchange_sort(input_list, reverse = False):\n",
    "    ''' # 多行的 docstrings\n",
    "    依據輸入的 list 與 reverse 參數排序 list 中的數字後回傳。\n",
    "    reverse 參數預設為 False 遞增排序，可以修改為 True 遞減排序。\n",
    "    '''\n",
    "    input_list_cloned = input_list\n",
    "    # 遞增排序\n",
    "    if reverse == False:\n",
    "        for i in range(0, len(input_list) - 1):\n",
    "            for j in range(i+1, len(input_list)):\n",
    "                # 如果前一個數字比後一個數字大則交換位置\n",
    "                if input_list_cloned[i] > input_list_cloned[j]:\n",
    "                    temp = input_list_cloned[i]\n",
    "                    input_list_cloned[i] = input_list_cloned[j]\n",
    "                    input_list_cloned[j] = temp\n",
    "    # 遞減排序\n",
    "    else:\n",
    "        for i in range(0, len(input_list) - 1):\n",
    "            for j in range(i+1, len(input_list)):\n",
    "                # 如果前一個數字比後一個數字小則交換位置\n",
    "                if input_list_cloned[i] < input_list_cloned[j]:\n",
    "                    temp = input_list_cloned[i]\n",
    "                    input_list_cloned[i] = input_list_cloned[j]\n",
    "                    input_list_cloned[j] = temp\n",
    "    return input_list_cloned\n",
    "\n",
    "# 呼叫自訂函數\n",
    "my_vector = random.sample(range(0, 100), 10) # 產生一組隨機數\n",
    "print(my_vector) # 看看未排序前\n",
    "print(exchange_sort(my_vector)) # 預設遞增排序\n",
    "print(exchange_sort(my_vector, reverse = True)) # 指定參數遞減排序"
   ]
  },
  {
   "cell_type": "markdown",
   "metadata": {},
   "source": [
    "# Python 自訂函數回傳多個值\n",
    "\n",
    "在 return 後面將多個值用逗號 , 隔開就會回傳一個 tuple。"
   ]
  },
  {
   "cell_type": "code",
   "execution_count": 12,
   "metadata": {},
   "outputs": [
    {
     "name": "stdout",
     "output_type": "stream",
     "text": [
      "\n",
      " 最多： 62 \n",
      " 最少： 6 \n",
      " 總組數： 6 \n",
      " 總鐵人數： 154\n"
     ]
    }
   ],
   "source": [
    "# 定義自訂函數\n",
    "def ironmen_stats(ironmen_list):\n",
    "    max_ironmen = max(ironmen_list)\n",
    "    min_ironmen = min(ironmen_list)\n",
    "    ttl_groups = len(ironmen_list)\n",
    "    ttl_ironmen = sum(ironmen_list)\n",
    "    return max_ironmen, min_ironmen, ttl_groups, ttl_ironmen\n",
    "    \n",
    "# 呼叫自訂函數\n",
    "ironmen = [50, 8, 16, 12, 6, 62]\n",
    "max_ironmen, min_ironmen, ttl_groups, ttl_ironmen = ironmen_stats(ironmen)\n",
    "print(\"\\n\",\"最多：\", max_ironmen, \n",
    "      \"\\n\", \"最少：\", min_ironmen, \n",
    "      \"\\n\", \"總組數：\", ttl_groups, \n",
    "      \"\\n\", \"總鐵人數：\", ttl_ironmen)"
   ]
  },
  {
   "cell_type": "markdown",
   "metadata": {},
   "source": [
    "# Python 的 lambda 函數\n",
    "\n",
    "Python 的匿名函數稱為 lambda 函數，利用 lambda x : x * 30 把每組的鐵人數乘以 30 可以得到預期的各組文章總數。"
   ]
  },
  {
   "cell_type": "code",
   "execution_count": 16,
   "metadata": {},
   "outputs": [
    {
     "name": "stdout",
     "output_type": "stream",
     "text": [
      "[1500, 240, 480, 360, 180, 1860]\n"
     ]
    }
   ],
   "source": [
    "ironmen = [50, 8, 16, 12, 6, 62]\n",
    "ironmen_articles = list(map(lambda x : x * 30, ironmen))\n",
    "print(ironmen_articles)"
   ]
  },
  {
   "cell_type": "code",
   "execution_count": null,
   "metadata": {
    "collapsed": true
   },
   "outputs": [],
   "source": []
  }
 ],
 "metadata": {
  "kernelspec": {
   "display_name": "Python 3",
   "language": "python",
   "name": "python3"
  },
  "language_info": {
   "codemirror_mode": {
    "name": "ipython",
    "version": 3
   },
   "file_extension": ".py",
   "mimetype": "text/x-python",
   "name": "python",
   "nbconvert_exporter": "python",
   "pygments_lexer": "ipython3",
   "version": "3.6.1"
  }
 },
 "nbformat": 4,
 "nbformat_minor": 2
}
