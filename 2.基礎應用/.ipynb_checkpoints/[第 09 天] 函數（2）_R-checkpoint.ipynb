{
 "cells": [
  {
   "cell_type": "markdown",
   "metadata": {},
   "source": [
    "http://ithelp.ithome.com.tw/articles/10185485"
   ]
  },
  {
   "cell_type": "markdown",
   "metadata": {},
   "source": [
    "+ 變數範圍（Scope），\n",
    "+ 巢狀函數（Nested functions），\n",
    "+ 錯誤處理（Error Handling）以及 \n",
    "+ Python 特殊的彈性參數（Flexible arguments）。"
   ]
  },
  {
   "cell_type": "markdown",
   "metadata": {},
   "source": [
    "# 變數範圍（Scope）"
   ]
  },
  {
   "cell_type": "markdown",
   "metadata": {},
   "source": [
    "# R 語言\n",
    "\n",
    "我們自訂一個單純的 my_square() 函數將輸入的數字平方後回傳。"
   ]
  },
  {
   "cell_type": "code",
   "execution_count": 2,
   "metadata": {},
   "outputs": [
    {
     "data": {
      "text/html": [
       "9"
      ],
      "text/latex": [
       "9"
      ],
      "text/markdown": [
       "9"
      ],
      "text/plain": [
       "[1] 9"
      ]
     },
     "metadata": {},
     "output_type": "display_data"
    },
    {
     "ename": "ERROR",
     "evalue": "Error in eval(expr, envir, enclos): 找不到物件 'ans'\n",
     "output_type": "error",
     "traceback": [
      "Error in eval(expr, envir, enclos): 找不到物件 'ans'\nTraceback:\n"
     ]
    }
   ],
   "source": [
    "# 定義自訂函數\n",
    "my_square <- function(input_number) {\n",
    "    ans <- input_number^2 # 區域變數，只有在函數中可以被使用\n",
    "    return(ans)\n",
    "}\n",
    "\n",
    "# 呼叫函數\n",
    "my_square(3)\n",
    "\n",
    "# 印出變數\n",
    "ans # 無法印出區域變數"
   ]
  },
  {
   "cell_type": "markdown",
   "metadata": {},
   "source": [
    "換一種寫法我們將 ans 在函數外也指派一次。"
   ]
  },
  {
   "cell_type": "code",
   "execution_count": 3,
   "metadata": {},
   "outputs": [
    {
     "data": {
      "text/html": [
       "9"
      ],
      "text/latex": [
       "9"
      ],
      "text/markdown": [
       "9"
      ],
      "text/plain": [
       "[1] 9"
      ]
     },
     "metadata": {},
     "output_type": "display_data"
    },
    {
     "data": {
      "text/html": [
       "1"
      ],
      "text/latex": [
       "1"
      ],
      "text/markdown": [
       "1"
      ],
      "text/plain": [
       "[1] 1"
      ]
     },
     "metadata": {},
     "output_type": "display_data"
    }
   ],
   "source": [
    "ans <- 1 # 全域變數\n",
    "# 定義自訂函數\n",
    "my_square <- function(input_number) {\n",
    "    ans <- input_number^2 # 區域變數，只有在函數中可以被使用\n",
    "    return(ans)\n",
    "}\n",
    "\n",
    "# 呼叫函數\n",
    "my_square(3)\n",
    "\n",
    "# 印出變數\n",
    "ans # 印出全域變數"
   ]
  },
  {
   "cell_type": "markdown",
   "metadata": {},
   "source": [
    "# 巢狀函數（Nested functions）\n",
    "\n",
    "我們可以在函數裡面嵌入函數，舉例來說一個計算平均數的函數裡面應該要包含兩個函數，\n",
    "\n",
    "一個是計算總和的函數 my_sum()，一個是計算個數的函數 my_length()。"
   ]
  },
  {
   "cell_type": "code",
   "execution_count": 4,
   "metadata": {},
   "outputs": [
    {
     "data": {
      "text/html": [
       "26.6666666666667"
      ],
      "text/latex": [
       "26.6666666666667"
      ],
      "text/markdown": [
       "26.6666666666667"
      ],
      "text/plain": [
       "[1] 26.66667"
      ]
     },
     "metadata": {},
     "output_type": "display_data"
    }
   ],
   "source": [
    "# 定義自訂函數\n",
    "my_mean <- function(input_vector) {\n",
    "    my_sum <- function(input_vector) {\n",
    "        temp_sum <- 0\n",
    "        for (i in input_vector) {\n",
    "            temp_sum <- temp_sum + i\n",
    "        }\n",
    "        return(temp_sum)\n",
    "    }\n",
    "    \n",
    "    my_length <- function(input_vector) {\n",
    "        temp_length <- 0\n",
    "        for (i in input_vector) {\n",
    "            temp_length <- temp_length + 1\n",
    "        }\n",
    "        return(temp_length)\n",
    "    }\n",
    "    return(my_sum(input_vector) / my_length(input_vector))\n",
    "}\n",
    "\n",
    "# 呼叫自訂函數\n",
    "my_vector <- c(51, 8, 18, 13, 6, 64)\n",
    "my_mean(my_vector)"
   ]
  },
  {
   "cell_type": "markdown",
   "metadata": {},
   "source": [
    "# 錯誤處理（Error Handling）\n",
    "\n",
    "我們在使用內建函數時候常有各種原因會導致錯誤或者警示，這時收到的回傳訊息可以幫助我們修改程式。"
   ]
  },
  {
   "cell_type": "code",
   "execution_count": 5,
   "metadata": {},
   "outputs": [
    {
     "data": {
      "text/html": [
       "1"
      ],
      "text/latex": [
       "1"
      ],
      "text/markdown": [
       "1"
      ],
      "text/plain": [
       "[1] 1"
      ]
     },
     "metadata": {},
     "output_type": "display_data"
    },
    {
     "name": "stderr",
     "output_type": "stream",
     "text": [
      "Warning message in eval(expr, envir, enclos):\n",
      "\"強制變更過程中產生了 NA\""
     ]
    },
    {
     "data": {
      "text/plain": [
       "[1] NA"
      ]
     },
     "metadata": {},
     "output_type": "display_data"
    }
   ],
   "source": [
    "as.integer(TRUE)\n",
    "as.integer(\"TRUE\")"
   ]
  },
  {
   "cell_type": "markdown",
   "metadata": {},
   "source": [
    "# R 語言\n",
    "\n",
    "R 語言使用 tryCatch() 函數進行錯誤處理，讓我們修改原本計算平方數的 my_square() 當使用者輸入文字時會回傳客製錯誤訊息：「請輸入數值。」"
   ]
  },
  {
   "cell_type": "code",
   "execution_count": 6,
   "metadata": {},
   "outputs": [
    {
     "data": {
      "text/html": [
       "9"
      ],
      "text/latex": [
       "9"
      ],
      "text/markdown": [
       "9"
      ],
      "text/plain": [
       "[1] 9"
      ]
     },
     "metadata": {},
     "output_type": "display_data"
    },
    {
     "name": "stdout",
     "output_type": "stream",
     "text": [
      "[1] \"請輸入數值。\"\n"
     ]
    }
   ],
   "source": [
    "# 定義自訂函數\n",
    "my_square <- function(input_number) {\n",
    "    tryCatch({\n",
    "        ans <- input_number^2\n",
    "        return(ans)\n",
    "        },\n",
    "        error = function(e) {\n",
    "            print(\"請輸入數值。\")\n",
    "        }\n",
    "    )\n",
    "}\n",
    "\n",
    "# 呼叫自訂函數\n",
    "my_square(3)\n",
    "my_square('ironmen')"
   ]
  },
  {
   "cell_type": "code",
   "execution_count": null,
   "metadata": {
    "collapsed": true
   },
   "outputs": [],
   "source": []
  }
 ],
 "metadata": {
  "kernelspec": {
   "display_name": "R",
   "language": "R",
   "name": "ir"
  },
  "language_info": {
   "codemirror_mode": "r",
   "file_extension": ".r",
   "mimetype": "text/x-r-source",
   "name": "R",
   "pygments_lexer": "r",
   "version": "3.4.1"
  }
 },
 "nbformat": 4,
 "nbformat_minor": 2
}
