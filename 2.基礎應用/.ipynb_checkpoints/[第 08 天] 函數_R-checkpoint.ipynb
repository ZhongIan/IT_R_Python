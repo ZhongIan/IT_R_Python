{
 "cells": [
  {
   "cell_type": "markdown",
   "metadata": {},
   "source": [
    "http://ithelp.ithome.com.tw/articles/10185382"
   ]
  },
  {
   "cell_type": "markdown",
   "metadata": {},
   "source": [
    "# 應用內建函數"
   ]
  },
  {
   "cell_type": "code",
   "execution_count": 2,
   "metadata": {},
   "outputs": [
    {
     "data": {
      "text/html": [
       "62"
      ],
      "text/latex": [
       "62"
      ],
      "text/markdown": [
       "62"
      ],
      "text/plain": [
       "[1] 62"
      ]
     },
     "metadata": {},
     "output_type": "display_data"
    },
    {
     "data": {
      "text/html": [
       "6"
      ],
      "text/latex": [
       "6"
      ],
      "text/markdown": [
       "6"
      ],
      "text/plain": [
       "[1] 6"
      ]
     },
     "metadata": {},
     "output_type": "display_data"
    },
    {
     "data": {
      "text/html": [
       "6"
      ],
      "text/latex": [
       "6"
      ],
      "text/markdown": [
       "6"
      ],
      "text/plain": [
       "[1] 6"
      ]
     },
     "metadata": {},
     "output_type": "display_data"
    },
    {
     "data": {
      "text/html": [
       "<ol class=list-inline>\n",
       "\t<li>6</li>\n",
       "\t<li>8</li>\n",
       "\t<li>12</li>\n",
       "\t<li>16</li>\n",
       "\t<li>50</li>\n",
       "\t<li>62</li>\n",
       "</ol>\n"
      ],
      "text/latex": [
       "\\begin{enumerate*}\n",
       "\\item 6\n",
       "\\item 8\n",
       "\\item 12\n",
       "\\item 16\n",
       "\\item 50\n",
       "\\item 62\n",
       "\\end{enumerate*}\n"
      ],
      "text/markdown": [
       "1. 6\n",
       "2. 8\n",
       "3. 12\n",
       "4. 16\n",
       "5. 50\n",
       "6. 62\n",
       "\n",
       "\n"
      ],
      "text/plain": [
       "[1]  6  8 12 16 50 62"
      ]
     },
     "metadata": {},
     "output_type": "display_data"
    },
    {
     "data": {
      "text/html": [
       "<ol class=list-inline>\n",
       "\t<li>62</li>\n",
       "\t<li>50</li>\n",
       "\t<li>16</li>\n",
       "\t<li>12</li>\n",
       "\t<li>8</li>\n",
       "\t<li>6</li>\n",
       "</ol>\n"
      ],
      "text/latex": [
       "\\begin{enumerate*}\n",
       "\\item 62\n",
       "\\item 50\n",
       "\\item 16\n",
       "\\item 12\n",
       "\\item 8\n",
       "\\item 6\n",
       "\\end{enumerate*}\n"
      ],
      "text/markdown": [
       "1. 62\n",
       "2. 50\n",
       "3. 16\n",
       "4. 12\n",
       "5. 8\n",
       "6. 6\n",
       "\n",
       "\n"
      ],
      "text/plain": [
       "[1] 62 50 16 12  8  6"
      ]
     },
     "metadata": {},
     "output_type": "display_data"
    }
   ],
   "source": [
    "ironmen <- c(50, 8, 16, 12, 6, 62)\n",
    "\n",
    "# 應用函數\n",
    "max(ironmen) # 最多的鐵人數\n",
    "min(ironmen) # 最少的鐵人數\n",
    "length(ironmen) # 總共有幾組\n",
    "sort(ironmen) # 遞增排序\n",
    "sort(ironmen, decreasing = TRUE) # 遞減排序"
   ]
  },
  {
   "cell_type": "markdown",
   "metadata": {},
   "source": [
    "# 查詢函數文件"
   ]
  },
  {
   "cell_type": "code",
   "execution_count": 4,
   "metadata": {
    "collapsed": true
   },
   "outputs": [],
   "source": [
    "?sort\n",
    "help(sort)"
   ]
  },
  {
   "cell_type": "markdown",
   "metadata": {},
   "source": [
    "# R 語言的自訂函數\n",
    "\n",
    "## R 語言自訂函數的架構：\n",
    "\n",
    "function_name <- function(輸入, 參數 1, 參數 2, ...) {\n",
    "    # 函數做些什麼事\n",
    "    return(結果)\n",
    "}\n",
    "\n",
    "\n",
    "我們利用兩個練習來熟悉如何自訂函數。"
   ]
  },
  {
   "cell_type": "markdown",
   "metadata": {},
   "source": [
    "# 計算圓形的面積或周長\n",
    "\n",
    "第一個練習是輸入圓形的半徑長，依照參數的指定回傳面積或周長。"
   ]
  },
  {
   "cell_type": "code",
   "execution_count": 5,
   "metadata": {},
   "outputs": [
    {
     "data": {
      "text/html": [
       "28.2743338823081"
      ],
      "text/latex": [
       "28.2743338823081"
      ],
      "text/markdown": [
       "28.2743338823081"
      ],
      "text/plain": [
       "[1] 28.27433"
      ]
     },
     "metadata": {},
     "output_type": "display_data"
    },
    {
     "data": {
      "text/html": [
       "18.8495559215388"
      ],
      "text/latex": [
       "18.8495559215388"
      ],
      "text/markdown": [
       "18.8495559215388"
      ],
      "text/plain": [
       "[1] 18.84956"
      ]
     },
     "metadata": {},
     "output_type": "display_data"
    }
   ],
   "source": [
    "# 定義自訂函數\n",
    "circle_calculate <- function(radius, area = TRUE) {\n",
    "    circle_area <- pi * radius^2\n",
    "    circle_circum <- 2 * pi * radius\n",
    "    if (area == TRUE) {\n",
    "        return(circle_area)\n",
    "    } else {\n",
    "        return(circle_circum)\n",
    "    }\n",
    "}\n",
    "\n",
    "# 呼叫自訂函數\n",
    "my_radius <- 3\n",
    "circle_calculate(my_radius) # 預設回傳面積\n",
    "circle_calculate(my_radius, area = FALSE) # 指定參數回傳周長"
   ]
  },
  {
   "cell_type": "markdown",
   "metadata": {},
   "source": [
    "# 交換排序法（exchange sort）\n",
    "\n",
    "第二個練習是寫程式的基本功交換排序法。"
   ]
  },
  {
   "cell_type": "code",
   "execution_count": 6,
   "metadata": {},
   "outputs": [
    {
     "data": {
      "text/html": [
       "<ol class=list-inline>\n",
       "\t<li>32</li>\n",
       "\t<li>7</li>\n",
       "\t<li>11</li>\n",
       "\t<li>58</li>\n",
       "\t<li>50</li>\n",
       "\t<li>96</li>\n",
       "\t<li>20</li>\n",
       "\t<li>10</li>\n",
       "\t<li>20</li>\n",
       "\t<li>17</li>\n",
       "</ol>\n"
      ],
      "text/latex": [
       "\\begin{enumerate*}\n",
       "\\item 32\n",
       "\\item 7\n",
       "\\item 11\n",
       "\\item 58\n",
       "\\item 50\n",
       "\\item 96\n",
       "\\item 20\n",
       "\\item 10\n",
       "\\item 20\n",
       "\\item 17\n",
       "\\end{enumerate*}\n"
      ],
      "text/markdown": [
       "1. 32\n",
       "2. 7\n",
       "3. 11\n",
       "4. 58\n",
       "5. 50\n",
       "6. 96\n",
       "7. 20\n",
       "8. 10\n",
       "9. 20\n",
       "10. 17\n",
       "\n",
       "\n"
      ],
      "text/plain": [
       " [1] 32  7 11 58 50 96 20 10 20 17"
      ]
     },
     "metadata": {},
     "output_type": "display_data"
    },
    {
     "data": {
      "text/html": [
       "<ol class=list-inline>\n",
       "\t<li>7</li>\n",
       "\t<li>10</li>\n",
       "\t<li>11</li>\n",
       "\t<li>17</li>\n",
       "\t<li>20</li>\n",
       "\t<li>20</li>\n",
       "\t<li>32</li>\n",
       "\t<li>50</li>\n",
       "\t<li>58</li>\n",
       "\t<li>96</li>\n",
       "</ol>\n"
      ],
      "text/latex": [
       "\\begin{enumerate*}\n",
       "\\item 7\n",
       "\\item 10\n",
       "\\item 11\n",
       "\\item 17\n",
       "\\item 20\n",
       "\\item 20\n",
       "\\item 32\n",
       "\\item 50\n",
       "\\item 58\n",
       "\\item 96\n",
       "\\end{enumerate*}\n"
      ],
      "text/markdown": [
       "1. 7\n",
       "2. 10\n",
       "3. 11\n",
       "4. 17\n",
       "5. 20\n",
       "6. 20\n",
       "7. 32\n",
       "8. 50\n",
       "9. 58\n",
       "10. 96\n",
       "\n",
       "\n"
      ],
      "text/plain": [
       " [1]  7 10 11 17 20 20 32 50 58 96"
      ]
     },
     "metadata": {},
     "output_type": "display_data"
    },
    {
     "data": {
      "text/html": [
       "<ol class=list-inline>\n",
       "\t<li>96</li>\n",
       "\t<li>58</li>\n",
       "\t<li>50</li>\n",
       "\t<li>32</li>\n",
       "\t<li>20</li>\n",
       "\t<li>20</li>\n",
       "\t<li>17</li>\n",
       "\t<li>11</li>\n",
       "\t<li>10</li>\n",
       "\t<li>7</li>\n",
       "</ol>\n"
      ],
      "text/latex": [
       "\\begin{enumerate*}\n",
       "\\item 96\n",
       "\\item 58\n",
       "\\item 50\n",
       "\\item 32\n",
       "\\item 20\n",
       "\\item 20\n",
       "\\item 17\n",
       "\\item 11\n",
       "\\item 10\n",
       "\\item 7\n",
       "\\end{enumerate*}\n"
      ],
      "text/markdown": [
       "1. 96\n",
       "2. 58\n",
       "3. 50\n",
       "4. 32\n",
       "5. 20\n",
       "6. 20\n",
       "7. 17\n",
       "8. 11\n",
       "9. 10\n",
       "10. 7\n",
       "\n",
       "\n"
      ],
      "text/plain": [
       " [1] 96 58 50 32 20 20 17 11 10  7"
      ]
     },
     "metadata": {},
     "output_type": "display_data"
    }
   ],
   "source": [
    "# 定義自訂函數\n",
    "exchange_sort <- function(input_vector, decreasing = FALSE) {\n",
    "    input_vector_cloned <- input_vector # 複製一個輸入向量\n",
    "    # 遞增排序\n",
    "    if (decreasing == FALSE) {\n",
    "        for (i in 1:(length(input_vector) - 1)) {\n",
    "            for (j in (i + 1):length(input_vector)) {\n",
    "               # 如果前一個數字比後一個數字大則交換位置\n",
    "               if (input_vector_cloned[i] > input_vector_cloned[j]) {\n",
    "                   temp <- input_vector_cloned[i]\n",
    "                   input_vector_cloned[i] <- input_vector_cloned[j]\n",
    "                   input_vector_cloned[j] <- temp\n",
    "               }\n",
    "            }\n",
    "        }\n",
    "    # 遞減排序\n",
    "    } else {\n",
    "        for (i in 1:(length(input_vector) - 1)) {\n",
    "            for (j in (i + 1):length(input_vector)) {\n",
    "               # 如果前一個數字比後一個數字小則交換位置\n",
    "               if (input_vector_cloned[i] < input_vector_cloned[j]) {\n",
    "                   temp <- input_vector_cloned[i]\n",
    "                   input_vector_cloned[i] <- input_vector_cloned[j]\n",
    "                   input_vector_cloned[j] <- temp\n",
    "               }\n",
    "            }\n",
    "        } \n",
    "    }\n",
    "    return(input_vector_cloned)\n",
    "}\n",
    "\n",
    "# 呼叫自訂函數\n",
    "my_vector <- round(runif(10) * 100) # 產生一組隨機數\n",
    "my_vector # 看看未排序前\n",
    "exchange_sort(my_vector) # 預設遞增排序\n",
    "exchange_sort(my_vector, decreasing = TRUE) # 指定參數遞減排序"
   ]
  },
  {
   "cell_type": "markdown",
   "metadata": {},
   "source": [
    "# 使用自訂函數回傳多個值\n",
    "\n",
    "R 語言自訂函數回傳多個值\n",
    "\n",
    "使用 list 資料結構將回傳值包裝起來再依名稱呼叫。"
   ]
  },
  {
   "cell_type": "code",
   "execution_count": 7,
   "metadata": {},
   "outputs": [
    {
     "data": {
      "text/html": [
       "'最多：62'"
      ],
      "text/latex": [
       "'最多：62'"
      ],
      "text/markdown": [
       "'最多：62'"
      ],
      "text/plain": [
       "[1] \"最多：62\""
      ]
     },
     "metadata": {},
     "output_type": "display_data"
    },
    {
     "data": {
      "text/html": [
       "'最少：6'"
      ],
      "text/latex": [
       "'最少：6'"
      ],
      "text/markdown": [
       "'最少：6'"
      ],
      "text/plain": [
       "[1] \"最少：6\""
      ]
     },
     "metadata": {},
     "output_type": "display_data"
    },
    {
     "data": {
      "text/html": [
       "'總組數：6'"
      ],
      "text/latex": [
       "'總組數：6'"
      ],
      "text/markdown": [
       "'總組數：6'"
      ],
      "text/plain": [
       "[1] \"總組數：6\""
      ]
     },
     "metadata": {},
     "output_type": "display_data"
    },
    {
     "data": {
      "text/html": [
       "'總鐵人數：154'"
      ],
      "text/latex": [
       "'總鐵人數：154'"
      ],
      "text/markdown": [
       "'總鐵人數：154'"
      ],
      "text/plain": [
       "[1] \"總鐵人數：154\""
      ]
     },
     "metadata": {},
     "output_type": "display_data"
    }
   ],
   "source": [
    "# 定義自訂函數\n",
    "ironmen_stats <- function(ironmen_vector) {\n",
    "    max_ironmen <- max(ironmen_vector)\n",
    "    min_ironmen <- min(ironmen_vector)\n",
    "    ttl_groups <- length(ironmen_vector)\n",
    "    ttl_ironmen <- sum(ironmen_vector)\n",
    "    \n",
    "    stats_list <- list(max_ironmen = max_ironmen,\n",
    "                       min_ironmen = min_ironmen,\n",
    "                       ttl_groups = ttl_groups,\n",
    "                       ttl_ironmen = ttl_ironmen\n",
    "                       )\n",
    "    \n",
    "    return(stats_list)\n",
    "}\n",
    "\n",
    "# 呼叫自訂函數\n",
    "ironmen <- c(50, 8, 16, 12, 6, 62)\n",
    "paste(\"最多：\", ironmen_stats(ironmen)$max_ironmen, sep = '')\n",
    "paste(\"最少：\", ironmen_stats(ironmen)$min_ironmen, sep = '')\n",
    "paste(\"總組數：\", ironmen_stats(ironmen)$ttl_groups, sep = '')\n",
    "paste(\"總鐵人數：\", ironmen_stats(ironmen)$ttl_ironmen, sep = '')"
   ]
  },
  {
   "cell_type": "markdown",
   "metadata": {},
   "source": [
    "# 匿名函數\n",
    "\n",
    "我們常常懶得為一個簡單的函數取名字，R 語言與 Python 很貼心都支援匿名函數。\n",
    "\n",
    "R 語言的匿名函數\n",
    "\n",
    "利用匿名函數 function(x) x * 30 把每組的鐵人數乘以 30 可以得到預期的各組文章總數。"
   ]
  },
  {
   "cell_type": "code",
   "execution_count": 8,
   "metadata": {},
   "outputs": [
    {
     "data": {
      "text/html": [
       "<ol class=list-inline>\n",
       "\t<li>1500</li>\n",
       "\t<li>240</li>\n",
       "\t<li>480</li>\n",
       "\t<li>360</li>\n",
       "\t<li>180</li>\n",
       "\t<li>1860</li>\n",
       "</ol>\n"
      ],
      "text/latex": [
       "\\begin{enumerate*}\n",
       "\\item 1500\n",
       "\\item 240\n",
       "\\item 480\n",
       "\\item 360\n",
       "\\item 180\n",
       "\\item 1860\n",
       "\\end{enumerate*}\n"
      ],
      "text/markdown": [
       "1. 1500\n",
       "2. 240\n",
       "3. 480\n",
       "4. 360\n",
       "5. 180\n",
       "6. 1860\n",
       "\n",
       "\n"
      ],
      "text/plain": [
       "[1] 1500  240  480  360  180 1860"
      ]
     },
     "metadata": {},
     "output_type": "display_data"
    }
   ],
   "source": [
    "ironmen <- c(50, 8, 16, 12, 6, 62)\n",
    "ironmen_articles <- sapply(ironmen, function(x) x * 30)\n",
    "ironmen_articles"
   ]
  },
  {
   "cell_type": "code",
   "execution_count": null,
   "metadata": {
    "collapsed": true
   },
   "outputs": [],
   "source": []
  }
 ],
 "metadata": {
  "kernelspec": {
   "display_name": "R",
   "language": "R",
   "name": "ir"
  },
  "language_info": {
   "codemirror_mode": "r",
   "file_extension": ".r",
   "mimetype": "text/x-r-source",
   "name": "R",
   "pygments_lexer": "r",
   "version": "3.4.1"
  }
 },
 "nbformat": 4,
 "nbformat_minor": 2
}
