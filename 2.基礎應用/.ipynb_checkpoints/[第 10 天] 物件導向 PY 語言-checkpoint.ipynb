{
 "cells": [
  {
   "cell_type": "markdown",
   "metadata": {},
   "source": [
    "http://ithelp.ithome.com.tw/articles/10185648"
   ]
  },
  {
   "cell_type": "markdown",
   "metadata": {},
   "source": [
    "# 屬性與方法\n",
    "\n",
    "一個物件（Object）可以包含屬性（Attribute）與方法（Method），\n",
    "\n",
    "我們示範的物件是一個 data frame 叫做 ironmen_df，她有 dtypes 屬性與 head() 方法。"
   ]
  },
  {
   "cell_type": "code",
   "execution_count": 1,
   "metadata": {},
   "outputs": [
    {
     "name": "stdout",
     "output_type": "stream",
     "text": [
      "groups     object\n",
      "ironmen     int64\n",
      "dtype: object\n"
     ]
    },
    {
     "data": {
      "text/html": [
       "<div>\n",
       "<style>\n",
       "    .dataframe thead tr:only-child th {\n",
       "        text-align: right;\n",
       "    }\n",
       "\n",
       "    .dataframe thead th {\n",
       "        text-align: left;\n",
       "    }\n",
       "\n",
       "    .dataframe tbody tr th {\n",
       "        vertical-align: top;\n",
       "    }\n",
       "</style>\n",
       "<table border=\"1\" class=\"dataframe\">\n",
       "  <thead>\n",
       "    <tr style=\"text-align: right;\">\n",
       "      <th></th>\n",
       "      <th>groups</th>\n",
       "      <th>ironmen</th>\n",
       "    </tr>\n",
       "  </thead>\n",
       "  <tbody>\n",
       "    <tr>\n",
       "      <th>0</th>\n",
       "      <td>Modern Web</td>\n",
       "      <td>54</td>\n",
       "    </tr>\n",
       "    <tr>\n",
       "      <th>1</th>\n",
       "      <td>DevOps</td>\n",
       "      <td>8</td>\n",
       "    </tr>\n",
       "    <tr>\n",
       "      <th>2</th>\n",
       "      <td>Cloud</td>\n",
       "      <td>18</td>\n",
       "    </tr>\n",
       "  </tbody>\n",
       "</table>\n",
       "</div>"
      ],
      "text/plain": [
       "       groups  ironmen\n",
       "0  Modern Web       54\n",
       "1      DevOps        8\n",
       "2       Cloud       18"
      ]
     },
     "execution_count": 1,
     "metadata": {},
     "output_type": "execute_result"
    }
   ],
   "source": [
    "import pandas as pd # 引用套件並縮寫為 pd\n",
    "\n",
    "groups = [\"Modern Web\", \"DevOps\", \"Cloud\", \"Big Data\", \"Security\", \"自我挑戰組\"]\n",
    "# 截至 2016-12-11 上午 11 時第 8 屆 iT 邦幫忙各組的鐵人分別是 54、8、18、14、6 與 65 人\n",
    "ironmen = [54, 8, 18, 14, 6, 65]\n",
    "\n",
    "ironmen_dict = {\"groups\": groups,\n",
    "                \"ironmen\": ironmen\n",
    "                }\n",
    "\n",
    "ironmen_df = pd.DataFrame(ironmen_dict)\n",
    "print(ironmen_df.dtypes) # ironmen_df 有 dtypes 屬性\n",
    "ironmen_df.head(n = 3) # ironmen_df 有 head() 方法"
   ]
  },
  {
   "cell_type": "markdown",
   "metadata": {},
   "source": [
    "# Python 的物件導向\n",
    "\n",
    "## 定義類別（Class）\n",
    "\n",
    "我們使用 class 語法來定義類別，並使用大寫開頭（Capitalized）單字為類別命名，\n",
    "\n",
    "如果對於 __init__ 方法與 self 參數感到困惑，就先記得這是一個特殊的 Python 方法，\n",
    "\n",
    "它用來幫助我們創造屬於這個類別的物件。"
   ]
  },
  {
   "cell_type": "code",
   "execution_count": 2,
   "metadata": {},
   "outputs": [
    {
     "name": "stdout",
     "output_type": "stream",
     "text": [
      "<class '__main__.Ironmen'>\n"
     ]
    }
   ],
   "source": [
    "class Ironmen:\n",
    "    '''這是一個叫做 Ironmen 的類別''' # Doc string\n",
    "    def __init__(self, group, participants):\n",
    "        self.group = group\n",
    "        self.participants = participants\n",
    "\n",
    "print(Ironmen)"
   ]
  },
  {
   "cell_type": "markdown",
   "metadata": {},
   "source": [
    "# 根據類別建立物件（Object）\n",
    "\n",
    "一但類別 Ironmen 被定義完成，就可以使用 Ironmen() 當作建構子（Constructor）建立物件。"
   ]
  },
  {
   "cell_type": "code",
   "execution_count": 5,
   "metadata": {},
   "outputs": [
    {
     "name": "stdout",
     "output_type": "stream",
     "text": [
      "<__main__.Ironmen object at 0x0000000004CB9588>\n"
     ]
    }
   ],
   "source": [
    "class Ironmen:\n",
    "    '''這是一個叫做 Ironmen 的類別''' # Doc string\n",
    "    def __init__(self, group, participants):\n",
    "        self.group = group\n",
    "        self.participants = participants\n",
    "\n",
    "# 根據 Ironmen 類別建立一個物件 modern_web\n",
    "modern_web = Ironmen(\"Modern Web\", 54)\n",
    "print(modern_web)"
   ]
  },
  {
   "cell_type": "markdown",
   "metadata": {},
   "source": [
    "# 使用物件的屬性（Attribute）\n",
    "\n",
    "在物件名稱後面使用 . 接屬性名稱就可以使用。"
   ]
  },
  {
   "cell_type": "code",
   "execution_count": 6,
   "metadata": {},
   "outputs": [
    {
     "name": "stdout",
     "output_type": "stream",
     "text": [
      "Modern Web\n",
      "54\n",
      "這是一個叫做 Ironmen 的類別\n"
     ]
    }
   ],
   "source": [
    "class Ironmen:\n",
    "    '''這是一個叫做 Ironmen 的類別''' # Doc string\n",
    "    def __init__(self, group, participants):\n",
    "        self.group = group\n",
    "        self.participants = participants\n",
    "\n",
    "# 根據 Ironmen 類別建立一個物件 modern_web\n",
    "modern_web = Ironmen(\"Modern Web\", 54)\n",
    "\n",
    "# 印出 modern_web 的兩個屬性\n",
    "print(modern_web.group)\n",
    "print(modern_web.participants)\n",
    "\n",
    "# 印出 modern_web 的類別 doc string\n",
    "print(modern_web.__doc__)"
   ]
  },
  {
   "cell_type": "markdown",
   "metadata": {},
   "source": [
    "---\n",
    "\n",
    "在我們建立好屬於 Ironmen 類別的 modern_web 物件後，\n",
    "\n",
    "在 jupyter notebook 中我們還可以透過 tab 鍵來查看這個類別有哪些屬性（前後帶有兩個底線 __ 的是預設屬性。）"
   ]
  },
  {
   "cell_type": "markdown",
   "metadata": {},
   "source": [
    "---\n",
    "我們也可以使用內建函數 dir() 來列出物件全部的屬性。"
   ]
  },
  {
   "cell_type": "code",
   "execution_count": 7,
   "metadata": {},
   "outputs": [
    {
     "data": {
      "text/plain": [
       "['__class__',\n",
       " '__delattr__',\n",
       " '__dict__',\n",
       " '__dir__',\n",
       " '__doc__',\n",
       " '__eq__',\n",
       " '__format__',\n",
       " '__ge__',\n",
       " '__getattribute__',\n",
       " '__gt__',\n",
       " '__hash__',\n",
       " '__init__',\n",
       " '__init_subclass__',\n",
       " '__le__',\n",
       " '__lt__',\n",
       " '__module__',\n",
       " '__ne__',\n",
       " '__new__',\n",
       " '__reduce__',\n",
       " '__reduce_ex__',\n",
       " '__repr__',\n",
       " '__setattr__',\n",
       " '__sizeof__',\n",
       " '__str__',\n",
       " '__subclasshook__',\n",
       " '__weakref__',\n",
       " 'group',\n",
       " 'participants']"
      ]
     },
     "execution_count": 7,
     "metadata": {},
     "output_type": "execute_result"
    }
   ],
   "source": [
    "class Ironmen:\n",
    "    '''這是一個叫做 Ironmen 的類別''' # Doc string\n",
    "    def __init__(self, group, participants):\n",
    "        self.group = group\n",
    "        self.participants = participants\n",
    "\n",
    "# 根據 Ironmen 類別建立一個物件 modern_web\n",
    "modern_web = Ironmen(\"Modern Web\", 54)\n",
    "\n",
    "# 使用 dir() 函數\n",
    "dir(modern_web)"
   ]
  },
  {
   "cell_type": "markdown",
   "metadata": {},
   "source": [
    "# 定義方法（Method）\n",
    "\n",
    "除了 __init__ 方法之外利用 def 定義更多屬於這個類別的方法。"
   ]
  },
  {
   "cell_type": "code",
   "execution_count": 8,
   "metadata": {},
   "outputs": [
    {
     "name": "stdout",
     "output_type": "stream",
     "text": [
      "Modern Web 組有 54 位鐵人參賽！\n",
      "DevOps 組有 8 位鐵人參賽！\n"
     ]
    }
   ],
   "source": [
    "class Ironmen:\n",
    "    '''這是一個叫做 Ironmen 的類別''' # Doc string\n",
    "    def __init__(self, group, participants):\n",
    "        self.group = group\n",
    "        self.participants = participants\n",
    "    \n",
    "    def print_info(self):\n",
    "        print(self.group, \"組有\", self.participants, \"位鐵人參賽！\")\n",
    "\n",
    "# 根據 Ironmen 類別建立一個物件 modern_web\n",
    "modern_web = Ironmen(\"Modern Web\", 54)\n",
    "\n",
    "# 根據 Ironmen 類別建立一個物件 dev_ops\n",
    "dev_ops = Ironmen(\"DevOps\", 8)\n",
    "\n",
    "# 使用 modern_web 的 print_info() 方法\n",
    "modern_web.print_info()\n",
    "\n",
    "# 使用 dev_ops 的 print_info() 方法\n",
    "dev_ops.print_info()"
   ]
  },
  {
   "cell_type": "markdown",
   "metadata": {},
   "source": [
    "# 繼承（Inheritance）\n",
    "\n",
    "新定義的類別可以繼承既有定義好的類別，可以沿用既有類別中的屬性及方法。"
   ]
  },
  {
   "cell_type": "code",
   "execution_count": 9,
   "metadata": {},
   "outputs": [
    {
     "name": "stdout",
     "output_type": "stream",
     "text": [
      "Modern Web 組預計會有 1620 篇文章！\n",
      "Modern Web 組有 54 位鐵人參賽！\n"
     ]
    }
   ],
   "source": [
    "class Ironmen:\n",
    "    '''這是一個叫做 Ironmen 的類別''' # Doc string\n",
    "    def __init__(self, group, participants):\n",
    "        self.group = group\n",
    "        self.participants = participants\n",
    "    \n",
    "    def print_info(self):\n",
    "        print(self.group, \"組有\", self.participants, \"位鐵人參賽！\")\n",
    "\n",
    "# Articles 類別繼承 Ironmen 類別\n",
    "class Articles(Ironmen):\n",
    "    '''\n",
    "    這是一個叫做 Articles 的類別。\n",
    "    Articles 繼承 Ironmen 類別，她新增了一個 print_articles() 方法\n",
    "    '''\n",
    "    def print_articles(self):\n",
    "        print(self.group, \"組預計會有\", self.participants * 30, \"篇文章！\")\n",
    "\n",
    "# 根據 Articles 類別建立一個物件 modern_web\n",
    "modern_web = Articles(\"Modern Web\", 54)\n",
    "\n",
    "# 使用 modern_web 的 print_articles() 方法\n",
    "modern_web.print_articles()\n",
    "\n",
    "# 檢查 modern_web 是否還擁有 print_info() 方法\n",
    "modern_web.print_info()"
   ]
  },
  {
   "cell_type": "markdown",
   "metadata": {},
   "source": [
    "# 在繼承時使用 super()\n",
    "\n",
    "可以根據原本的屬性或方法之上建立新的屬性或方法。"
   ]
  },
  {
   "cell_type": "code",
   "execution_count": 10,
   "metadata": {},
   "outputs": [
    {
     "name": "stdout",
     "output_type": "stream",
     "text": [
      "Modern Web\n",
      "54\n"
     ]
    }
   ],
   "source": [
    "class OnlyGroup:\n",
    "    '''這是一個叫做 OnlyGroup 的類別''' # Doc string\n",
    "    def __init__(self, group):\n",
    "        self.group = group\n",
    "\n",
    "# Ironmen 類別繼承 OnlyGroup 類別\n",
    "class Ironmen(OnlyGroup):\n",
    "    '''這是一個叫做 Ironmen 的類別''' # Doc string\n",
    "    def __init__(self, group, participants):\n",
    "        super().__init__(group)\n",
    "        self.participants = participants\n",
    "\n",
    "# 根據 Ironmen 類別建立一個物件 modern_web\n",
    "modern_web = Ironmen(\"Modern Web\", 54)\n",
    "\n",
    "# 印出 modern_web 的兩個屬性\n",
    "print(modern_web.group)\n",
    "print(modern_web.participants)"
   ]
  },
  {
   "cell_type": "markdown",
   "metadata": {},
   "source": [
    "# 在繼承時改寫方法（Override）\n",
    "\n",
    "我們在先前繼承時成功增加一個方法 print_articles()，現在我們要試著在 Article 類別中改寫原本 Ironmen 類別中的 print_info() 方法。"
   ]
  },
  {
   "cell_type": "code",
   "execution_count": 11,
   "metadata": {},
   "outputs": [
    {
     "name": "stdout",
     "output_type": "stream",
     "text": [
      "Modern Web 組有 54 位鐵人參賽！p.s.我被改寫了！\n"
     ]
    }
   ],
   "source": [
    "class Ironmen:\n",
    "    '''這是一個叫做 Ironmen 的類別''' # Doc string\n",
    "    def __init__(self, group, participants):\n",
    "        self.group = group\n",
    "        self.participants = participants\n",
    "    \n",
    "    def print_info(self):\n",
    "        print(self.group, \"組有\", self.participants, \"位鐵人參賽！\")\n",
    "\n",
    "# Articles 類別繼承 Ironmen 類別\n",
    "class Articles(Ironmen):\n",
    "    '''\n",
    "    這是一個叫做 Articles 的類別。\n",
    "    Articles 繼承 Ironmen 類別，她新增了一個 print_articles() 方法\n",
    "    '''\n",
    "    def print_articles(self):\n",
    "        print(self.group, \"組預計會有\", self.participants * 30, \"篇文章！\")\n",
    "    \n",
    "    # 改寫 print_info() 方法\n",
    "    def print_info(self):\n",
    "        print(self.group, \"組有\", self.participants, \"位鐵人參賽！p.s.我被改寫了！\")\n",
    "\n",
    "# 根據 Articles 類別建立一個物件 modern_web\n",
    "modern_web = Articles(\"Modern Web\", 54)\n",
    "\n",
    "# 檢查 modern_web 的 print_info() 方法是否被改寫\n",
    "modern_web.print_info()"
   ]
  },
  {
   "cell_type": "code",
   "execution_count": null,
   "metadata": {
    "collapsed": true
   },
   "outputs": [],
   "source": []
  }
 ],
 "metadata": {
  "kernelspec": {
   "display_name": "Python 3",
   "language": "python",
   "name": "python3"
  },
  "language_info": {
   "codemirror_mode": {
    "name": "ipython",
    "version": 3
   },
   "file_extension": ".py",
   "mimetype": "text/x-python",
   "name": "python",
   "nbconvert_exporter": "python",
   "pygments_lexer": "ipython3",
   "version": "3.6.1"
  }
 },
 "nbformat": 4,
 "nbformat_minor": 2
}
