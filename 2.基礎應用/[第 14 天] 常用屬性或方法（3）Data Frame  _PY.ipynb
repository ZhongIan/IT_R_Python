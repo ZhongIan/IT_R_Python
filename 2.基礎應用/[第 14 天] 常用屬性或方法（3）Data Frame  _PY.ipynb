{
 "cells": [
  {
   "cell_type": "markdown",
   "metadata": {},
   "source": [
    "http://ithelp.ithome.com.tw/articles/10185922"
   ]
  },
  {
   "cell_type": "markdown",
   "metadata": {},
   "source": [
    "# Pandas 與 data frame 的常用屬性或方法\n",
    "\n",
    "## 建立 data frame\n",
    "\n",
    "使用 pandas 套件的 DataFrame() 方法將一個 dictionary 的資料結構轉換成 data frame。"
   ]
  },
  {
   "cell_type": "code",
   "execution_count": 2,
   "metadata": {},
   "outputs": [
    {
     "data": {
      "text/html": [
       "<div>\n",
       "<style>\n",
       "    .dataframe thead tr:only-child th {\n",
       "        text-align: right;\n",
       "    }\n",
       "\n",
       "    .dataframe thead th {\n",
       "        text-align: left;\n",
       "    }\n",
       "\n",
       "    .dataframe tbody tr th {\n",
       "        vertical-align: top;\n",
       "    }\n",
       "</style>\n",
       "<table border=\"1\" class=\"dataframe\">\n",
       "  <thead>\n",
       "    <tr style=\"text-align: right;\">\n",
       "      <th></th>\n",
       "      <th>groups</th>\n",
       "      <th>ironmen</th>\n",
       "    </tr>\n",
       "  </thead>\n",
       "  <tbody>\n",
       "    <tr>\n",
       "      <th>0</th>\n",
       "      <td>Modern Web</td>\n",
       "      <td>59</td>\n",
       "    </tr>\n",
       "    <tr>\n",
       "      <th>1</th>\n",
       "      <td>DevOps</td>\n",
       "      <td>9</td>\n",
       "    </tr>\n",
       "    <tr>\n",
       "      <th>2</th>\n",
       "      <td>Cloud</td>\n",
       "      <td>19</td>\n",
       "    </tr>\n",
       "    <tr>\n",
       "      <th>3</th>\n",
       "      <td>Big Data</td>\n",
       "      <td>14</td>\n",
       "    </tr>\n",
       "    <tr>\n",
       "      <th>4</th>\n",
       "      <td>Security</td>\n",
       "      <td>6</td>\n",
       "    </tr>\n",
       "    <tr>\n",
       "      <th>5</th>\n",
       "      <td>自我挑戰組</td>\n",
       "      <td>77</td>\n",
       "    </tr>\n",
       "  </tbody>\n",
       "</table>\n",
       "</div>"
      ],
      "text/plain": [
       "       groups  ironmen\n",
       "0  Modern Web       59\n",
       "1      DevOps        9\n",
       "2       Cloud       19\n",
       "3    Big Data       14\n",
       "4    Security        6\n",
       "5       自我挑戰組       77"
      ]
     },
     "execution_count": 2,
     "metadata": {},
     "output_type": "execute_result"
    }
   ],
   "source": [
    "import pandas as pd\n",
    "\n",
    "# 截至 2016-12-14 上午 11 時第 8 屆 iT 邦幫忙各組的鐵人分別是 59、9、19、14、6 與 77 人\n",
    "groups = [\"Modern Web\", \"DevOps\", \"Cloud\", \"Big Data\", \"Security\", \"自我挑戰組\"]\n",
    "ironmen = [59, 9, 19, 14, 6, 77]\n",
    "\n",
    "ironmen_dict = {\n",
    "                \"groups\": groups,\n",
    "                \"ironmen\": ironmen\n",
    "}\n",
    "\n",
    "ironmen_df = pd.DataFrame(ironmen_dict)\n",
    "ironmen_df"
   ]
  },
  {
   "cell_type": "markdown",
   "metadata": {},
   "source": [
    "# 瞭解 data frame 的概觀\n",
    "\n",
    ">+ ndim 屬性\n",
    ">+ shape 屬性\n",
    ">+ dtypes 屬性"
   ]
  },
  {
   "cell_type": "code",
   "execution_count": 3,
   "metadata": {},
   "outputs": [
    {
     "name": "stdout",
     "output_type": "stream",
     "text": [
      "2\n",
      "---\n",
      "(6, 2)\n",
      "---\n",
      "groups     object\n",
      "ironmen     int64\n",
      "dtype: object\n"
     ]
    }
   ],
   "source": [
    "import pandas as pd\n",
    "\n",
    "groups = [\"Modern Web\", \"DevOps\", \"Cloud\", \"Big Data\", \"Security\", \"自我挑戰組\"]\n",
    "ironmen = [59, 9, 19, 14, 6, 77]\n",
    "\n",
    "ironmen_dict = {\n",
    "                \"groups\": groups,\n",
    "                \"ironmen\": ironmen\n",
    "}\n",
    "\n",
    "# 建立 data frame\n",
    "ironmen_df = pd.DataFrame(ironmen_dict)\n",
    "\n",
    "# 使用屬性\n",
    "print(ironmen_df.ndim)\n",
    "print(\"---\") # 分隔線\n",
    "print(ironmen_df.shape)\n",
    "print(\"---\") # 分隔線\n",
    "print(ironmen_df.dtypes)"
   ]
  },
  {
   "cell_type": "markdown",
   "metadata": {},
   "source": [
    "# 刪除觀測值或欄位\n",
    "\n",
    "data frame 可以透過 drop() 方法來刪除觀測值或欄位，\n",
    "\n",
    "指定參數 axis = 0 表示要刪除觀測值（row），\n",
    "\n",
    "指定參數 axis = 1 表示要刪除欄位（column）。"
   ]
  },
  {
   "cell_type": "code",
   "execution_count": 5,
   "metadata": {},
   "outputs": [
    {
     "name": "stdout",
     "output_type": "stream",
     "text": [
      "     groups  ironmen\n",
      "1    DevOps        9\n",
      "2     Cloud       19\n",
      "3  Big Data       14\n",
      "4  Security        6\n",
      "5     自我挑戰組       77\n",
      "---\n",
      "   ironmen\n",
      "0       59\n",
      "1        9\n",
      "2       19\n",
      "3       14\n",
      "4        6\n",
      "5       77\n"
     ]
    }
   ],
   "source": [
    "import pandas as pd\n",
    "\n",
    "groups = [\"Modern Web\", \"DevOps\", \"Cloud\", \"Big Data\", \"Security\", \"自我挑戰組\"]\n",
    "ironmen = [59, 9, 19, 14, 6, 77]\n",
    "\n",
    "ironmen_dict = {\n",
    "                \"groups\": groups,\n",
    "                \"ironmen\": ironmen\n",
    "}\n",
    "\n",
    "# 建立 data frame\n",
    "ironmen_df = pd.DataFrame(ironmen_dict)\n",
    "\n",
    "# 刪除觀測值\n",
    "ironmen_df_no_mw = ironmen_df.drop(0, axis = 0)\n",
    "print(ironmen_df_no_mw)\n",
    "print(\"---\") # 分隔線\n",
    "\n",
    "# 刪除欄位\n",
    "ironmen_df_no_groups = ironmen_df.drop(\"groups\", axis = 1)\n",
    "print(ironmen_df_no_groups)"
   ]
  },
  {
   "cell_type": "markdown",
   "metadata": {},
   "source": [
    "# 透過 ix 屬性篩選 data frame\n",
    "\n",
    "我們可以透過 ix 屬性（利用索引值）篩選 data frame。"
   ]
  },
  {
   "cell_type": "code",
   "execution_count": 6,
   "metadata": {},
   "outputs": [
    {
     "name": "stdout",
     "output_type": "stream",
     "text": [
      "0    Modern Web\n",
      "1        DevOps\n",
      "2         Cloud\n",
      "3      Big Data\n",
      "4      Security\n",
      "5         自我挑戰組\n",
      "Name: groups, dtype: object\n",
      "---\n",
      "groups     Modern Web\n",
      "ironmen            59\n",
      "Name: 0, dtype: object\n",
      "---\n",
      "Modern Web\n"
     ]
    },
    {
     "name": "stderr",
     "output_type": "stream",
     "text": [
      "C:\\Program Files\\Anaconda3\\lib\\site-packages\\ipykernel_launcher.py:15: DeprecationWarning: \n",
      ".ix is deprecated. Please use\n",
      ".loc for label based indexing or\n",
      ".iloc for positional indexing\n",
      "\n",
      "See the documentation here:\n",
      "http://pandas.pydata.org/pandas-docs/stable/indexing.html#deprecate_ix\n",
      "  from ipykernel import kernelapp as app\n"
     ]
    }
   ],
   "source": [
    "import pandas as pd\n",
    "\n",
    "groups = [\"Modern Web\", \"DevOps\", \"Cloud\", \"Big Data\", \"Security\", \"自我挑戰組\"]\n",
    "ironmen = [59, 9, 19, 14, 6, 77]\n",
    "\n",
    "ironmen_dict = {\n",
    "                \"groups\": groups,\n",
    "                \"ironmen\": ironmen\n",
    "}\n",
    "\n",
    "# 建立 data frame\n",
    "ironmen_df = pd.DataFrame(ironmen_dict)\n",
    "\n",
    "# 選擇欄位\n",
    "print(ironmen_df.ix[:, \"groups\"])\n",
    "print(\"---\") # 分隔線\n",
    "\n",
    "# 選擇觀測值\n",
    "print(ironmen_df.ix[0])\n",
    "print(\"---\") # 分隔線\n",
    "\n",
    "# 同時選擇欄位與觀測值\n",
    "print(ironmen_df.ix[0, \"groups\"])"
   ]
  },
  {
   "cell_type": "markdown",
   "metadata": {},
   "source": [
    "# 透過布林值篩選 data frame"
   ]
  },
  {
   "cell_type": "code",
   "execution_count": 7,
   "metadata": {},
   "outputs": [
    {
     "data": {
      "text/html": [
       "<div>\n",
       "<style>\n",
       "    .dataframe thead tr:only-child th {\n",
       "        text-align: right;\n",
       "    }\n",
       "\n",
       "    .dataframe thead th {\n",
       "        text-align: left;\n",
       "    }\n",
       "\n",
       "    .dataframe tbody tr th {\n",
       "        vertical-align: top;\n",
       "    }\n",
       "</style>\n",
       "<table border=\"1\" class=\"dataframe\">\n",
       "  <thead>\n",
       "    <tr style=\"text-align: right;\">\n",
       "      <th></th>\n",
       "      <th>groups</th>\n",
       "      <th>ironmen</th>\n",
       "    </tr>\n",
       "  </thead>\n",
       "  <tbody>\n",
       "    <tr>\n",
       "      <th>0</th>\n",
       "      <td>Modern Web</td>\n",
       "      <td>59</td>\n",
       "    </tr>\n",
       "    <tr>\n",
       "      <th>2</th>\n",
       "      <td>Cloud</td>\n",
       "      <td>19</td>\n",
       "    </tr>\n",
       "    <tr>\n",
       "      <th>3</th>\n",
       "      <td>Big Data</td>\n",
       "      <td>14</td>\n",
       "    </tr>\n",
       "    <tr>\n",
       "      <th>5</th>\n",
       "      <td>自我挑戰組</td>\n",
       "      <td>77</td>\n",
       "    </tr>\n",
       "  </tbody>\n",
       "</table>\n",
       "</div>"
      ],
      "text/plain": [
       "       groups  ironmen\n",
       "0  Modern Web       59\n",
       "2       Cloud       19\n",
       "3    Big Data       14\n",
       "5       自我挑戰組       77"
      ]
     },
     "execution_count": 7,
     "metadata": {},
     "output_type": "execute_result"
    }
   ],
   "source": [
    "import pandas as pd\n",
    "\n",
    "groups = [\"Modern Web\", \"DevOps\", \"Cloud\", \"Big Data\", \"Security\", \"自我挑戰組\"]\n",
    "ironmen = [59, 9, 19, 14, 6, 77]\n",
    "\n",
    "ironmen_dict = {\n",
    "                \"groups\": groups,\n",
    "                \"ironmen\": ironmen\n",
    "}\n",
    "\n",
    "# 建立 data frame\n",
    "ironmen_df = pd.DataFrame(ironmen_dict)\n",
    "\n",
    "filter = ironmen_df[\"ironmen\"] > 10 # 參賽人數大於 10\n",
    "ironmen_df[filter] # 篩選 data frame"
   ]
  },
  {
   "cell_type": "markdown",
   "metadata": {},
   "source": [
    "# 排序\n",
    "\n",
    ">+ sort_index() 方法\n",
    ">+ sort_values() 方法\n",
    ">+ 使用 data frame 的 sort_index() 方法可以用索引值排序。"
   ]
  },
  {
   "cell_type": "code",
   "execution_count": 8,
   "metadata": {},
   "outputs": [
    {
     "data": {
      "text/html": [
       "<div>\n",
       "<style>\n",
       "    .dataframe thead tr:only-child th {\n",
       "        text-align: right;\n",
       "    }\n",
       "\n",
       "    .dataframe thead th {\n",
       "        text-align: left;\n",
       "    }\n",
       "\n",
       "    .dataframe tbody tr th {\n",
       "        vertical-align: top;\n",
       "    }\n",
       "</style>\n",
       "<table border=\"1\" class=\"dataframe\">\n",
       "  <thead>\n",
       "    <tr style=\"text-align: right;\">\n",
       "      <th></th>\n",
       "      <th>ironmen</th>\n",
       "    </tr>\n",
       "  </thead>\n",
       "  <tbody>\n",
       "    <tr>\n",
       "      <th>Big Data</th>\n",
       "      <td>14</td>\n",
       "    </tr>\n",
       "    <tr>\n",
       "      <th>Cloud</th>\n",
       "      <td>19</td>\n",
       "    </tr>\n",
       "    <tr>\n",
       "      <th>DevOps</th>\n",
       "      <td>9</td>\n",
       "    </tr>\n",
       "    <tr>\n",
       "      <th>Modern Web</th>\n",
       "      <td>59</td>\n",
       "    </tr>\n",
       "    <tr>\n",
       "      <th>Security</th>\n",
       "      <td>6</td>\n",
       "    </tr>\n",
       "    <tr>\n",
       "      <th>自我挑戰組</th>\n",
       "      <td>77</td>\n",
       "    </tr>\n",
       "  </tbody>\n",
       "</table>\n",
       "</div>"
      ],
      "text/plain": [
       "            ironmen\n",
       "Big Data         14\n",
       "Cloud            19\n",
       "DevOps            9\n",
       "Modern Web       59\n",
       "Security          6\n",
       "自我挑戰組            77"
      ]
     },
     "execution_count": 8,
     "metadata": {},
     "output_type": "execute_result"
    }
   ],
   "source": [
    "import pandas as pd\n",
    "\n",
    "groups = [\"Modern Web\", \"DevOps\", \"Cloud\", \"Big Data\", \"Security\", \"自我挑戰組\"]\n",
    "ironmen = [59, 9, 19, 14, 6, 77]\n",
    "\n",
    "# 建立 data frame\n",
    "ironmen_df = pd.DataFrame(ironmen, columns = [\"ironmen\"], index = groups)\n",
    "\n",
    "# 用索引值排序\n",
    "ironmen_df.sort_index()"
   ]
  },
  {
   "cell_type": "markdown",
   "metadata": {},
   "source": [
    "使用 data frame 的 sort_values() 方法可以用指定欄位的數值排序。"
   ]
  },
  {
   "cell_type": "code",
   "execution_count": 9,
   "metadata": {
    "scrolled": true
   },
   "outputs": [
    {
     "data": {
      "text/html": [
       "<div>\n",
       "<style>\n",
       "    .dataframe thead tr:only-child th {\n",
       "        text-align: right;\n",
       "    }\n",
       "\n",
       "    .dataframe thead th {\n",
       "        text-align: left;\n",
       "    }\n",
       "\n",
       "    .dataframe tbody tr th {\n",
       "        vertical-align: top;\n",
       "    }\n",
       "</style>\n",
       "<table border=\"1\" class=\"dataframe\">\n",
       "  <thead>\n",
       "    <tr style=\"text-align: right;\">\n",
       "      <th></th>\n",
       "      <th>ironmen</th>\n",
       "    </tr>\n",
       "  </thead>\n",
       "  <tbody>\n",
       "    <tr>\n",
       "      <th>Security</th>\n",
       "      <td>6</td>\n",
       "    </tr>\n",
       "    <tr>\n",
       "      <th>DevOps</th>\n",
       "      <td>9</td>\n",
       "    </tr>\n",
       "    <tr>\n",
       "      <th>Big Data</th>\n",
       "      <td>14</td>\n",
       "    </tr>\n",
       "    <tr>\n",
       "      <th>Cloud</th>\n",
       "      <td>19</td>\n",
       "    </tr>\n",
       "    <tr>\n",
       "      <th>Modern Web</th>\n",
       "      <td>59</td>\n",
       "    </tr>\n",
       "    <tr>\n",
       "      <th>自我挑戰組</th>\n",
       "      <td>77</td>\n",
       "    </tr>\n",
       "  </tbody>\n",
       "</table>\n",
       "</div>"
      ],
      "text/plain": [
       "            ironmen\n",
       "Security          6\n",
       "DevOps            9\n",
       "Big Data         14\n",
       "Cloud            19\n",
       "Modern Web       59\n",
       "自我挑戰組            77"
      ]
     },
     "execution_count": 9,
     "metadata": {},
     "output_type": "execute_result"
    }
   ],
   "source": [
    "import pandas as pd\n",
    "\n",
    "groups = [\"Modern Web\", \"DevOps\", \"Cloud\", \"Big Data\", \"Security\", \"自我挑戰組\"]\n",
    "ironmen = [59, 9, 19, 14, 6, 77]\n",
    "\n",
    "# 建立 data frame\n",
    "ironmen_df = pd.DataFrame(ironmen, columns = [\"ironmen\"], index = groups)\n",
    "\n",
    "# 用數值排序\n",
    "ironmen_df.sort_values(by = \"ironmen\")"
   ]
  },
  {
   "cell_type": "markdown",
   "metadata": {},
   "source": [
    "# 描述統計\n",
    "\n",
    "data frame 有 sum()、mean()、median() 與 describe() 等統計方法可以使用。"
   ]
  },
  {
   "cell_type": "code",
   "execution_count": 10,
   "metadata": {},
   "outputs": [
    {
     "name": "stdout",
     "output_type": "stream",
     "text": [
      "groups     Modern WebDevOpsCloudBig DataSecurity自我挑戰組\n",
      "ironmen                                           184\n",
      "dtype: object\n",
      "---\n",
      "ironmen    30.666667\n",
      "dtype: float64\n",
      "---\n",
      "ironmen    16.5\n",
      "dtype: float64\n",
      "---\n",
      "         ironmen\n",
      "count   6.000000\n",
      "mean   30.666667\n",
      "std    29.803803\n",
      "min     6.000000\n",
      "25%    10.250000\n",
      "50%    16.500000\n",
      "75%    49.000000\n",
      "max    77.000000\n"
     ]
    }
   ],
   "source": [
    "import pandas as pd\n",
    "\n",
    "groups = [\"Modern Web\", \"DevOps\", \"Cloud\", \"Big Data\", \"Security\", \"自我挑戰組\"]\n",
    "ironmen = [59, 9, 19, 14, 6, 77]\n",
    "\n",
    "ironmen_dict = {\n",
    "                \"groups\": groups,\n",
    "                \"ironmen\": ironmen\n",
    "}\n",
    "\n",
    "# 建立 data frame\n",
    "ironmen_df = pd.DataFrame(ironmen_dict)\n",
    "\n",
    "print(ironmen_df.sum()) # 計算總鐵人數\n",
    "print(\"---\") # 分隔線\n",
    "print(ironmen_df.mean()) # 計算平均鐵人數\n",
    "print(\"---\") # 分隔線\n",
    "print(ironmen_df.median()) # 計算中位數\n",
    "print(\"---\") # 分隔線\n",
    "print(ironmen_df.describe()) # 描述統計"
   ]
  },
  {
   "cell_type": "markdown",
   "metadata": {},
   "source": [
    "# 相異值個數\n",
    "\n",
    "透過 pandas 的 value_counts() 方法可以統計相異值的個數。"
   ]
  },
  {
   "cell_type": "code",
   "execution_count": 11,
   "metadata": {},
   "outputs": [
    {
     "data": {
      "text/plain": [
       "Male      7\n",
       "Female    2\n",
       "Name: gender, dtype: int64"
      ]
     },
     "execution_count": 11,
     "metadata": {},
     "output_type": "execute_result"
    }
   ],
   "source": [
    "import pandas as pd\n",
    "\n",
    "gender = [\"Male\", \"Male\", \"Female\", \"Male\", \"Male\", \"Male\", \"Female\", \"Male\", \"Male\"]\n",
    "name = [\"蒙其·D·魯夫\", \"羅羅亞·索隆\", \"娜美\", \"騙人布\", \"文斯莫克·香吉士\", \"多尼多尼·喬巴\", \"妮可·羅賓\", \"佛朗基\", \"布魯克\"]\n",
    "\n",
    "# 建立 data frame\n",
    "ironmen_df = pd.DataFrame(gender, columns = [\"gender\"], index = name)\n",
    "\n",
    "# 計算男女各有幾個觀測值\n",
    "pd.value_counts(ironmen_df.gender)"
   ]
  },
  {
   "cell_type": "markdown",
   "metadata": {},
   "source": [
    "# 遺失值\n",
    "\n",
    "## 判斷遺失值\n",
    "\n",
    ">+ isnull() 方法\n",
    ">+ notnull() 方法\n"
   ]
  },
  {
   "cell_type": "code",
   "execution_count": 12,
   "metadata": {},
   "outputs": [
    {
     "name": "stdout",
     "output_type": "stream",
     "text": [
      "0    False\n",
      "1    False\n",
      "2     True\n",
      "3    False\n",
      "4    False\n",
      "5    False\n",
      "Name: groups, dtype: bool\n",
      "---\n",
      "0     True\n",
      "1     True\n",
      "2     True\n",
      "3     True\n",
      "4     True\n",
      "5    False\n",
      "Name: ironmen, dtype: bool\n"
     ]
    },
    {
     "name": "stderr",
     "output_type": "stream",
     "text": [
      "C:\\Program Files\\Anaconda3\\lib\\site-packages\\ipykernel_launcher.py:15: DeprecationWarning: \n",
      ".ix is deprecated. Please use\n",
      ".loc for label based indexing or\n",
      ".iloc for positional indexing\n",
      "\n",
      "See the documentation here:\n",
      "http://pandas.pydata.org/pandas-docs/stable/indexing.html#deprecate_ix\n",
      "  from ipykernel import kernelapp as app\n"
     ]
    }
   ],
   "source": [
    "import numpy as np\n",
    "import pandas as pd\n",
    "\n",
    "groups = [\"Modern Web\", \"DevOps\", np.nan, \"Big Data\", \"Security\", \"自我挑戰組\"]\n",
    "ironmen = [59, 9, 19, 14, 6, np.nan]\n",
    "\n",
    "ironmen_dict = {\n",
    "                \"groups\": groups,\n",
    "                \"ironmen\": ironmen\n",
    "}\n",
    "\n",
    "# 建立 data frame\n",
    "ironmen_df = pd.DataFrame(ironmen_dict)\n",
    "\n",
    "print(ironmen_df.ix[:, \"groups\"].isnull()) # 判斷哪些組的組名是遺失值\n",
    "print(\"---\") # 分隔線\n",
    "print(ironmen_df.ix[:, \"ironmen\"].notnull()) # 判斷哪些組的鐵人數不是遺失值"
   ]
  },
  {
   "cell_type": "markdown",
   "metadata": {},
   "source": [
    "## 處理遺失值\n",
    "\n",
    ">+ dropna() 方法\n",
    ">+ fillna() 方法"
   ]
  },
  {
   "cell_type": "code",
   "execution_count": 13,
   "metadata": {},
   "outputs": [
    {
     "name": "stdout",
     "output_type": "stream",
     "text": [
      "       groups  ironmen\n",
      "0  Modern Web     59.0\n",
      "1      DevOps      9.0\n",
      "3    Big Data     14.0\n",
      "4    Security      6.0\n",
      "---\n",
      "       groups  ironmen\n",
      "0  Modern Web     59.0\n",
      "1      DevOps      9.0\n",
      "2           0     19.0\n",
      "3    Big Data     14.0\n",
      "4    Security      6.0\n",
      "5       自我挑戰組      0.0\n",
      "---\n",
      "       groups  ironmen\n",
      "0  Modern Web     59.0\n",
      "1      DevOps      9.0\n",
      "2       Cloud     19.0\n",
      "3    Big Data     14.0\n",
      "4    Security      6.0\n",
      "5       自我挑戰組     71.0\n"
     ]
    }
   ],
   "source": [
    "import numpy as np\n",
    "import pandas as pd\n",
    "\n",
    "groups = [\"Modern Web\", \"DevOps\", np.nan, \"Big Data\", \"Security\", \"自我挑戰組\"]\n",
    "ironmen = [59, 9, 19, 14, 6, np.nan]\n",
    "\n",
    "ironmen_dict = {\n",
    "                \"groups\": groups,\n",
    "                \"ironmen\": ironmen\n",
    "}\n",
    "\n",
    "# 建立 data frame\n",
    "ironmen_df = pd.DataFrame(ironmen_dict)\n",
    "\n",
    "ironmen_df_na_dropped = ironmen_df.dropna() # 有遺失值的觀測值都刪除\n",
    "print(ironmen_df_na_dropped)\n",
    "print(\"---\") # 分隔線\n",
    "ironmen_df_na_filled = ironmen_df.fillna(0) # 有遺失值的觀測值填補 0\n",
    "print(ironmen_df_na_filled)\n",
    "print(\"---\") # 分隔線\n",
    "ironmen_df_na_filled = ironmen_df.fillna({\"groups\": \"Cloud\", \"ironmen\": 71}) # 依欄位填補遺失值\n",
    "print(ironmen_df_na_filled)"
   ]
  },
  {
   "cell_type": "code",
   "execution_count": null,
   "metadata": {
    "collapsed": true
   },
   "outputs": [],
   "source": []
  }
 ],
 "metadata": {
  "kernelspec": {
   "display_name": "Python 3",
   "language": "python",
   "name": "python3"
  },
  "language_info": {
   "codemirror_mode": {
    "name": "ipython",
    "version": 3
   },
   "file_extension": ".py",
   "mimetype": "text/x-python",
   "name": "python",
   "nbconvert_exporter": "python",
   "pygments_lexer": "ipython3",
   "version": "3.6.1"
  },
  "toc": {
   "colors": {
    "hover_highlight": "#DAA520",
    "navigate_num": "#000000",
    "navigate_text": "#333333",
    "running_highlight": "#FF0000",
    "selected_highlight": "#FFD700",
    "sidebar_border": "#EEEEEE",
    "wrapper_background": "#FFFFFF"
   },
   "moveMenuLeft": true,
   "nav_menu": {
    "height": "228px",
    "width": "252px"
   },
   "navigate_menu": true,
   "number_sections": false,
   "sideBar": true,
   "threshold": 4,
   "toc_cell": false,
   "toc_position": {
    "height": "664px",
    "left": "0px",
    "right": "1401px",
    "top": "106px",
    "width": "199px"
   },
   "toc_section_display": "block",
   "toc_window_display": true,
   "widenNotebook": false
  }
 },
 "nbformat": 4,
 "nbformat_minor": 2
}
