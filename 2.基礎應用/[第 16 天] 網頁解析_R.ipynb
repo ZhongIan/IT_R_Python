{
 "cells": [
  {
   "cell_type": "markdown",
   "metadata": {},
   "source": [
    "http://ithelp.ithome.com.tw/articles/10186119"
   ]
  },
  {
   "cell_type": "markdown",
   "metadata": {},
   "source": [
    "並不是所有的資料都能這麼方便地以表格式資料（Tabular data），EXCEL 試算表或者 JSON 載入工作環境，\n",
    "\n",
    "有時候我們的資料散落在網路不同的角落裡，然而並不是每一個網站都會建置 API（Application Programming Interface）讓你很省力地把資料帶回家，\n",
    "\n",
    "這時候我們就會需要網頁解析（Web scraping）。\n",
    "\n",
    "R 語言使用者對於 rvest 套件在網頁解析的便利性愛不釋手，"
   ]
  },
  {
   "cell_type": "markdown",
   "metadata": {},
   "source": [
    "# rvest 牛刀小試"
   ]
  },
  {
   "cell_type": "code",
   "execution_count": 2,
   "metadata": {},
   "outputs": [
    {
     "name": "stderr",
     "output_type": "stream",
     "text": [
      "Loading required package: xml2\n"
     ]
    },
    {
     "ename": "ERROR",
     "evalue": "Error in function_list[[k]](value): 無效的多位元組字串於 '<e7><88><86>'\n",
     "output_type": "error",
     "traceback": [
      "Error in function_list[[k]](value): 無效的多位元組字串於 '<e7><88><86>'\nTraceback:\n",
      "1. ptt_nba_parser()",
      "2. html_doc %>% html_nodes(xpath = xpath_recommends) %>% html_text %>% \n .     as.integer   # at line 18-21 of file <text>",
      "3. withVisible(eval(quote(`_fseq`(`_lhs`)), env, env))",
      "4. eval(quote(`_fseq`(`_lhs`)), env, env)",
      "5. eval(quote(`_fseq`(`_lhs`)), env, env)",
      "6. `_fseq`(`_lhs`)",
      "7. freduce(value, `_function_list`)",
      "8. withVisible(function_list[[k]](value))",
      "9. function_list[[k]](value)"
     ]
    }
   ],
   "source": [
    "library(rvest)\n",
    "library(magrittr)\n",
    "\n",
    "ptt_nba_parser <- function() {\n",
    "    url <- \"https://www.ptt.cc/bbs/NBA/index.html\"\n",
    "    html_doc <- read_html(url)\n",
    "    \n",
    "    # 指定 xpath\n",
    "    xpath_author_ids <- \"//div[@class='meta']/div[@class='author']\"\n",
    "    xpath_recommends <- \"//div[@class='nrec']\"\n",
    "    xpath_titles <- \"//div[@class='title']\"\n",
    "    xpath_dates <- \"//div[@class='meta']/div[@class='date']\"\n",
    "    \n",
    "    # 擷取資料\n",
    "    author_ids <- html_doc %>% \n",
    "        html_nodes(xpath = xpath_author_ids) %>%\n",
    "        html_text    \n",
    "    recommends <- html_doc %>%\n",
    "        html_nodes(xpath = xpath_recommends) %>%\n",
    "        html_text %>%\n",
    "        as.integer\n",
    "    titles <- html_doc %>%\n",
    "        html_nodes(xpath = xpath_titles) %>%\n",
    "        html_text\n",
    "    dates <- html_doc %>%\n",
    "        html_nodes(xpath = xpath_dates) %>%\n",
    "        html_text\n",
    "    \n",
    "    # 整理成 data frame\n",
    "    df <- data.frame(author_id = author_ids, recommends = recommends, title = titles, date = dates)\n",
    "    return(df)\n",
    "}\n",
    "\n",
    "ptt_nba_df <- ptt_nba_parser()\n",
    "View(ptt_nba_df)"
   ]
  },
  {
   "cell_type": "code",
   "execution_count": null,
   "metadata": {
    "collapsed": true
   },
   "outputs": [],
   "source": []
  }
 ],
 "metadata": {
  "kernelspec": {
   "display_name": "R",
   "language": "R",
   "name": "ir"
  },
  "language_info": {
   "codemirror_mode": "r",
   "file_extension": ".r",
   "mimetype": "text/x-r-source",
   "name": "R",
   "pygments_lexer": "r",
   "version": "3.4.1"
  },
  "toc": {
   "colors": {
    "hover_highlight": "#DAA520",
    "navigate_num": "#000000",
    "navigate_text": "#333333",
    "running_highlight": "#FF0000",
    "selected_highlight": "#FFD700",
    "sidebar_border": "#EEEEEE",
    "wrapper_background": "#FFFFFF"
   },
   "moveMenuLeft": true,
   "nav_menu": {
    "height": "30px",
    "width": "252px"
   },
   "navigate_menu": true,
   "number_sections": true,
   "sideBar": true,
   "threshold": 4,
   "toc_cell": false,
   "toc_section_display": "block",
   "toc_window_display": false,
   "widenNotebook": false
  }
 },
 "nbformat": 4,
 "nbformat_minor": 2
}
