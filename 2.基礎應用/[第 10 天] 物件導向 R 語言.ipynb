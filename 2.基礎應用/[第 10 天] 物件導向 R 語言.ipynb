{
 "cells": [
  {
   "cell_type": "markdown",
   "metadata": {},
   "source": [
    "http://ithelp.ithome.com.tw/articles/10185564"
   ]
  },
  {
   "cell_type": "markdown",
   "metadata": {},
   "source": [
    "# R 語言的物件導向\n",
    "\n",
    "R 語言的物件導向有三大類別（Class）：\n",
    "> + S3 類別\n",
    "> + S4 類別\n",
    "> + RC（Reference class）\n",
    "\n",
    "除此之外，還有一個 Base types 類別是只有核心開發團隊才可以新增類別的物件導向類別，所以沒有把它列在上面的清單之中。"
   ]
  },
  {
   "cell_type": "markdown",
   "metadata": {},
   "source": [
    "# Base types 類別\n",
    "\n",
    "利用 typeof() 與 is.primitive() 函數可以驗證什麼物件是屬於 Base types 類別。"
   ]
  },
  {
   "cell_type": "code",
   "execution_count": 1,
   "metadata": {},
   "outputs": [
    {
     "data": {
      "text/html": [
       "'closure'"
      ],
      "text/latex": [
       "'closure'"
      ],
      "text/markdown": [
       "'closure'"
      ],
      "text/plain": [
       "[1] \"closure\""
      ]
     },
     "metadata": {},
     "output_type": "display_data"
    },
    {
     "data": {
      "text/html": [
       "FALSE"
      ],
      "text/latex": [
       "FALSE"
      ],
      "text/markdown": [
       "FALSE"
      ],
      "text/plain": [
       "[1] FALSE"
      ]
     },
     "metadata": {},
     "output_type": "display_data"
    },
    {
     "data": {
      "text/html": [
       "'builtin'"
      ],
      "text/latex": [
       "'builtin'"
      ],
      "text/markdown": [
       "'builtin'"
      ],
      "text/plain": [
       "[1] \"builtin\""
      ]
     },
     "metadata": {},
     "output_type": "display_data"
    },
    {
     "data": {
      "text/html": [
       "TRUE"
      ],
      "text/latex": [
       "TRUE"
      ],
      "text/markdown": [
       "TRUE"
      ],
      "text/plain": [
       "[1] TRUE"
      ]
     },
     "metadata": {},
     "output_type": "display_data"
    }
   ],
   "source": [
    "# 自訂函數不屬於 base types\n",
    "my_square <- function(input_num) {\n",
    "    return(input_num^2)\n",
    "}\n",
    "typeof(my_square)\n",
    "is.primitive(my_square)\n",
    "\n",
    "# sum() 函數屬於 base types\n",
    "typeof(sum)\n",
    "is.primitive(sum)"
   ]
  },
  {
   "cell_type": "markdown",
   "metadata": {},
   "source": [
    "Base types 類別的物件會在 typeof() 函數回傳 builtin，在 is.primitive() 函數會被判斷為 TRUE。"
   ]
  },
  {
   "cell_type": "markdown",
   "metadata": {},
   "source": [
    "# S3\n",
    "\n",
    ">S3 類別是 R 語言裡面最受歡迎的物件導向類別，\n",
    "\n",
    ">內建的套件 stats 與 base 中全部都是使用 S3 類別。\n",
    "\n",
    ">我們可以使用 pryr::otype() 函數來判斷某個物件是不是 S3 類別。\n",
    "\n",
    "## 建立一個 S3 物件\n",
    "\n",
    "S3 物件不需要正式的宣告或預先定義，只要將一個 list 資料結構給一個類別名稱即可。"
   ]
  },
  {
   "cell_type": "code",
   "execution_count": 6,
   "metadata": {},
   "outputs": [
    {
     "data": {
      "text/plain": [
       "$group\n",
       "[1] \"Modern Web\" \"DevOps\"     \"Cloud\"      \"Big Data\"   \"Security\"  \n",
       "[6] \"自我挑戰組\"\n",
       "\n",
       "$participants\n",
       "[1] 51  8 18 14  6 64\n",
       "\n",
       "attr(,\"class\")\n",
       "[1] \"ironmen\""
      ]
     },
     "metadata": {},
     "output_type": "display_data"
    },
    {
     "data": {
      "text/html": [
       "'S3'"
      ],
      "text/latex": [
       "'S3'"
      ],
      "text/markdown": [
       "'S3'"
      ],
      "text/plain": [
       "[1] \"S3\""
      ]
     },
     "metadata": {},
     "output_type": "display_data"
    }
   ],
   "source": [
    "library(pryr)\n",
    "\n",
    "ironmen_list <- list(\n",
    "    group = c(\"Modern Web\", \"DevOps\", \"Cloud\", \"Big Data\", \"Security\", \"自我挑戰組\"),\n",
    "    participants = c(51, 8, 18, 14, 6, 64)\n",
    ")\n",
    "class(ironmen_list) <- \"ironmen\"\n",
    "ironmen_list\n",
    "otype(ironmen_list)"
   ]
  },
  {
   "cell_type": "markdown",
   "metadata": {},
   "source": [
    "## 屬性\n",
    "\n",
    "使用 $ 可以取得 S3 物件中的屬性（attributes），跟從 list 資料結構中依元素名稱選取的語法相同。"
   ]
  },
  {
   "cell_type": "code",
   "execution_count": 3,
   "metadata": {},
   "outputs": [
    {
     "data": {
      "text/html": [
       "<ol class=list-inline>\n",
       "\t<li>'Modern Web'</li>\n",
       "\t<li>'DevOps'</li>\n",
       "\t<li>'Cloud'</li>\n",
       "\t<li>'Big Data'</li>\n",
       "\t<li>'Security'</li>\n",
       "\t<li>'自我挑戰組'</li>\n",
       "</ol>\n"
      ],
      "text/latex": [
       "\\begin{enumerate*}\n",
       "\\item 'Modern Web'\n",
       "\\item 'DevOps'\n",
       "\\item 'Cloud'\n",
       "\\item 'Big Data'\n",
       "\\item 'Security'\n",
       "\\item '自我挑戰組'\n",
       "\\end{enumerate*}\n"
      ],
      "text/markdown": [
       "1. 'Modern Web'\n",
       "2. 'DevOps'\n",
       "3. 'Cloud'\n",
       "4. 'Big Data'\n",
       "5. 'Security'\n",
       "6. '自我挑戰組'\n",
       "\n",
       "\n"
      ],
      "text/plain": [
       "[1] \"Modern Web\" \"DevOps\"     \"Cloud\"      \"Big Data\"   \"Security\"  \n",
       "[6] \"自我挑戰組\""
      ]
     },
     "metadata": {},
     "output_type": "display_data"
    },
    {
     "data": {
      "text/html": [
       "<ol class=list-inline>\n",
       "\t<li>51</li>\n",
       "\t<li>8</li>\n",
       "\t<li>18</li>\n",
       "\t<li>14</li>\n",
       "\t<li>6</li>\n",
       "\t<li>64</li>\n",
       "</ol>\n"
      ],
      "text/latex": [
       "\\begin{enumerate*}\n",
       "\\item 51\n",
       "\\item 8\n",
       "\\item 18\n",
       "\\item 14\n",
       "\\item 6\n",
       "\\item 64\n",
       "\\end{enumerate*}\n"
      ],
      "text/markdown": [
       "1. 51\n",
       "2. 8\n",
       "3. 18\n",
       "4. 14\n",
       "5. 6\n",
       "6. 64\n",
       "\n",
       "\n"
      ],
      "text/plain": [
       "[1] 51  8 18 14  6 64"
      ]
     },
     "metadata": {},
     "output_type": "display_data"
    }
   ],
   "source": [
    "ironmen_list <- list(\n",
    "    group = c(\"Modern Web\", \"DevOps\", \"Cloud\", \"Big Data\", \"Security\", \"自我挑戰組\"),\n",
    "    participants = c(51, 8, 18, 14, 6, 64)\n",
    ")\n",
    "class(ironmen_list) <- \"ironmen\"\n",
    "\n",
    "# 取得屬性\n",
    "ironmen_list$group\n",
    "ironmen_list$participants"
   ]
  },
  {
   "cell_type": "markdown",
   "metadata": {},
   "source": [
    "## 方法\n",
    "\n",
    "我們使用 UseMethod() 建立一個 S3 類別的方法 count_participants 來計算總鐵人數。"
   ]
  },
  {
   "cell_type": "code",
   "execution_count": 4,
   "metadata": {},
   "outputs": [
    {
     "data": {
      "text/html": [
       "161"
      ],
      "text/latex": [
       "161"
      ],
      "text/markdown": [
       "161"
      ],
      "text/plain": [
       "[1] 161"
      ]
     },
     "metadata": {},
     "output_type": "display_data"
    }
   ],
   "source": [
    "# 建立一個 S3 物件\n",
    "ironmen_list <- list(\n",
    "    group = c(\"Modern Web\", \"DevOps\", \"Cloud\", \"Big Data\", \"Security\", \"自我挑戰組\"),\n",
    "    participants = c(51, 8, 18, 14, 6, 64)\n",
    ")\n",
    "class(ironmen_list) <- \"ironmen\"\n",
    "\n",
    "# 建立方法\n",
    "count_participants <- function(obj) {\n",
    "    UseMethod(\"count_participants\")\n",
    "}\n",
    "count_participants.ironmen <- function(obj) {\n",
    "    return(sum(obj$participants))\n",
    "}\n",
    "\n",
    "# 呼叫方法\n",
    "count_participants(ironmen_list)"
   ]
  },
  {
   "cell_type": "code",
   "execution_count": null,
   "metadata": {
    "collapsed": true
   },
   "outputs": [],
   "source": []
  }
 ],
 "metadata": {
  "kernelspec": {
   "display_name": "R",
   "language": "R",
   "name": "ir"
  },
  "language_info": {
   "codemirror_mode": "r",
   "file_extension": ".r",
   "mimetype": "text/x-r-source",
   "name": "R",
   "pygments_lexer": "r",
   "version": "3.4.1"
  }
 },
 "nbformat": 4,
 "nbformat_minor": 2
}
