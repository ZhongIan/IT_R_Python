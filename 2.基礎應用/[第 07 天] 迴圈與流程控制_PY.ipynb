{
 "cells": [
  {
   "cell_type": "markdown",
   "metadata": {},
   "source": [
    "http://ithelp.ithome.com.tw/articles/10185299"
   ]
  },
  {
   "cell_type": "code",
   "execution_count": 1,
   "metadata": {},
   "outputs": [
    {
     "name": "stdout",
     "output_type": "stream",
     "text": [
      "49\n",
      "8\n",
      "12\n",
      "12\n",
      "6\n",
      "61\n"
     ]
    }
   ],
   "source": [
    "ironmen = [49, 8, 12, 12, 6, 61]\n",
    "print(ironmen[0])\n",
    "print(ironmen[1])\n",
    "print(ironmen[2])\n",
    "print(ironmen[3])\n",
    "print(ironmen[4])\n",
    "print(ironmen[5])"
   ]
  },
  {
   "cell_type": "markdown",
   "metadata": {},
   "source": [
    "# Python 的迴圈\n",
    "\n",
    "for 與 while \n",
    "\n",
    "## for 迴圈"
   ]
  },
  {
   "cell_type": "code",
   "execution_count": 2,
   "metadata": {},
   "outputs": [
    {
     "name": "stdout",
     "output_type": "stream",
     "text": [
      "49\n",
      "8\n",
      "12\n",
      "12\n",
      "6\n",
      "61\n",
      "---\n",
      "61\n",
      "\n",
      "\n",
      "49\n",
      "8\n",
      "12\n",
      "12\n",
      "6\n",
      "61\n",
      "---\n",
      "5\n"
     ]
    }
   ],
   "source": [
    "# 不帶索引值的寫法\n",
    "ironmen = [49, 8, 12, 12, 6, 61]\n",
    "for ironman in ironmen:\n",
    "    print(ironman)\n",
    "print(\"---\")\n",
    "print(ironman) # 把迴圈的迭代器（iterator）或稱游標（cursor）最後的值印出來看看\n",
    "\n",
    "print(\"\\n\") # 空一行方便閱讀\n",
    "\n",
    "# 帶索引值的寫法\n",
    "for index in list(range(len(ironmen))): # 產生出一組 0 到 5 的 list\n",
    "    print(ironmen[index])\n",
    "print(\"---\")\n",
    "print(index) # 把迴圈的迭代器（iterator）或稱游標（cursor）最後的值印出來看看"
   ]
  },
  {
   "cell_type": "markdown",
   "metadata": {},
   "source": [
    "## while 迴圈"
   ]
  },
  {
   "cell_type": "code",
   "execution_count": 3,
   "metadata": {},
   "outputs": [
    {
     "name": "stdout",
     "output_type": "stream",
     "text": [
      "49\n",
      "8\n",
      "12\n",
      "12\n",
      "6\n",
      "61\n",
      "---\n",
      "6\n"
     ]
    }
   ],
   "source": [
    "ironmen = [49, 8, 12, 12, 6, 61]\n",
    "index = 0\n",
    "while index < len(ironmen):\n",
    "    print(ironmen[index])\n",
    "    index += 1\n",
    "print(\"---\")\n",
    "print(index) # 把迴圈的迭代器（iterator）或稱游標（cursor）最後的值印出來看看"
   ]
  },
  {
   "cell_type": "markdown",
   "metadata": {},
   "source": [
    "# Python 的流程控制\n",
    "\n",
    "Python 透過 if-elif-else 的結構創造程式執行的分支，\n",
    "\n",
    "當我們只有兩個分支，使用 if-else 就足夠，\n",
    "\n",
    "值得一提的是 Python 沒有類似像 switch 或是 case 的多分支結構。"
   ]
  },
  {
   "cell_type": "markdown",
   "metadata": {},
   "source": [
    "# if-else\n",
    "\n",
    "整數除以 2 的餘數只會有兩種答案，使用 if-else 結構依照餘數的值回傳對應的訊息。"
   ]
  },
  {
   "cell_type": "code",
   "execution_count": 4,
   "metadata": {},
   "outputs": [
    {
     "name": "stdout",
     "output_type": "stream",
     "text": [
      "1 是奇數\n",
      "2 是偶數\n",
      "3 是奇數\n",
      "4 是偶數\n",
      "5 是奇數\n",
      "6 是偶數\n",
      "7 是奇數\n",
      "8 是偶數\n",
      "9 是奇數\n",
      "10 是偶數\n"
     ]
    }
   ],
   "source": [
    "my_seq = list(range(1, 11))\n",
    "for index in my_seq:\n",
    "    if (index % 2 == 0):\n",
    "        print(index, \"是偶數\")\n",
    "    else:\n",
    "        print(index, \"是奇數\")"
   ]
  },
  {
   "cell_type": "markdown",
   "metadata": {},
   "source": [
    "# if-elif-else\n",
    "\n",
    "整數除以 3 的餘數會有三種答案，使用 if-elif-else 結構依照餘數的值回傳對應的訊息。"
   ]
  },
  {
   "cell_type": "code",
   "execution_count": 5,
   "metadata": {},
   "outputs": [
    {
     "name": "stdout",
     "output_type": "stream",
     "text": [
      "1 除以 3 餘數是 1\n",
      "2 除以 3 餘數是 2\n",
      "3 可以被 3 整除\n",
      "4 除以 3 餘數是 1\n",
      "5 除以 3 餘數是 2\n",
      "6 可以被 3 整除\n",
      "7 除以 3 餘數是 1\n",
      "8 除以 3 餘數是 2\n",
      "9 可以被 3 整除\n",
      "10 除以 3 餘數是 1\n"
     ]
    }
   ],
   "source": [
    "my_seq = list(range(1,11))\n",
    "for index in my_seq:\n",
    "    if (index % 3 == 0):\n",
    "        print(index, \"可以被 3 整除\")\n",
    "    elif (index % 3 == 1):\n",
    "        print(index, \"除以 3 餘數是 1\")\n",
    "    else:\n",
    "        print(index, \"除以 3 餘數是 2\")"
   ]
  },
  {
   "cell_type": "markdown",
   "metadata": {},
   "source": [
    "# Python 的 break 與 continue\n",
    "\n",
    "利用 break 描述告訴 for 迴圈當迭代器（此處指變數 ironman）小於 10 的時候要結束迴圈；\n",
    "\n",
    "利用 continue 描述告訴 for 迴圈當迭代器小於 10 的時候要跳過它然後繼續執行。"
   ]
  },
  {
   "cell_type": "code",
   "execution_count": 10,
   "metadata": {},
   "outputs": [
    {
     "name": "stdout",
     "output_type": "stream",
     "text": [
      "49\n",
      "---\n",
      "8\n",
      "\n",
      "\n",
      "49\n",
      "12\n",
      "12\n",
      "61\n",
      "---\n",
      "61\n"
     ]
    }
   ],
   "source": [
    "# break 描述\n",
    "ironmen = [49, 8, 12, 12, 6, 61]\n",
    "for ironman in ironmen:\n",
    "    if (ironman < 10):\n",
    "        break\n",
    "    else:\n",
    "        print(ironman)\n",
    "\n",
    "print(\"---\")\n",
    "print(ironman) # 把迴圈的迭代器（iterator）或稱游標（cursor）最後的值印出來看看\n",
    "\n",
    "print(\"\\n\") # 空一行方便閱讀\n",
    "\n",
    "# continue 描述\n",
    "for ironman in ironmen:\n",
    "    if (ironman < 10):\n",
    "        continue\n",
    "    else:\n",
    "        print(ironman)\n",
    "\n",
    "print(\"---\")\n",
    "print(ironman) # 把迴圈的迭代器（iterator）或稱游標（cursor）最後的值印出來看看"
   ]
  },
  {
   "cell_type": "code",
   "execution_count": null,
   "metadata": {
    "collapsed": true
   },
   "outputs": [],
   "source": []
  }
 ],
 "metadata": {
  "kernelspec": {
   "display_name": "Python 3",
   "language": "python",
   "name": "python3"
  },
  "language_info": {
   "codemirror_mode": {
    "name": "ipython",
    "version": 3
   },
   "file_extension": ".py",
   "mimetype": "text/x-python",
   "name": "python",
   "nbconvert_exporter": "python",
   "pygments_lexer": "ipython3",
   "version": "3.6.1"
  }
 },
 "nbformat": 4,
 "nbformat_minor": 2
}
