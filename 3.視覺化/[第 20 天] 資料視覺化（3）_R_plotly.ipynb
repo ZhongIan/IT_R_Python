{
 "cells": [
  {
   "cell_type": "markdown",
   "metadata": {},
   "source": [
    "http://ithelp.ithome.com.tw/articles/10186749"
   ]
  },
  {
   "cell_type": "markdown",
   "metadata": {},
   "source": [
    "# 基本的圖形，包括：\n",
    "\n",
    "+ 直方圖（Histogram）\n",
    "+ 散佈圖（Scatter plot）\n",
    "+ 線圖（Line plot）\n",
    "+ 長條圖（Bar plot）\n",
    "+ 盒鬚圖（Box plot）"
   ]
  },
  {
   "cell_type": "markdown",
   "metadata": {},
   "source": [
    "## 直方圖（Histogram）\n",
    "\n",
    "R 語言\n",
    "\n",
    "使用 ggplotly() 函數就可以將 ggplot2 套件所繪製的基本圖形轉換為 Plotly 圖形。"
   ]
  },
  {
   "cell_type": "code",
   "execution_count": 1,
   "metadata": {},
   "outputs": [
    {
     "name": "stderr",
     "output_type": "stream",
     "text": [
      "\n",
      "Attaching package: 'plotly'\n",
      "\n",
      "The following object is masked from 'package:ggplot2':\n",
      "\n",
      "    last_plot\n",
      "\n",
      "The following object is masked from 'package:stats':\n",
      "\n",
      "    filter\n",
      "\n",
      "The following object is masked from 'package:graphics':\n",
      "\n",
      "    layout\n",
      "\n",
      "We recommend that you use the dev version of ggplot2 with `ggplotly()`\n",
      "Install it with: `devtools::install_github('hadley/ggplot2')`\n",
      "`stat_bin()` using `bins = 30`. Pick better value with `binwidth`.\n",
      "Warning message in readChar(htmlfile, file.info(htmlfile)$size):\n",
      "\"在非 UTF-8 MBCS 語區中只能以位元組為單位讀取\"IOPub data rate exceeded.\n",
      "The notebook server will temporarily stop sending output\n",
      "to the client in order to avoid crashing it.\n",
      "To change this limit, set the config variable\n",
      "`--NotebookApp.iopub_data_rate_limit`.\n"
     ]
    }
   ],
   "source": [
    "library(ggplot2)\n",
    "library(plotly)\n",
    "\n",
    "normal_samples <- rnorm(100000) # 生成 100000 組標準常態分配（平均值為 0，標準差為 1 的常態分配）隨機變數\n",
    "normal_samples_df <- data.frame(normal_samples)\n",
    "hist <- ggplot(normal_samples_df, aes(x = normal_samples)) + geom_histogram(aes(y = ..density..)) + geom_density()\n",
    "ggplotly(hist)"
   ]
  },
  {
   "cell_type": "markdown",
   "metadata": {
    "collapsed": true
   },
   "source": [
    "## 散佈圖（Scatter plot）\n",
    "\n",
    "R 語言\n",
    "\n",
    "使用 ggplotly() 函數就可以將 ggplot2 套件所繪製的基本圖形轉換為 Plotly 圖形。"
   ]
  },
  {
   "cell_type": "code",
   "execution_count": 2,
   "metadata": {},
   "outputs": [
    {
     "name": "stderr",
     "output_type": "stream",
     "text": [
      "We recommend that you use the dev version of ggplot2 with `ggplotly()`\n",
      "Install it with: `devtools::install_github('hadley/ggplot2')`\n",
      "Warning message in readChar(htmlfile, file.info(htmlfile)$size):\n",
      "\"在非 UTF-8 MBCS 語區中只能以位元組為單位讀取\"IOPub data rate exceeded.\n",
      "The notebook server will temporarily stop sending output\n",
      "to the client in order to avoid crashing it.\n",
      "To change this limit, set the config variable\n",
      "`--NotebookApp.iopub_data_rate_limit`.\n"
     ]
    }
   ],
   "source": [
    "library(ggplot2)\n",
    "library(plotly)\n",
    "\n",
    "scatter_plot <- ggplot(cars, aes(x = speed, y = dist)) + geom_point()\n",
    "ggplotly(scatter_plot)"
   ]
  },
  {
   "cell_type": "markdown",
   "metadata": {},
   "source": [
    "## 線圖（Line plot）\n",
    "\n",
    "R 語言\n",
    "\n",
    "使用 ggplotly() 函數就可以將 ggplot2 套件所繪製的基本圖形轉換為 Plotly 圖形。"
   ]
  },
  {
   "cell_type": "code",
   "execution_count": 3,
   "metadata": {},
   "outputs": [
    {
     "name": "stderr",
     "output_type": "stream",
     "text": [
      "We recommend that you use the dev version of ggplot2 with `ggplotly()`\n",
      "Install it with: `devtools::install_github('hadley/ggplot2')`\n",
      "Warning message in readChar(htmlfile, file.info(htmlfile)$size):\n",
      "\"在非 UTF-8 MBCS 語區中只能以位元組為單位讀取\"IOPub data rate exceeded.\n",
      "The notebook server will temporarily stop sending output\n",
      "to the client in order to avoid crashing it.\n",
      "To change this limit, set the config variable\n",
      "`--NotebookApp.iopub_data_rate_limit`.\n"
     ]
    }
   ],
   "source": [
    "library(ggplot2)\n",
    "library(plotly)\n",
    "\n",
    "line <- ggplot(cars, aes(x = speed, y = dist)) + geom_line()\n",
    "ggplotly(line)"
   ]
  },
  {
   "cell_type": "markdown",
   "metadata": {},
   "source": [
    "## 長條圖（Bar plot）\n",
    "\n",
    "R 語言\n",
    "\n",
    "使用 ggplotly() 函數就可以將 ggplot2 套件所繪製的基本圖形轉換為 Plotly 圖形。"
   ]
  },
  {
   "cell_type": "code",
   "execution_count": null,
   "metadata": {
    "collapsed": true
   },
   "outputs": [],
   "source": []
  },
  {
   "cell_type": "code",
   "execution_count": null,
   "metadata": {
    "collapsed": true
   },
   "outputs": [],
   "source": []
  },
  {
   "cell_type": "code",
   "execution_count": null,
   "metadata": {
    "collapsed": true
   },
   "outputs": [],
   "source": [
    "R 語言\n",
    "\n",
    "使用 ggplotly() 函數就可以將 ggplot2 套件所繪製的基本圖形轉換為 Plotly 圖形。"
   ]
  }
 ],
 "metadata": {
  "kernelspec": {
   "display_name": "R",
   "language": "R",
   "name": "ir"
  },
  "language_info": {
   "codemirror_mode": "r",
   "file_extension": ".r",
   "mimetype": "text/x-r-source",
   "name": "R",
   "pygments_lexer": "r",
   "version": "3.4.1"
  },
  "toc": {
   "colors": {
    "hover_highlight": "#DAA520",
    "navigate_num": "#000000",
    "navigate_text": "#333333",
    "running_highlight": "#FF0000",
    "selected_highlight": "#FFD700",
    "sidebar_border": "#EEEEEE",
    "wrapper_background": "#FFFFFF"
   },
   "moveMenuLeft": true,
   "nav_menu": {
    "height": "48px",
    "width": "252px"
   },
   "navigate_menu": true,
   "number_sections": true,
   "sideBar": true,
   "threshold": 4,
   "toc_cell": false,
   "toc_section_display": "block",
   "toc_window_display": true,
   "widenNotebook": false
  }
 },
 "nbformat": 4,
 "nbformat_minor": 2
}
