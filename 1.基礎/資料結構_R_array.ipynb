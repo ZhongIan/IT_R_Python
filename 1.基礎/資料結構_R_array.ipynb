{
 "cells": [
  {
   "cell_type": "markdown",
   "metadata": {},
   "source": [
    "http://ithelp.ithome.com.tw/articles/10185093"
   ]
  },
  {
   "cell_type": "markdown",
   "metadata": {},
   "source": [
    "R 語言我們直接用一個 vector 儲存各組人數後乘以 30，就能得到一個 element-wise 的計算結果，這就是我們要的答案。"
   ]
  },
  {
   "cell_type": "code",
   "execution_count": 1,
   "metadata": {},
   "outputs": [
    {
     "data": {
      "text/html": [
       "<ol class=list-inline>\n",
       "\t<li>1380</li>\n",
       "\t<li>240</li>\n",
       "\t<li>330</li>\n",
       "\t<li>330</li>\n",
       "\t<li>120</li>\n",
       "\t<li>1680</li>\n",
       "</ol>\n"
      ],
      "text/latex": [
       "\\begin{enumerate*}\n",
       "\\item 1380\n",
       "\\item 240\n",
       "\\item 330\n",
       "\\item 330\n",
       "\\item 120\n",
       "\\item 1680\n",
       "\\end{enumerate*}\n"
      ],
      "text/markdown": [
       "1. 1380\n",
       "2. 240\n",
       "3. 330\n",
       "4. 330\n",
       "5. 120\n",
       "6. 1680\n",
       "\n",
       "\n"
      ],
      "text/plain": [
       "[1] 1380  240  330  330  120 1680"
      ]
     },
     "metadata": {},
     "output_type": "display_data"
    }
   ],
   "source": [
    "ironmen <- c(46, 8, 11, 11, 4, 56)\n",
    "articles <- ironmen * 30\n",
    "articles"
   ]
  },
  {
   "cell_type": "markdown",
   "metadata": {},
   "source": [
    "# R 語言的 vector 與 matrix\n",
    "\n",
    "單一資料類型\n",
    "\n",
    "R 語言的 vector 與 matrix 都只能容許一種資料類型，\n",
    "\n",
    "如果同時儲存有數值，邏輯值，會被自動轉換為數值，\n",
    "\n",
    "如果同時儲存有數值，邏輯值與文字，會被自動轉換為文字。"
   ]
  },
  {
   "cell_type": "code",
   "execution_count": 5,
   "metadata": {},
   "outputs": [
    {
     "data": {
      "text/html": [
       "'numeric'"
      ],
      "text/latex": [
       "'numeric'"
      ],
      "text/markdown": [
       "'numeric'"
      ],
      "text/plain": [
       "[1] \"numeric\""
      ]
     },
     "metadata": {},
     "output_type": "display_data"
    },
    {
     "data": {
      "text/html": [
       "'character'"
      ],
      "text/latex": [
       "'character'"
      ],
      "text/markdown": [
       "'character'"
      ],
      "text/plain": [
       "[1] \"character\""
      ]
     },
     "metadata": {},
     "output_type": "display_data"
    },
    {
     "data": {
      "text/html": [
       "<table>\n",
       "<tbody>\n",
       "\t<tr><td>1</td><td>1</td></tr>\n",
       "\t<tr><td>0</td><td>0</td></tr>\n",
       "</tbody>\n",
       "</table>\n"
      ],
      "text/latex": [
       "\\begin{tabular}{ll}\n",
       "\t 1 & 1\\\\\n",
       "\t 0 & 0\\\\\n",
       "\\end{tabular}\n"
      ],
      "text/markdown": [
       "\n",
       "| 1 | 1 | \n",
       "| 0 | 0 | \n",
       "\n",
       "\n"
      ],
      "text/plain": [
       "     [,1] [,2]\n",
       "[1,] 1    1   \n",
       "[2,] 0    0   "
      ]
     },
     "metadata": {},
     "output_type": "display_data"
    },
    {
     "data": {
      "text/html": [
       "<table>\n",
       "<tbody>\n",
       "\t<tr><td>1    </td><td>TRUE </td></tr>\n",
       "\t<tr><td>zero </td><td>FALSE</td></tr>\n",
       "</tbody>\n",
       "</table>\n"
      ],
      "text/latex": [
       "\\begin{tabular}{ll}\n",
       "\t 1     & TRUE \\\\\n",
       "\t zero  & FALSE\\\\\n",
       "\\end{tabular}\n"
      ],
      "text/markdown": [
       "\n",
       "| 1     | TRUE  | \n",
       "| zero  | FALSE | \n",
       "\n",
       "\n"
      ],
      "text/plain": [
       "     [,1] [,2] \n",
       "[1,] 1    TRUE \n",
       "[2,] zero FALSE"
      ]
     },
     "metadata": {},
     "output_type": "display_data"
    }
   ],
   "source": [
    "my_vector <- c(1, TRUE)\n",
    "class(my_vector) # \"numeric\"\n",
    "\n",
    "my_vector <- c(1, TRUE, \"one\")\n",
    "class(my_vector) # \"character\"\n",
    "\n",
    "my_matrix <- matrix(c(1, 0, TRUE, FALSE), nrow = 2)\n",
    "my_matrix\n",
    "\n",
    "my_matrix <- matrix(c(1, \"zero\", TRUE, FALSE), nrow = 2)\n",
    "my_matrix"
   ]
  },
  {
   "cell_type": "markdown",
   "metadata": {},
   "source": [
    "# Element-wise 運算"
   ]
  },
  {
   "cell_type": "code",
   "execution_count": 6,
   "metadata": {},
   "outputs": [
    {
     "data": {
      "text/html": [
       "<ol class=list-inline>\n",
       "\t<li>1</li>\n",
       "\t<li>4</li>\n",
       "\t<li>9</li>\n",
       "\t<li>16</li>\n",
       "</ol>\n"
      ],
      "text/latex": [
       "\\begin{enumerate*}\n",
       "\\item 1\n",
       "\\item 4\n",
       "\\item 9\n",
       "\\item 16\n",
       "\\end{enumerate*}\n"
      ],
      "text/markdown": [
       "1. 1\n",
       "2. 4\n",
       "3. 9\n",
       "4. 16\n",
       "\n",
       "\n"
      ],
      "text/plain": [
       "[1]  1  4  9 16"
      ]
     },
     "metadata": {},
     "output_type": "display_data"
    },
    {
     "data": {
      "text/html": [
       "<table>\n",
       "<tbody>\n",
       "\t<tr><td>1 </td><td> 9</td></tr>\n",
       "\t<tr><td>4 </td><td>16</td></tr>\n",
       "</tbody>\n",
       "</table>\n"
      ],
      "text/latex": [
       "\\begin{tabular}{ll}\n",
       "\t 1  &  9\\\\\n",
       "\t 4  & 16\\\\\n",
       "\\end{tabular}\n"
      ],
      "text/markdown": [
       "\n",
       "| 1  |  9 | \n",
       "| 4  | 16 | \n",
       "\n",
       "\n"
      ],
      "text/plain": [
       "     [,1] [,2]\n",
       "[1,] 1     9  \n",
       "[2,] 4    16  "
      ]
     },
     "metadata": {},
     "output_type": "display_data"
    }
   ],
   "source": [
    "my_vector <- 1:4\n",
    "my_vector ^ 2\n",
    "\n",
    "my_matrix <- matrix(my_vector, nrow = 2)\n",
    "my_matrix ^ 2"
   ]
  },
  {
   "cell_type": "markdown",
   "metadata": {},
   "source": [
    "# 選擇元素\n",
    "\n",
    "R 語言的 vector 與 matrix 都透過中括號 [] 或者邏輯值選擇元素。"
   ]
  },
  {
   "cell_type": "code",
   "execution_count": 7,
   "metadata": {},
   "outputs": [
    {
     "data": {
      "text/html": [
       "46"
      ],
      "text/latex": [
       "46"
      ],
      "text/markdown": [
       "46"
      ],
      "text/plain": [
       "[1] 46"
      ]
     },
     "metadata": {},
     "output_type": "display_data"
    },
    {
     "data": {
      "text/html": [
       "<ol class=list-inline>\n",
       "\t<li>TRUE</li>\n",
       "\t<li>FALSE</li>\n",
       "\t<li>TRUE</li>\n",
       "\t<li>TRUE</li>\n",
       "\t<li>FALSE</li>\n",
       "\t<li>TRUE</li>\n",
       "</ol>\n"
      ],
      "text/latex": [
       "\\begin{enumerate*}\n",
       "\\item TRUE\n",
       "\\item FALSE\n",
       "\\item TRUE\n",
       "\\item TRUE\n",
       "\\item FALSE\n",
       "\\item TRUE\n",
       "\\end{enumerate*}\n"
      ],
      "text/markdown": [
       "1. TRUE\n",
       "2. FALSE\n",
       "3. TRUE\n",
       "4. TRUE\n",
       "5. FALSE\n",
       "6. TRUE\n",
       "\n",
       "\n"
      ],
      "text/plain": [
       "[1]  TRUE FALSE  TRUE  TRUE FALSE  TRUE"
      ]
     },
     "metadata": {},
     "output_type": "display_data"
    },
    {
     "data": {
      "text/html": [
       "<ol class=list-inline>\n",
       "\t<li>46</li>\n",
       "\t<li>11</li>\n",
       "\t<li>11</li>\n",
       "\t<li>56</li>\n",
       "</ol>\n"
      ],
      "text/latex": [
       "\\begin{enumerate*}\n",
       "\\item 46\n",
       "\\item 11\n",
       "\\item 11\n",
       "\\item 56\n",
       "\\end{enumerate*}\n"
      ],
      "text/markdown": [
       "1. 46\n",
       "2. 11\n",
       "3. 11\n",
       "4. 56\n",
       "\n",
       "\n"
      ],
      "text/plain": [
       "[1] 46 11 11 56"
      ]
     },
     "metadata": {},
     "output_type": "display_data"
    },
    {
     "data": {
      "text/html": [
       "<ol class=list-inline>\n",
       "\t<li>'Modern Web'</li>\n",
       "\t<li>'Cloud'</li>\n",
       "\t<li>'Big Data'</li>\n",
       "\t<li>'自我挑戰組'</li>\n",
       "</ol>\n"
      ],
      "text/latex": [
       "\\begin{enumerate*}\n",
       "\\item 'Modern Web'\n",
       "\\item 'Cloud'\n",
       "\\item 'Big Data'\n",
       "\\item '自我挑戰組'\n",
       "\\end{enumerate*}\n"
      ],
      "text/markdown": [
       "1. 'Modern Web'\n",
       "2. 'Cloud'\n",
       "3. 'Big Data'\n",
       "4. '自我挑戰組'\n",
       "\n",
       "\n"
      ],
      "text/plain": [
       "[1] \"Modern Web\" \"Cloud\"      \"Big Data\"   \"自我挑戰組\""
      ]
     },
     "metadata": {},
     "output_type": "display_data"
    }
   ],
   "source": [
    "# vector\n",
    "ironmen <- c(46, 8, 11, 11, 4, 56)\n",
    "ironmen[1] # 選出 Modern Web 組的鐵人數\n",
    "\n",
    "ironmen > 10 # 哪幾組的鐵人數超過 10 人\n",
    "\n",
    "ironmen[ironmen > 10] # 超過 10 人的鐵人數\n",
    "\n",
    "names(ironmen) <- c(\"Modern Web\", \"DevOps\", \"Cloud\", \"Big Data\", \"Security\", \"自我挑戰組\") # 把 vector 的元素加上名稱\n",
    "names(ironmen[ironmen > 10]) # 超過 10 人參賽的組別名"
   ]
  },
  {
   "cell_type": "code",
   "execution_count": 8,
   "metadata": {},
   "outputs": [
    {
     "data": {
      "text/html": [
       "46"
      ],
      "text/latex": [
       "46"
      ],
      "text/markdown": [
       "46"
      ],
      "text/plain": [
       "[1] 46"
      ]
     },
     "metadata": {},
     "output_type": "display_data"
    },
    {
     "data": {
      "text/html": [
       "<table>\n",
       "<tbody>\n",
       "\t<tr><td> TRUE</td><td>TRUE </td><td>FALSE</td></tr>\n",
       "\t<tr><td>FALSE</td><td>TRUE </td><td> TRUE</td></tr>\n",
       "</tbody>\n",
       "</table>\n"
      ],
      "text/latex": [
       "\\begin{tabular}{lll}\n",
       "\t  TRUE & TRUE  & FALSE\\\\\n",
       "\t FALSE & TRUE  &  TRUE\\\\\n",
       "\\end{tabular}\n"
      ],
      "text/markdown": [
       "\n",
       "|  TRUE | TRUE  | FALSE | \n",
       "| FALSE | TRUE  |  TRUE | \n",
       "\n",
       "\n"
      ],
      "text/plain": [
       "     [,1]  [,2] [,3] \n",
       "[1,]  TRUE TRUE FALSE\n",
       "[2,] FALSE TRUE  TRUE"
      ]
     },
     "metadata": {},
     "output_type": "display_data"
    },
    {
     "data": {
      "text/html": [
       "<ol class=list-inline>\n",
       "\t<li>46</li>\n",
       "\t<li>11</li>\n",
       "\t<li>11</li>\n",
       "\t<li>56</li>\n",
       "</ol>\n"
      ],
      "text/latex": [
       "\\begin{enumerate*}\n",
       "\\item 46\n",
       "\\item 11\n",
       "\\item 11\n",
       "\\item 56\n",
       "\\end{enumerate*}\n"
      ],
      "text/markdown": [
       "1. 46\n",
       "2. 11\n",
       "3. 11\n",
       "4. 56\n",
       "\n",
       "\n"
      ],
      "text/plain": [
       "[1] 46 11 11 56"
      ]
     },
     "metadata": {},
     "output_type": "display_data"
    }
   ],
   "source": [
    "# matrix\n",
    "ironmen <- c(46, 8, 11, 11, 4, 56)\n",
    "ironmen_mat <- matrix(ironmen, nrow = 2)\n",
    "ironmen_mat[1, 1] # 選出 Modern Web 組的鐵人數\n",
    "\n",
    "ironmen_mat > 10 # 哪幾組的鐵人數超過 10 人\n",
    "\n",
    "ironmen_mat[ironmen_mat > 10] # 超過 10 人的鐵人數"
   ]
  },
  {
   "cell_type": "markdown",
   "metadata": {},
   "source": [
    "# 了解 matrix 規模的函數\n",
    "\n",
    "R 語言可以透過 length() 與 dim() 函數來了解 matrix 的規模。"
   ]
  },
  {
   "cell_type": "code",
   "execution_count": 9,
   "metadata": {},
   "outputs": [
    {
     "data": {
      "text/html": [
       "6"
      ],
      "text/latex": [
       "6"
      ],
      "text/markdown": [
       "6"
      ],
      "text/plain": [
       "[1] 6"
      ]
     },
     "metadata": {},
     "output_type": "display_data"
    },
    {
     "data": {
      "text/html": [
       "<ol class=list-inline>\n",
       "\t<li>2</li>\n",
       "\t<li>3</li>\n",
       "</ol>\n"
      ],
      "text/latex": [
       "\\begin{enumerate*}\n",
       "\\item 2\n",
       "\\item 3\n",
       "\\end{enumerate*}\n"
      ],
      "text/markdown": [
       "1. 2\n",
       "2. 3\n",
       "\n",
       "\n"
      ],
      "text/plain": [
       "[1] 2 3"
      ]
     },
     "metadata": {},
     "output_type": "display_data"
    }
   ],
   "source": [
    "ironmen <- c(46, 8, 11, 11, 4, 56)\n",
    "ironmen_mat <- matrix(ironmen, nrow = 2)\n",
    "length(ironmen_mat)\n",
    "\n",
    "dim(ironmen_mat)"
   ]
  },
  {
   "cell_type": "code",
   "execution_count": null,
   "metadata": {
    "collapsed": true
   },
   "outputs": [],
   "source": []
  }
 ],
 "metadata": {
  "kernelspec": {
   "display_name": "R",
   "language": "R",
   "name": "ir"
  },
  "language_info": {
   "codemirror_mode": "r",
   "file_extension": ".r",
   "mimetype": "text/x-r-source",
   "name": "R",
   "pygments_lexer": "r",
   "version": "3.4.1"
  }
 },
 "nbformat": 4,
 "nbformat_minor": 2
}
