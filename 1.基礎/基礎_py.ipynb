{
 "cells": [
  {
   "cell_type": "markdown",
   "metadata": {},
   "source": [
    "# 運算"
   ]
  },
  {
   "cell_type": "code",
   "execution_count": 1,
   "metadata": {},
   "outputs": [
    {
     "name": "stdout",
     "output_type": "stream",
     "text": [
      "5\n",
      "-1\n",
      "6\n",
      "5.0\n",
      "9\n",
      "2\n"
     ]
    }
   ],
   "source": [
    "print(2 + 3)\n",
    "print(2 - 3)\n",
    "print(2 * 3)\n",
    "print(10 / 2)\n",
    "print(3 ** 2) # R 語言使用 3 ^ 2\n",
    "print(10 % 4) # R 語言使用 10 %% 4"
   ]
  },
  {
   "cell_type": "code",
   "execution_count": null,
   "metadata": {
    "collapsed": true
   },
   "outputs": [],
   "source": []
  },
  {
   "cell_type": "markdown",
   "metadata": {
    "collapsed": true
   },
   "source": [
    "# Python 的基本變數類型分為以下這幾類：\n",
    "\n",
    "http://ithelp.ithome.com.tw/articles/10184855\n",
    "\n",
    "Python 回傳變數類型的函數是 type()"
   ]
  },
  {
   "cell_type": "code",
   "execution_count": 2,
   "metadata": {},
   "outputs": [
    {
     "name": "stdout",
     "output_type": "stream",
     "text": [
      "<class 'int'>\n",
      "<class 'float'>\n",
      "<class 'complex'>\n",
      "<class 'bool'>\n",
      "<class 'bool'>\n",
      "<class 'str'>\n"
     ]
    }
   ],
   "source": [
    "print(type(5)) # 'int'\n",
    "print(type(5.5)) # 'float'\n",
    "print(type(5 + 3j)) # 'complex'\n",
    "print(type(True)) # 'bool'\n",
    "print(type(False)) # 'bool'\n",
    "print(type(\"2017 ithome ironman\")) # 'str'"
   ]
  },
  {
   "cell_type": "markdown",
   "metadata": {},
   "source": [
    "# 不同變數類型之間的運算\n",
    "\n",
    "http://ithelp.ithome.com.tw/articles/10184901"
   ]
  },
  {
   "cell_type": "code",
   "execution_count": 3,
   "metadata": {},
   "outputs": [
    {
     "name": "stdout",
     "output_type": "stream",
     "text": [
      "True\n",
      "True\n",
      "2.2\n",
      "5\n",
      "2017 ithome ironman rocks!\n",
      "2017 ithome ironman rocks!!!\n"
     ]
    }
   ],
   "source": [
    "print(1.0 == True) # True\n",
    "print(0 == False) # True\n",
    "print(1.2 + True) # 2.2\n",
    "print(3 + True * 2) # 5\n",
    "print(\"2017 ithome ironman\" + \" rocks!\") # \"2017 ithome ironman rocks!\"\n",
    "print(\"2017 ithome ironman \" + \"rocks\" + \"!\" * 3) # \"2017 ithome ironman rocks!!!\""
   ]
  },
  {
   "cell_type": "markdown",
   "metadata": {},
   "source": [
    "# 指派運算子像是：\n",
    "+=，\n",
    "-=，\n",
    "*=，\n",
    "/=，\n",
    "%="
   ]
  },
  {
   "cell_type": "code",
   "execution_count": 4,
   "metadata": {},
   "outputs": [
    {
     "name": "stdout",
     "output_type": "stream",
     "text": [
      "33\n",
      "30\n",
      "150\n",
      "30.0\n",
      "2.0\n"
     ]
    }
   ],
   "source": [
    "days = 30\n",
    "days += 3\n",
    "print(days) # 33\n",
    "days -= 3\n",
    "print(days) # 30\n",
    "days *= 5\n",
    "print(days) # 150\n",
    "days /= 5\n",
    "print(days) # 30.0\n",
    "days %= 7\n",
    "print(days) # 2.0"
   ]
  },
  {
   "cell_type": "markdown",
   "metadata": {},
   "source": [
    "# 格式化输出"
   ]
  },
  {
   "cell_type": "code",
   "execution_count": 10,
   "metadata": {},
   "outputs": [
    {
     "name": "stdout",
     "output_type": "stream",
     "text": [
      "In order to become an ironman, you have to publish an article a day for   30   days in a row.\n"
     ]
    }
   ],
   "source": [
    "days = 30\n",
    "print(\"In order to become an ironman, you have to publish an article a day for  %s  days in a row.\" %(days))"
   ]
  },
  {
   "cell_type": "markdown",
   "metadata": {},
   "source": [
    "# Python 轉換變數類型的函數：\n",
    "\n",
    ">float()：轉換變數類型為 float\n",
    "\n",
    ">int()：轉換變數類型為 int\n",
    "\n",
    ">complex()：轉換變數類型為 complex\n",
    "\n",
    ">bool()：轉換變數類型為 bool\n",
    "\n",
    ">str()：轉換變數類型為 str\n",
    "\n",
    "我們利用最有彈性的布林值來展示這幾個函數的功能。"
   ]
  },
  {
   "cell_type": "code",
   "execution_count": 11,
   "metadata": {},
   "outputs": [
    {
     "name": "stdout",
     "output_type": "stream",
     "text": [
      "<class 'bool'>\n",
      "1.0\n",
      "1\n",
      "(1+0j)\n",
      "<class 'str'>\n"
     ]
    }
   ],
   "source": [
    "my_bool = True\n",
    "print(type(my_bool)) # 'bool'\n",
    "print(float(my_bool)) # 1.0\n",
    "print(int(my_bool)) # 1\n",
    "print(complex(my_bool)) # 1+0j\n",
    "print(type(str(my_bool))) # 'str'"
   ]
  },
  {
   "cell_type": "markdown",
   "metadata": {},
   "source": [
    "# 資料結構\n",
    "\n",
    "參考網址:http://ithelp.ithome.com.tw/articles/10185010"
   ]
  },
  {
   "cell_type": "markdown",
   "metadata": {},
   "source": [
    "Python 基本的資料結構大致有三類：\n",
    "\n",
    ">list\n",
    "\n",
    ">tuple\n",
    "\n",
    ">dictionary"
   ]
  },
  {
   "cell_type": "markdown",
   "metadata": {},
   "source": [
    "## list\n",
    "\n",
    "Python 的索引值由 0 開始"
   ]
  },
  {
   "cell_type": "code",
   "execution_count": 12,
   "metadata": {},
   "outputs": [
    {
     "name": "stdout",
     "output_type": "stream",
     "text": [
      "<class 'str'>\n",
      "<class 'int'>\n",
      "<class 'bool'>\n"
     ]
    }
   ],
   "source": [
    "participated_group = \"Big Data\"\n",
    "current_ttl_articles = 4\n",
    "is_participating = True\n",
    "\n",
    "my_status = [participated_group, current_ttl_articles, is_participating]\n",
    "print(type(my_status[0]))\n",
    "print(type(my_status[1]))\n",
    "print(type(my_status[2]))"
   ]
  },
  {
   "cell_type": "markdown",
   "metadata": {},
   "source": [
    "## tuple\n",
    "\n",
    "tuple 跟 list 很像，但是我們不能新增，刪除或者更新 tuple 的元素"
   ]
  },
  {
   "cell_type": "code",
   "execution_count": 13,
   "metadata": {},
   "outputs": [
    {
     "ename": "AttributeError",
     "evalue": "'tuple' object has no attribute 'insert'",
     "output_type": "error",
     "traceback": [
      "\u001b[0;31m---------------------------------------------------------------------------\u001b[0m",
      "\u001b[0;31mAttributeError\u001b[0m                            Traceback (most recent call last)",
      "\u001b[0;32m<ipython-input-13-566a163f1fe4>\u001b[0m in \u001b[0;36m<module>\u001b[0;34m()\u001b[0m\n\u001b[1;32m      5\u001b[0m \u001b[1;31m# 新增一個元素\u001b[0m\u001b[1;33m\u001b[0m\u001b[1;33m\u001b[0m\u001b[0m\n\u001b[1;32m      6\u001b[0m \u001b[0mironman_groups_list\u001b[0m\u001b[1;33m.\u001b[0m\u001b[0minsert\u001b[0m\u001b[1;33m(\u001b[0m\u001b[1;36m5\u001b[0m\u001b[1;33m,\u001b[0m \u001b[1;34m\"自我挑戰組\"\u001b[0m\u001b[1;33m)\u001b[0m\u001b[1;33m\u001b[0m\u001b[0m\n\u001b[0;32m----> 7\u001b[0;31m \u001b[0mironman_groups_tuple\u001b[0m\u001b[1;33m.\u001b[0m\u001b[0minsert\u001b[0m\u001b[1;33m(\u001b[0m\u001b[1;36m5\u001b[0m\u001b[1;33m,\u001b[0m \u001b[1;34m\"自我挑戰組\"\u001b[0m\u001b[1;33m)\u001b[0m\u001b[1;33m\u001b[0m\u001b[0m\n\u001b[0m",
      "\u001b[0;31mAttributeError\u001b[0m: 'tuple' object has no attribute 'insert'"
     ]
    }
   ],
   "source": [
    "# 分別建立 list 與 tuple\n",
    "ironman_groups_list = [\"Modern Web\", \"DevOps\", \"Cloud\", \"Big Data\", \"Security\"]\n",
    "ironman_groups_tuple = tuple(ironman_groups_list)\n",
    "\n",
    "# 新增一個元素\n",
    "ironman_groups_list.insert(5, \"自我挑戰組\")\n",
    "ironman_groups_tuple.insert(5, \"自我挑戰組\")"
   ]
  },
  {
   "cell_type": "markdown",
   "metadata": {},
   "source": [
    "## dictionary\n",
    "\n",
    "dictionary 是帶有鍵值（key）的 list"
   ]
  },
  {
   "cell_type": "code",
   "execution_count": 14,
   "metadata": {},
   "outputs": [
    {
     "name": "stdout",
     "output_type": "stream",
     "text": [
      "Big Data\n",
      "4\n",
      "True\n"
     ]
    }
   ],
   "source": [
    "participated_group = \"Big Data\"\n",
    "current_ttl_articles = 4\n",
    "is_participating = True\n",
    "\n",
    "# 建立 dictionary\n",
    "my_status = {\n",
    "    \"group\": participated_group,\n",
    "    \"ttl_articles\": current_ttl_articles,\n",
    "    \"is_participating\": is_participating\n",
    "}\n",
    "\n",
    "# 利用鍵值選擇元素\n",
    "print(my_status[\"group\"])\n",
    "print(my_status[\"ttl_articles\"])\n",
    "print(my_status[\"is_participating\"])"
   ]
  },
  {
   "cell_type": "code",
   "execution_count": null,
   "metadata": {
    "collapsed": true
   },
   "outputs": [],
   "source": []
  }
 ],
 "metadata": {
  "hide_input": false,
  "kernelspec": {
   "display_name": "Python 3",
   "language": "python",
   "name": "python3"
  },
  "language_info": {
   "codemirror_mode": {
    "name": "ipython",
    "version": 3
   },
   "file_extension": ".py",
   "mimetype": "text/x-python",
   "name": "python",
   "nbconvert_exporter": "python",
   "pygments_lexer": "ipython3",
   "version": "3.6.3"
  },
  "toc": {
   "nav_menu": {
    "height": "209px",
    "width": "252px"
   },
   "number_sections": true,
   "sideBar": true,
   "skip_h1_title": false,
   "toc_cell": false,
   "toc_position": {
    "height": "481px",
    "left": "0px",
    "right": "1154px",
    "top": "107px",
    "width": "212px"
   },
   "toc_section_display": "block",
   "toc_window_display": true
  },
  "varInspector": {
   "cols": {
    "lenName": 16,
    "lenType": 16,
    "lenVar": 40
   },
   "kernels_config": {
    "python": {
     "delete_cmd_postfix": "",
     "delete_cmd_prefix": "del ",
     "library": "var_list.py",
     "varRefreshCmd": "print(var_dic_list())"
    },
    "r": {
     "delete_cmd_postfix": ") ",
     "delete_cmd_prefix": "rm(",
     "library": "var_list.r",
     "varRefreshCmd": "cat(var_dic_list()) "
    }
   },
   "types_to_exclude": [
    "module",
    "function",
    "builtin_function_or_method",
    "instance",
    "_Feature"
   ],
   "window_display": false
  }
 },
 "nbformat": 4,
 "nbformat_minor": 2
}
