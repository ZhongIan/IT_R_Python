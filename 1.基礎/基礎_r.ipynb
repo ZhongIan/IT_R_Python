{
 "cells": [
  {
   "cell_type": "markdown",
   "metadata": {},
   "source": [
    "# 運算"
   ]
  },
  {
   "cell_type": "code",
   "execution_count": 4,
   "metadata": {},
   "outputs": [
    {
     "name": "stdout",
     "output_type": "stream",
     "text": [
      "[1] 5\n",
      "[1] -1\n",
      "[1] 6\n",
      "[1] 5\n",
      "[1] 9\n",
      "[1] 2\n"
     ]
    }
   ],
   "source": [
    "print(2 + 3)\n",
    "print(2 - 3)\n",
    "print(2 * 3)\n",
    "print(10 / 2)\n",
    "print(3 ^ 2) \n",
    "print(10 %% 4) "
   ]
  },
  {
   "cell_type": "markdown",
   "metadata": {},
   "source": [
    "# R 語言的基本變數類型\n",
    "\n",
    "http://ithelp.ithome.com.tw/articles/10184855\n",
    "\n",
    "R 語言的基本變數類型分為以下這幾類：\n",
    "\n",
    "R 語言回傳變數類型的函數是 class()"
   ]
  },
  {
   "cell_type": "code",
   "execution_count": 1,
   "metadata": {},
   "outputs": [
    {
     "name": "stdout",
     "output_type": "stream",
     "text": [
      "[1] \"numeric\"\n",
      "[1] \"numeric\"\n",
      "[1] \"integer\"\n",
      "[1] \"complex\"\n",
      "[1] \"logical\"\n",
      "[1] \"logical\"\n",
      "[1] \"character\"\n"
     ]
    }
   ],
   "source": [
    "print(class(5)) # \"numeric\"\n",
    "print(class(5.5)) # \"numeric\"\n",
    "print(class(5L)) # \"integer\"\n",
    "print(class(5 + 3i)) # \"complex\"\n",
    "print(class(TRUE)) # \"logical\"\n",
    "print(class(FALSE)) # \"logical\"\n",
    "print(class(\"2017 ithome ironman\")) # \"character\""
   ]
  },
  {
   "cell_type": "markdown",
   "metadata": {},
   "source": [
    "# 不同變數類型之間的運算\n",
    "\n",
    "http://ithelp.ithome.com.tw/articles/10184901"
   ]
  },
  {
   "cell_type": "code",
   "execution_count": 3,
   "metadata": {},
   "outputs": [
    {
     "name": "stdout",
     "output_type": "stream",
     "text": [
      "[1] TRUE\n",
      "[1] TRUE\n",
      "[1] 2.2\n",
      "[1] 4\n"
     ]
    },
    {
     "data": {
      "text/html": [
       "8"
      ],
      "text/latex": [
       "8"
      ],
      "text/markdown": [
       "8"
      ],
      "text/plain": [
       "[1] 8"
      ]
     },
     "metadata": {},
     "output_type": "display_data"
    },
    {
     "ename": "ERROR",
     "evalue": "Error in \"2017 ithome ironman\" + \" rocks!\": 二元運算子中有非數值引數\n",
     "output_type": "error",
     "traceback": [
      "Error in \"2017 ithome ironman\" + \" rocks!\": 二元運算子中有非數值引數\nTraceback:\n",
      "1. print(\"2017 ithome ironman\" + \" rocks!\")"
     ]
    }
   ],
   "source": [
    "print(1 == TRUE) # TRUE\n",
    "print(0 == FALSE) # TRUE\n",
    "print(1.2 + TRUE) # 2.2\n",
    "print(3 + TRUE) * 2 # 5\n",
    "print(\"2017 ithome ironman\" + \" rocks!\") # Error"
   ]
  },
  {
   "cell_type": "markdown",
   "metadata": {},
   "source": [
    "# R 語言變數類型的轉換"
   ]
  },
  {
   "cell_type": "markdown",
   "metadata": {},
   "source": [
    "在 R 語言透過 paste() 函數不需要做變數類型的轉換就可以完成"
   ]
  },
  {
   "cell_type": "code",
   "execution_count": 14,
   "metadata": {},
   "outputs": [
    {
     "data": {
      "text/html": [
       "'In order to become an ironman, you have to publish an article a day for 30 days in a row.'"
      ],
      "text/latex": [
       "'In order to become an ironman, you have to publish an article a day for 30 days in a row.'"
      ],
      "text/markdown": [
       "'In order to become an ironman, you have to publish an article a day for 30 days in a row.'"
      ],
      "text/plain": [
       "[1] \"In order to become an ironman, you have to publish an article a day for 30 days in a row.\""
      ]
     },
     "metadata": {},
     "output_type": "display_data"
    }
   ],
   "source": [
    "days <- 30\n",
    "paste(\"In order to become an ironman, you have to publish an article a day for\", days, \"days in a row.\")"
   ]
  },
  {
   "cell_type": "markdown",
   "metadata": {},
   "source": [
    "R 語言轉換變數類型的函數都是以 as. 作為開頭然後將要轉換為的變數類型接於後面，方便我們記憶。\n",
    "\n",
    ">as.numeric()：轉換變數類型為 numeric\n",
    "\n",
    ">as.integer()：轉換變數類型為 integer\n",
    "\n",
    ">as.complex()：轉換變數類型為 complex\n",
    "\n",
    ">as.logical()：轉換變數類型為 logical\n",
    "\n",
    ">as.character()：轉換變數類型為 character\n",
    "\n",
    "我們利用最有彈性的邏輯值來展示這幾個函數的功能。"
   ]
  },
  {
   "cell_type": "code",
   "execution_count": 6,
   "metadata": {},
   "outputs": [
    {
     "data": {
      "text/html": [
       "'logical'"
      ],
      "text/latex": [
       "'logical'"
      ],
      "text/markdown": [
       "'logical'"
      ],
      "text/plain": [
       "[1] \"logical\""
      ]
     },
     "metadata": {},
     "output_type": "display_data"
    },
    {
     "data": {
      "text/html": [
       "1"
      ],
      "text/latex": [
       "1"
      ],
      "text/markdown": [
       "1"
      ],
      "text/plain": [
       "[1] 1"
      ]
     },
     "metadata": {},
     "output_type": "display_data"
    },
    {
     "data": {
      "text/html": [
       "1"
      ],
      "text/latex": [
       "1"
      ],
      "text/markdown": [
       "1"
      ],
      "text/plain": [
       "[1] 1"
      ]
     },
     "metadata": {},
     "output_type": "display_data"
    },
    {
     "data": {
      "text/html": [
       "1+0i"
      ],
      "text/latex": [
       "1+0i"
      ],
      "text/markdown": [
       "1+0i"
      ],
      "text/plain": [
       "[1] 1+0i"
      ]
     },
     "metadata": {},
     "output_type": "display_data"
    },
    {
     "data": {
      "text/html": [
       "'TRUE'"
      ],
      "text/latex": [
       "'TRUE'"
      ],
      "text/markdown": [
       "'TRUE'"
      ],
      "text/plain": [
       "[1] \"TRUE\""
      ]
     },
     "metadata": {},
     "output_type": "display_data"
    }
   ],
   "source": [
    "my_logical <- TRUE\n",
    "class(my_logical) # \"logical\"\n",
    "as.numeric(my_logical) # 1\n",
    "as.integer(my_logical) # 1\n",
    "as.complex(my_logical) # 1+0i\n",
    "as.character(my_logical) # \"TRUE\""
   ]
  },
  {
   "cell_type": "markdown",
   "metadata": {},
   "source": [
    "# R 語言的資料結構\n",
    "\n",
    "http://ithelp.ithome.com.tw/articles/10185010\n",
    "\n",
    "R 語言基本的資料結構大致有五類：\n",
    "\n",
    ">vector\n",
    "\n",
    ">factor\n",
    "\n",
    ">matrix\n",
    "\n",
    ">data frame\n",
    "\n",
    ">list\n",
    "\n",
    "我們可以透過使用 \n",
    "\n",
    ">factor()\n",
    "\n",
    ">matrix()\n",
    "\n",
    ">data.frame()\n",
    "\n",
    ">list() \n",
    "\n",
    "這些函數將原為 vector 結構的 ironman_groups 轉換為不同的資料結構。"
   ]
  },
  {
   "cell_type": "code",
   "execution_count": 13,
   "metadata": {},
   "outputs": [
    {
     "data": {
      "text/html": [
       "<ol class=list-inline>\n",
       "\t<li>'Modern Web'</li>\n",
       "\t<li>'DevOps'</li>\n",
       "\t<li>'Cloud'</li>\n",
       "\t<li>'Big Data'</li>\n",
       "\t<li>'Security'</li>\n",
       "\t<li>'自我挑戰組'</li>\n",
       "</ol>\n"
      ],
      "text/latex": [
       "\\begin{enumerate*}\n",
       "\\item 'Modern Web'\n",
       "\\item 'DevOps'\n",
       "\\item 'Cloud'\n",
       "\\item 'Big Data'\n",
       "\\item 'Security'\n",
       "\\item '自我挑戰組'\n",
       "\\end{enumerate*}\n"
      ],
      "text/markdown": [
       "1. 'Modern Web'\n",
       "2. 'DevOps'\n",
       "3. 'Cloud'\n",
       "4. 'Big Data'\n",
       "5. 'Security'\n",
       "6. '自我挑戰組'\n",
       "\n",
       "\n"
      ],
      "text/plain": [
       "[1] \"Modern Web\" \"DevOps\"     \"Cloud\"      \"Big Data\"   \"Security\"  \n",
       "[6] \"自我挑戰組\""
      ]
     },
     "metadata": {},
     "output_type": "display_data"
    },
    {
     "data": {
      "text/html": [
       "<ol class=list-inline>\n",
       "\t<li>Modern Web</li>\n",
       "\t<li>DevOps</li>\n",
       "\t<li>Cloud</li>\n",
       "\t<li>Big Data</li>\n",
       "\t<li>Security</li>\n",
       "\t<li>自我挑戰組</li>\n",
       "</ol>\n"
      ],
      "text/latex": [
       "\\begin{enumerate*}\n",
       "\\item Modern Web\n",
       "\\item DevOps\n",
       "\\item Cloud\n",
       "\\item Big Data\n",
       "\\item Security\n",
       "\\item 自我挑戰組\n",
       "\\end{enumerate*}\n"
      ],
      "text/markdown": [
       "1. Modern Web\n",
       "2. DevOps\n",
       "3. Cloud\n",
       "4. Big Data\n",
       "5. Security\n",
       "6. 自我挑戰組\n",
       "\n",
       "\n"
      ],
      "text/plain": [
       "[1] Modern Web DevOps     Cloud      Big Data   Security   自我挑戰組\n",
       "Levels: Big Data Cloud DevOps Modern Web Security 自我挑戰組"
      ]
     },
     "metadata": {},
     "output_type": "display_data"
    },
    {
     "data": {
      "text/html": [
       "<table>\n",
       "<tbody>\n",
       "\t<tr><td>Modern Web</td><td>Cloud     </td><td>Security  </td></tr>\n",
       "\t<tr><td>DevOps    </td><td>Big Data  </td><td>自我挑戰組</td></tr>\n",
       "</tbody>\n",
       "</table>\n"
      ],
      "text/latex": [
       "\\begin{tabular}{lll}\n",
       "\t Modern Web & Cloud      & Security  \\\\\n",
       "\t DevOps     & Big Data   & 自我挑戰組\\\\\n",
       "\\end{tabular}\n"
      ],
      "text/markdown": [
       "\n",
       "| Modern Web | Cloud      | Security   | \n",
       "| DevOps     | Big Data   | 自我挑戰組 | \n",
       "\n",
       "\n"
      ],
      "text/plain": [
       "     [,1]       [,2]     [,3]      \n",
       "[1,] Modern Web Cloud    Security  \n",
       "[2,] DevOps     Big Data 自我挑戰組"
      ]
     },
     "metadata": {},
     "output_type": "display_data"
    },
    {
     "data": {
      "text/html": [
       "<table>\n",
       "<thead><tr><th scope=col>ironman_groups</th></tr></thead>\n",
       "<tbody>\n",
       "\t<tr><td>Modern Web</td></tr>\n",
       "\t<tr><td>DevOps    </td></tr>\n",
       "\t<tr><td>Cloud     </td></tr>\n",
       "\t<tr><td>Big Data  </td></tr>\n",
       "\t<tr><td>Security  </td></tr>\n",
       "\t<tr><td>自我挑戰組</td></tr>\n",
       "</tbody>\n",
       "</table>\n"
      ],
      "text/latex": [
       "\\begin{tabular}{r|l}\n",
       " ironman\\_groups\\\\\n",
       "\\hline\n",
       "\t Modern Web\\\\\n",
       "\t DevOps    \\\\\n",
       "\t Cloud     \\\\\n",
       "\t Big Data  \\\\\n",
       "\t Security  \\\\\n",
       "\t 自我挑戰組\\\\\n",
       "\\end{tabular}\n"
      ],
      "text/markdown": [
       "\n",
       "ironman_groups | \n",
       "|---|---|---|---|---|---|\n",
       "| Modern Web | \n",
       "| DevOps     | \n",
       "| Cloud      | \n",
       "| Big Data   | \n",
       "| Security   | \n",
       "| 自我挑戰組 | \n",
       "\n",
       "\n"
      ],
      "text/plain": [
       "  ironman_groups\n",
       "1 Modern Web    \n",
       "2 DevOps        \n",
       "3 Cloud         \n",
       "4 Big Data      \n",
       "5 Security      \n",
       "6 自我挑戰組    "
      ]
     },
     "metadata": {},
     "output_type": "display_data"
    },
    {
     "data": {
      "text/html": [
       "<ol>\n",
       "\t<li><ol class=list-inline>\n",
       "\t<li>'Modern Web'</li>\n",
       "\t<li>'DevOps'</li>\n",
       "\t<li>'Cloud'</li>\n",
       "\t<li>'Big Data'</li>\n",
       "\t<li>'Security'</li>\n",
       "\t<li>'自我挑戰組'</li>\n",
       "</ol>\n",
       "</li>\n",
       "\t<li><ol class=list-inline>\n",
       "\t<li>Modern Web</li>\n",
       "\t<li>DevOps</li>\n",
       "\t<li>Cloud</li>\n",
       "\t<li>Big Data</li>\n",
       "\t<li>Security</li>\n",
       "\t<li>自我挑戰組</li>\n",
       "</ol>\n",
       "</li>\n",
       "\t<li><table>\n",
       "<tbody>\n",
       "\t<tr><td>Modern Web</td><td>Cloud     </td><td>Security  </td></tr>\n",
       "\t<tr><td>DevOps    </td><td>Big Data  </td><td>自我挑戰組</td></tr>\n",
       "</tbody>\n",
       "</table>\n",
       "</li>\n",
       "\t<li><table>\n",
       "<thead><tr><th scope=col>ironman_groups</th></tr></thead>\n",
       "<tbody>\n",
       "\t<tr><td>Modern Web</td></tr>\n",
       "\t<tr><td>DevOps    </td></tr>\n",
       "\t<tr><td>Cloud     </td></tr>\n",
       "\t<tr><td>Big Data  </td></tr>\n",
       "\t<tr><td>Security  </td></tr>\n",
       "\t<tr><td>自我挑戰組</td></tr>\n",
       "</tbody>\n",
       "</table>\n",
       "</li>\n",
       "</ol>\n"
      ],
      "text/latex": [
       "\\begin{enumerate}\n",
       "\\item \\begin{enumerate*}\n",
       "\\item 'Modern Web'\n",
       "\\item 'DevOps'\n",
       "\\item 'Cloud'\n",
       "\\item 'Big Data'\n",
       "\\item 'Security'\n",
       "\\item '自我挑戰組'\n",
       "\\end{enumerate*}\n",
       "\n",
       "\\item \\begin{enumerate*}\n",
       "\\item Modern Web\n",
       "\\item DevOps\n",
       "\\item Cloud\n",
       "\\item Big Data\n",
       "\\item Security\n",
       "\\item 自我挑戰組\n",
       "\\end{enumerate*}\n",
       "\n",
       "\\item \\begin{tabular}{lll}\n",
       "\t Modern Web & Cloud      & Security  \\\\\n",
       "\t DevOps     & Big Data   & 自我挑戰組\\\\\n",
       "\\end{tabular}\n",
       "\n",
       "\\item \\begin{tabular}{r|l}\n",
       " ironman\\_groups\\\\\n",
       "\\hline\n",
       "\t Modern Web\\\\\n",
       "\t DevOps    \\\\\n",
       "\t Cloud     \\\\\n",
       "\t Big Data  \\\\\n",
       "\t Security  \\\\\n",
       "\t 自我挑戰組\\\\\n",
       "\\end{tabular}\n",
       "\n",
       "\\end{enumerate}\n"
      ],
      "text/markdown": [
       "1. 1. 'Modern Web'\n",
       "2. 'DevOps'\n",
       "3. 'Cloud'\n",
       "4. 'Big Data'\n",
       "5. 'Security'\n",
       "6. '自我挑戰組'\n",
       "\n",
       "\n",
       "\n",
       "2. 1. Modern Web\n",
       "2. DevOps\n",
       "3. Cloud\n",
       "4. Big Data\n",
       "5. Security\n",
       "6. 自我挑戰組\n",
       "\n",
       "\n",
       "\n",
       "3. \n",
       "| Modern Web | Cloud      | Security   | \n",
       "| DevOps     | Big Data   | 自我挑戰組 | \n",
       "\n",
       "\n",
       "\n",
       "4. \n",
       "ironman_groups | \n",
       "|---|---|---|---|---|---|\n",
       "| Modern Web | \n",
       "| DevOps     | \n",
       "| Cloud      | \n",
       "| Big Data   | \n",
       "| Security   | \n",
       "| 自我挑戰組 | \n",
       "\n",
       "\n",
       "\n",
       "\n",
       "\n"
      ],
      "text/plain": [
       "[[1]]\n",
       "[1] \"Modern Web\" \"DevOps\"     \"Cloud\"      \"Big Data\"   \"Security\"  \n",
       "[6] \"自我挑戰組\"\n",
       "\n",
       "[[2]]\n",
       "[1] Modern Web DevOps     Cloud      Big Data   Security   自我挑戰組\n",
       "Levels: Big Data Cloud DevOps Modern Web Security 自我挑戰組\n",
       "\n",
       "[[3]]\n",
       "     [,1]         [,2]       [,3]        \n",
       "[1,] \"Modern Web\" \"Cloud\"    \"Security\"  \n",
       "[2,] \"DevOps\"     \"Big Data\" \"自我挑戰組\"\n",
       "\n",
       "[[4]]\n",
       "  ironman_groups\n",
       "1     Modern Web\n",
       "2         DevOps\n",
       "3          Cloud\n",
       "4       Big Data\n",
       "5       Security\n",
       "6     自我挑戰組\n"
      ]
     },
     "metadata": {},
     "output_type": "display_data"
    }
   ],
   "source": [
    "ironman_groups <- c(\"Modern Web\", \"DevOps\", \"Cloud\", \"Big Data\", \"Security\", \"自我挑戰組\")\n",
    "# 轉換為不同的資料結構\n",
    "ironman_groups_factor <- factor(ironman_groups)\n",
    "ironman_groups_matrix <- matrix(ironman_groups, nrow = 2)\n",
    "ironman_groups_df <- data.frame(ironman_groups)\n",
    "ironman_groups_list <- list(ironman_groups, ironman_groups_factor, ironman_groups_matrix, ironman_groups_df)\n",
    "\n",
    "# 印出這些資料結構\n",
    "ironman_groups\n",
    "ironman_groups_factor\n",
    "ironman_groups_matrix\n",
    "ironman_groups_df\n",
    "ironman_groups_list"
   ]
  },
  {
   "cell_type": "markdown",
   "metadata": {},
   "source": [
    "## list\n",
    "\n",
    "R 語言的 vector 會將元素轉換成為同一變數類型，但是 list 不會，我們參考一下底下這個簡單的範例。"
   ]
  },
  {
   "cell_type": "code",
   "execution_count": 15,
   "metadata": {},
   "outputs": [
    {
     "data": {
      "text/html": [
       "'character'"
      ],
      "text/latex": [
       "'character'"
      ],
      "text/markdown": [
       "'character'"
      ],
      "text/plain": [
       "[1] \"character\""
      ]
     },
     "metadata": {},
     "output_type": "display_data"
    },
    {
     "data": {
      "text/html": [
       "'character'"
      ],
      "text/latex": [
       "'character'"
      ],
      "text/markdown": [
       "'character'"
      ],
      "text/plain": [
       "[1] \"character\""
      ]
     },
     "metadata": {},
     "output_type": "display_data"
    },
    {
     "data": {
      "text/html": [
       "'character'"
      ],
      "text/latex": [
       "'character'"
      ],
      "text/markdown": [
       "'character'"
      ],
      "text/plain": [
       "[1] \"character\""
      ]
     },
     "metadata": {},
     "output_type": "display_data"
    },
    {
     "data": {
      "text/html": [
       "'numeric'"
      ],
      "text/latex": [
       "'numeric'"
      ],
      "text/markdown": [
       "'numeric'"
      ],
      "text/plain": [
       "[1] \"numeric\""
      ]
     },
     "metadata": {},
     "output_type": "display_data"
    }
   ],
   "source": [
    "participated_group <- \"Big Data\"\n",
    "current_ttl_articles <- 4\n",
    "is_participating <- TRUE\n",
    "\n",
    "# 建立一個 vector\n",
    "my_vector <- c(participated_group, current_ttl_articles, is_participating)\n",
    "class(my_vector[1])\n",
    "class(my_vector[2])\n",
    "\n",
    "# 建立一個 list\n",
    "my_list <- list(participated_group, current_ttl_articles, is_participating)\n",
    "class(my_list[[1]])\n",
    "class(my_list[[2]])"
   ]
  },
  {
   "cell_type": "markdown",
   "metadata": {},
   "source": [
    "## dictionary\n",
    "\n",
    "在 R 語言中建立 list 時進行命名，也可以生成類似 dictionary 的資料結構"
   ]
  },
  {
   "cell_type": "code",
   "execution_count": 16,
   "metadata": {},
   "outputs": [
    {
     "data": {
      "text/html": [
       "'Big Data'"
      ],
      "text/latex": [
       "'Big Data'"
      ],
      "text/markdown": [
       "'Big Data'"
      ],
      "text/plain": [
       "[1] \"Big Data\""
      ]
     },
     "metadata": {},
     "output_type": "display_data"
    },
    {
     "data": {
      "text/html": [
       "4"
      ],
      "text/latex": [
       "4"
      ],
      "text/markdown": [
       "4"
      ],
      "text/plain": [
       "[1] 4"
      ]
     },
     "metadata": {},
     "output_type": "display_data"
    },
    {
     "data": {
      "text/html": [
       "TRUE"
      ],
      "text/latex": [
       "TRUE"
      ],
      "text/markdown": [
       "TRUE"
      ],
      "text/plain": [
       "[1] TRUE"
      ]
     },
     "metadata": {},
     "output_type": "display_data"
    }
   ],
   "source": [
    "participated_group <- \"Big Data\"\n",
    "current_ttl_articles <- 4\n",
    "is_participating <- TRUE\n",
    "\n",
    "# 建立 named list\n",
    "my_status <- list(\n",
    "    group = participated_group,\n",
    "    ttl_articles = current_ttl_articles,\n",
    "    is_participating = is_participating\n",
    ")\n",
    "\n",
    "# 利用名稱選擇元素\n",
    "my_status[[\"group\"]]\n",
    "my_status[[\"ttl_articles\"]]\n",
    "my_status[[\"is_participating\"]]"
   ]
  },
  {
   "cell_type": "code",
   "execution_count": null,
   "metadata": {
    "collapsed": true
   },
   "outputs": [],
   "source": []
  }
 ],
 "metadata": {
  "kernelspec": {
   "display_name": "R",
   "language": "R",
   "name": "ir"
  },
  "language_info": {
   "codemirror_mode": "r",
   "file_extension": ".r",
   "mimetype": "text/x-r-source",
   "name": "R",
   "pygments_lexer": "r",
   "version": "3.4.1"
  }
 },
 "nbformat": 4,
 "nbformat_minor": 2
}
