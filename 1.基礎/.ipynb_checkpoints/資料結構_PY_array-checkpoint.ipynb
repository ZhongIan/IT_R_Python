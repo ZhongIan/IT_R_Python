{
 "cells": [
  {
   "cell_type": "markdown",
   "metadata": {},
   "source": [
    "http://ithelp.ithome.com.tw/articles/10185093"
   ]
  },
  {
   "cell_type": "markdown",
   "metadata": {},
   "source": [
    "# ndarray"
   ]
  },
  {
   "cell_type": "code",
   "execution_count": 3,
   "metadata": {},
   "outputs": [
    {
     "name": "stdout",
     "output_type": "stream",
     "text": [
      "[46  8 11 11  4 56]\n",
      "<class 'numpy.ndarray'>\n",
      "[1380  240  330  330  120 1680]\n"
     ]
    }
   ],
   "source": [
    "import numpy as np # 引用套件並縮寫為 np\n",
    "\n",
    "ironmen = np.array([46, 8, 11, 11, 4, 56]) # 將 list 透過 numpy 的 array 方法進行轉換\n",
    "print(ironmen) # 看看 ironmen 的外觀\n",
    "print(type(ironmen)) # 看看 ironmen 的資料結構\n",
    "articles = ironmen * 30\n",
    "print(articles)"
   ]
  },
  {
   "cell_type": "markdown",
   "metadata": {},
   "source": [
    "# NumPy 的 ndarray\n",
    "\n",
    "單一資料類型\n",
    "\n",
    "NumPy 的 ndarray 只能容許一種資料類型，\n",
    "\n",
    "如果同時儲存有數值，布林值，會被自動轉換為數值，\n",
    "\n",
    "如果同時儲存有數值，布林值與文字，會被自動轉換為文字。"
   ]
  },
  {
   "cell_type": "code",
   "execution_count": 4,
   "metadata": {},
   "outputs": [
    {
     "name": "stdout",
     "output_type": "stream",
     "text": [
      "int32\n",
      "<U11\n"
     ]
    }
   ],
   "source": [
    "import numpy as np\n",
    "\n",
    "# 一維\n",
    "my_np_array = np.array([1, True])\n",
    "print(my_np_array.dtype) # int64\n",
    "\n",
    "my_np_array = np.array([1, True, \"one\"])\n",
    "print(my_np_array.dtype) # unicode_21\n"
   ]
  },
  {
   "cell_type": "code",
   "execution_count": 5,
   "metadata": {},
   "outputs": [
    {
     "name": "stdout",
     "output_type": "stream",
     "text": [
      "[[1 1]\n",
      " [0 0]]\n",
      "[['1' 'True']\n",
      " ['zero' 'False']]\n"
     ]
    }
   ],
   "source": [
    "import numpy as np\n",
    "\n",
    "# 二維\n",
    "my_2d_array = np.array([[1, True],\n",
    "                        [0, False]])\n",
    "print(my_2d_array)\n",
    "\n",
    "my_2d_array = np.array([[1, True],\n",
    "                        [\"zero\", False]])\n",
    "print(my_2d_array)"
   ]
  },
  {
   "cell_type": "markdown",
   "metadata": {},
   "source": [
    "# Element-wise 運算\n",
    "\n",
    "NumPy 的 ndarray 完全支持 element-wise 運算。"
   ]
  },
  {
   "cell_type": "code",
   "execution_count": 6,
   "metadata": {},
   "outputs": [
    {
     "name": "stdout",
     "output_type": "stream",
     "text": [
      "[ 1  4  9 16]\n",
      "[[ 1  9]\n",
      " [ 4 16]]\n"
     ]
    }
   ],
   "source": [
    "import numpy as np\n",
    "\n",
    "my_np_array = np.array([1, 2, 3, 4])\n",
    "print(my_np_array ** 2)\n",
    "\n",
    "my_2d_array = np.array([[1, 3],\n",
    "                        [2, 4]])\n",
    "print(my_2d_array ** 2)"
   ]
  },
  {
   "cell_type": "markdown",
   "metadata": {},
   "source": [
    "# 選擇元素\n",
    "\n",
    "NumPy 的 ndarray 透過中括號 [] 或者布林值選擇元素。"
   ]
  },
  {
   "cell_type": "code",
   "execution_count": 7,
   "metadata": {},
   "outputs": [
    {
     "name": "stdout",
     "output_type": "stream",
     "text": [
      "46\n",
      "[ True False  True  True False  True]\n",
      "[46 11 11 56]\n"
     ]
    }
   ],
   "source": [
    "import numpy as np\n",
    "\n",
    "ironmen = np.array([46, 8, 11, 11, 4, 56])\n",
    "\n",
    "print(ironmen[0]) # 選出 Modern Web 組的鐵人數\n",
    "print(ironmen > 10) # 哪幾組的鐵人數超過 10 人\n",
    "print(ironmen[ironmen > 10]) # 超過 10 人的鐵人數"
   ]
  },
  {
   "cell_type": "code",
   "execution_count": 8,
   "metadata": {},
   "outputs": [
    {
     "name": "stdout",
     "output_type": "stream",
     "text": [
      "46\n",
      "[[ True  True False]\n",
      " [False  True  True]]\n",
      "[46 11 11 56]\n"
     ]
    }
   ],
   "source": [
    "import numpy as np\n",
    "\n",
    "ironmen_2d_array = np.array([[46, 11, 4],\n",
    "                            [8, 11, 56]])\n",
    "\n",
    "print(ironmen_2d_array[0, 0]) # 選出 Modern Web 組的鐵人數\n",
    "print(ironmen_2d_array > 10) # 哪幾組的鐵人數超過 10 人\n",
    "print(ironmen_2d_array[ironmen_2d_array > 10]) # 超過 10 人的鐵人數"
   ]
  },
  {
   "cell_type": "markdown",
   "metadata": {},
   "source": [
    "# 了解 2d array 外觀的屬性\n",
    "\n",
    "NumPy 可以透過 .size 與 .shape 來了解 2d array 的規模。"
   ]
  },
  {
   "cell_type": "code",
   "execution_count": 9,
   "metadata": {},
   "outputs": [
    {
     "name": "stdout",
     "output_type": "stream",
     "text": [
      "6\n",
      "(2, 3)\n"
     ]
    }
   ],
   "source": [
    "import numpy as np\n",
    "\n",
    "ironmen_2d_array = np.array([[46, 11, 4],\n",
    "                            [8, 11, 56]])\n",
    "print(ironmen_2d_array.size) # 6\n",
    "print(ironmen_2d_array.shape) # (2, 3)"
   ]
  },
  {
   "cell_type": "code",
   "execution_count": null,
   "metadata": {
    "collapsed": true
   },
   "outputs": [],
   "source": []
  }
 ],
 "metadata": {
  "kernelspec": {
   "display_name": "Python 3",
   "language": "python",
   "name": "python3"
  },
  "language_info": {
   "codemirror_mode": {
    "name": "ipython",
    "version": 3
   },
   "file_extension": ".py",
   "mimetype": "text/x-python",
   "name": "python",
   "nbconvert_exporter": "python",
   "pygments_lexer": "ipython3",
   "version": "3.6.1"
  }
 },
 "nbformat": 4,
 "nbformat_minor": 2
}
