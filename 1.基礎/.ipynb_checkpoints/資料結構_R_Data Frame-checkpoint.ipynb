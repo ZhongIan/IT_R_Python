{
 "cells": [
  {
   "cell_type": "markdown",
   "metadata": {},
   "source": [
    "http://ithelp.ithome.com.tw/articles/10185182"
   ]
  },
  {
   "cell_type": "markdown",
   "metadata": {},
   "source": [
    "R 語言我們可以使用 data.frame() 函數可以將 vectors 結合成資料框。"
   ]
  },
  {
   "cell_type": "code",
   "execution_count": 2,
   "metadata": {},
   "outputs": [
    {
     "data": {
      "text/html": [
       "<table>\n",
       "<thead><tr><th scope=col>groups</th><th scope=col>ironmen</th></tr></thead>\n",
       "<tbody>\n",
       "\t<tr><td>Modern Web</td><td>46        </td></tr>\n",
       "\t<tr><td>DevOps    </td><td> 8        </td></tr>\n",
       "\t<tr><td>Cloud     </td><td>12        </td></tr>\n",
       "\t<tr><td>Big Data  </td><td>12        </td></tr>\n",
       "\t<tr><td>Security  </td><td> 6        </td></tr>\n",
       "\t<tr><td>自我挑戰組</td><td>58        </td></tr>\n",
       "</tbody>\n",
       "</table>\n"
      ],
      "text/latex": [
       "\\begin{tabular}{r|ll}\n",
       " groups & ironmen\\\\\n",
       "\\hline\n",
       "\t Modern Web & 46        \\\\\n",
       "\t DevOps     &  8        \\\\\n",
       "\t Cloud      & 12        \\\\\n",
       "\t Big Data   & 12        \\\\\n",
       "\t Security   &  6        \\\\\n",
       "\t 自我挑戰組 & 58        \\\\\n",
       "\\end{tabular}\n"
      ],
      "text/markdown": [
       "\n",
       "groups | ironmen | \n",
       "|---|---|---|---|---|---|\n",
       "| Modern Web | 46         | \n",
       "| DevOps     |  8         | \n",
       "| Cloud      | 12         | \n",
       "| Big Data   | 12         | \n",
       "| Security   |  6         | \n",
       "| 自我挑戰組 | 58         | \n",
       "\n",
       "\n"
      ],
      "text/plain": [
       "  groups     ironmen\n",
       "1 Modern Web 46     \n",
       "2 DevOps      8     \n",
       "3 Cloud      12     \n",
       "4 Big Data   12     \n",
       "5 Security    6     \n",
       "6 自我挑戰組 58     "
      ]
     },
     "metadata": {},
     "output_type": "display_data"
    }
   ],
   "source": [
    "groups <- c(\"Modern Web\", \"DevOps\", \"Cloud\", \"Big Data\", \"Security\", \"自我挑戰組\")\n",
    "ironmen <- c(46, 8, 12, 12, 6, 58)\n",
    "ironmen_df <- data.frame(groups, ironmen)\n",
    "ironmen_df"
   ]
  },
  {
   "cell_type": "markdown",
   "metadata": {},
   "source": [
    "# R 語言的 data frame\n",
    "\n",
    "可以由 matrix 轉換\n",
    "\n",
    "如果 data frame 的變數類型相同，亦可以從 matrix 轉換。"
   ]
  },
  {
   "cell_type": "code",
   "execution_count": 3,
   "metadata": {},
   "outputs": [
    {
     "data": {
      "text/html": [
       "<table>\n",
       "<thead><tr><th scope=col>col1</th><th scope=col>col2</th></tr></thead>\n",
       "<tbody>\n",
       "\t<tr><td>1</td><td>3</td></tr>\n",
       "\t<tr><td>2</td><td>4</td></tr>\n",
       "</tbody>\n",
       "</table>\n"
      ],
      "text/latex": [
       "\\begin{tabular}{r|ll}\n",
       " col1 & col2\\\\\n",
       "\\hline\n",
       "\t 1 & 3\\\\\n",
       "\t 2 & 4\\\\\n",
       "\\end{tabular}\n"
      ],
      "text/markdown": [
       "\n",
       "col1 | col2 | \n",
       "|---|---|\n",
       "| 1 | 3 | \n",
       "| 2 | 4 | \n",
       "\n",
       "\n"
      ],
      "text/plain": [
       "  col1 col2\n",
       "1 1    3   \n",
       "2 2    4   "
      ]
     },
     "metadata": {},
     "output_type": "display_data"
    }
   ],
   "source": [
    "my_mat <- matrix(1:4, nrow = 2, dimnames = list(NULL, c(\"col1\", \"col2\")))\n",
    "my_df <- data.frame(my_mat)\n",
    "my_df"
   ]
  },
  {
   "cell_type": "markdown",
   "metadata": {},
   "source": [
    "# 包含多種資料類型\n",
    "\n",
    "跟 list 的特性相仿，不會像 vector 與 matrix 僅限制容納單一資料類型。"
   ]
  },
  {
   "cell_type": "code",
   "execution_count": 4,
   "metadata": {},
   "outputs": [
    {
     "data": {
      "text/html": [
       "<dl class=dl-horizontal>\n",
       "\t<dt>groups</dt>\n",
       "\t\t<dd>'factor'</dd>\n",
       "\t<dt>ironmen</dt>\n",
       "\t\t<dd>'numeric'</dd>\n",
       "</dl>\n"
      ],
      "text/latex": [
       "\\begin{description*}\n",
       "\\item[groups] 'factor'\n",
       "\\item[ironmen] 'numeric'\n",
       "\\end{description*}\n"
      ],
      "text/markdown": [
       "groups\n",
       ":   'factor'ironmen\n",
       ":   'numeric'\n",
       "\n"
      ],
      "text/plain": [
       "   groups   ironmen \n",
       " \"factor\" \"numeric\" "
      ]
     },
     "metadata": {},
     "output_type": "display_data"
    }
   ],
   "source": [
    "groups <- c(\"Modern Web\", \"DevOps\", \"Cloud\", \"Big Data\", \"Security\", \"自我挑戰組\")\n",
    "ironmen <- c(46, 8, 12, 12, 6, 58)\n",
    "ironmen_df <- data.frame(groups, ironmen)\n",
    "\n",
    "sapply(ironmen_df, FUN = class) # 回傳每一個欄位的 class"
   ]
  },
  {
   "cell_type": "markdown",
   "metadata": {},
   "source": [
    "# 選擇元素\n",
    "\n",
    "R 語言透過使用中括號 [ , ] 或者 $ \n",
    "\n",
    "可以很靈活地從 data frame 中選擇想要的元素（值，列或欄。）"
   ]
  },
  {
   "cell_type": "code",
   "execution_count": 11,
   "metadata": {},
   "outputs": [
    {
     "data": {
      "text/html": [
       "<table>\n",
       "<thead><tr><th scope=col>groups</th><th scope=col>ironmen</th></tr></thead>\n",
       "<tbody>\n",
       "\t<tr><td>Modern Web</td><td>46        </td></tr>\n",
       "\t<tr><td>DevOps    </td><td> 8        </td></tr>\n",
       "\t<tr><td>Cloud     </td><td>12        </td></tr>\n",
       "\t<tr><td>Big Data  </td><td>12        </td></tr>\n",
       "\t<tr><td>Security  </td><td> 6        </td></tr>\n",
       "\t<tr><td>自我挑戰組</td><td>58        </td></tr>\n",
       "</tbody>\n",
       "</table>\n"
      ],
      "text/latex": [
       "\\begin{tabular}{r|ll}\n",
       " groups & ironmen\\\\\n",
       "\\hline\n",
       "\t Modern Web & 46        \\\\\n",
       "\t DevOps     &  8        \\\\\n",
       "\t Cloud      & 12        \\\\\n",
       "\t Big Data   & 12        \\\\\n",
       "\t Security   &  6        \\\\\n",
       "\t 自我挑戰組 & 58        \\\\\n",
       "\\end{tabular}\n"
      ],
      "text/markdown": [
       "\n",
       "groups | ironmen | \n",
       "|---|---|---|---|---|---|\n",
       "| Modern Web | 46         | \n",
       "| DevOps     |  8         | \n",
       "| Cloud      | 12         | \n",
       "| Big Data   | 12         | \n",
       "| Security   |  6         | \n",
       "| 自我挑戰組 | 58         | \n",
       "\n",
       "\n"
      ],
      "text/plain": [
       "  groups     ironmen\n",
       "1 Modern Web 46     \n",
       "2 DevOps      8     \n",
       "3 Cloud      12     \n",
       "4 Big Data   12     \n",
       "5 Security    6     \n",
       "6 自我挑戰組 58     "
      ]
     },
     "metadata": {},
     "output_type": "display_data"
    },
    {
     "data": {
      "text/html": [
       "46"
      ],
      "text/latex": [
       "46"
      ],
      "text/markdown": [
       "46"
      ],
      "text/plain": [
       "[1] 46"
      ]
     },
     "metadata": {},
     "output_type": "display_data"
    },
    {
     "data": {
      "text/html": [
       "<table>\n",
       "<thead><tr><th scope=col>groups</th><th scope=col>ironmen</th></tr></thead>\n",
       "<tbody>\n",
       "\t<tr><td>Modern Web</td><td>46        </td></tr>\n",
       "</tbody>\n",
       "</table>\n"
      ],
      "text/latex": [
       "\\begin{tabular}{r|ll}\n",
       " groups & ironmen\\\\\n",
       "\\hline\n",
       "\t Modern Web & 46        \\\\\n",
       "\\end{tabular}\n"
      ],
      "text/markdown": [
       "\n",
       "groups | ironmen | \n",
       "|---|\n",
       "| Modern Web | 46         | \n",
       "\n",
       "\n"
      ],
      "text/plain": [
       "  groups     ironmen\n",
       "1 Modern Web 46     "
      ]
     },
     "metadata": {},
     "output_type": "display_data"
    },
    {
     "data": {
      "text/html": [
       "<ol class=list-inline>\n",
       "\t<li>46</li>\n",
       "\t<li>8</li>\n",
       "\t<li>12</li>\n",
       "\t<li>12</li>\n",
       "\t<li>6</li>\n",
       "\t<li>58</li>\n",
       "</ol>\n"
      ],
      "text/latex": [
       "\\begin{enumerate*}\n",
       "\\item 46\n",
       "\\item 8\n",
       "\\item 12\n",
       "\\item 12\n",
       "\\item 6\n",
       "\\item 58\n",
       "\\end{enumerate*}\n"
      ],
      "text/markdown": [
       "1. 46\n",
       "2. 8\n",
       "3. 12\n",
       "4. 12\n",
       "5. 6\n",
       "6. 58\n",
       "\n",
       "\n"
      ],
      "text/plain": [
       "[1] 46  8 12 12  6 58"
      ]
     },
     "metadata": {},
     "output_type": "display_data"
    },
    {
     "data": {
      "text/html": [
       "<ol class=list-inline>\n",
       "\t<li>46</li>\n",
       "\t<li>8</li>\n",
       "\t<li>12</li>\n",
       "\t<li>12</li>\n",
       "\t<li>6</li>\n",
       "\t<li>58</li>\n",
       "</ol>\n"
      ],
      "text/latex": [
       "\\begin{enumerate*}\n",
       "\\item 46\n",
       "\\item 8\n",
       "\\item 12\n",
       "\\item 12\n",
       "\\item 6\n",
       "\\item 58\n",
       "\\end{enumerate*}\n"
      ],
      "text/markdown": [
       "1. 46\n",
       "2. 8\n",
       "3. 12\n",
       "4. 12\n",
       "5. 6\n",
       "6. 58\n",
       "\n",
       "\n"
      ],
      "text/plain": [
       "[1] 46  8 12 12  6 58"
      ]
     },
     "metadata": {},
     "output_type": "display_data"
    },
    {
     "data": {
      "text/html": [
       "<ol class=list-inline>\n",
       "\t<li>46</li>\n",
       "\t<li>8</li>\n",
       "\t<li>12</li>\n",
       "\t<li>12</li>\n",
       "\t<li>6</li>\n",
       "\t<li>58</li>\n",
       "</ol>\n"
      ],
      "text/latex": [
       "\\begin{enumerate*}\n",
       "\\item 46\n",
       "\\item 8\n",
       "\\item 12\n",
       "\\item 12\n",
       "\\item 6\n",
       "\\item 58\n",
       "\\end{enumerate*}\n"
      ],
      "text/markdown": [
       "1. 46\n",
       "2. 8\n",
       "3. 12\n",
       "4. 12\n",
       "5. 6\n",
       "6. 58\n",
       "\n",
       "\n"
      ],
      "text/plain": [
       "[1] 46  8 12 12  6 58"
      ]
     },
     "metadata": {},
     "output_type": "display_data"
    }
   ],
   "source": [
    "groups <- c(\"Modern Web\", \"DevOps\", \"Cloud\", \"Big Data\", \"Security\", \"自我挑戰組\")\n",
    "ironmen <- c(46, 8, 12, 12, 6, 58)\n",
    "ironmen_df <- data.frame(groups, ironmen)\n",
    "\n",
    "ironmen_df\n",
    "ironmen_df[1, 2] # 第一列第二欄：Modern Web 組的鐵人數\n",
    "ironmen_df[1, ] # 第一列：Modern Web 組的組名與鐵人數\n",
    "ironmen_df[, 2] # 第二欄：各組的鐵人數\n",
    "ironmen_df[, \"ironmen\"] # 各組的鐵人數\n",
    "ironmen_df$ironmen # 各組的鐵人數"
   ]
  },
  {
   "cell_type": "markdown",
   "metadata": {},
   "source": [
    "# 了解 data frame 概觀的函數\n",
    "\n",
    "R 語言可以透過一些函數來了解 data frame 的概觀。"
   ]
  },
  {
   "cell_type": "code",
   "execution_count": 12,
   "metadata": {},
   "outputs": [
    {
     "data": {
      "text/html": [
       "<ol class=list-inline>\n",
       "\t<li>6</li>\n",
       "\t<li>2</li>\n",
       "</ol>\n"
      ],
      "text/latex": [
       "\\begin{enumerate*}\n",
       "\\item 6\n",
       "\\item 2\n",
       "\\end{enumerate*}\n"
      ],
      "text/markdown": [
       "1. 6\n",
       "2. 2\n",
       "\n",
       "\n"
      ],
      "text/plain": [
       "[1] 6 2"
      ]
     },
     "metadata": {},
     "output_type": "display_data"
    },
    {
     "name": "stdout",
     "output_type": "stream",
     "text": [
      "'data.frame':\t6 obs. of  2 variables:\n",
      " $ groups : Factor w/ 6 levels \"Big Data\",\"Cloud\",..: 4 3 2 1 5 6\n",
      " $ ironmen: num  46 8 12 12 6 58\n"
     ]
    },
    {
     "data": {
      "text/plain": [
       "        groups     ironmen     \n",
       " Big Data  :1   Min.   : 6.00  \n",
       " Cloud     :1   1st Qu.: 9.00  \n",
       " DevOps    :1   Median :12.00  \n",
       " Modern Web:1   Mean   :23.67  \n",
       " Security  :1   3rd Qu.:37.50  \n",
       " 自我挑戰組:1   Max.   :58.00  "
      ]
     },
     "metadata": {},
     "output_type": "display_data"
    },
    {
     "data": {
      "text/html": [
       "<table>\n",
       "<thead><tr><th scope=col>groups</th><th scope=col>ironmen</th></tr></thead>\n",
       "<tbody>\n",
       "\t<tr><td>Modern Web</td><td>46        </td></tr>\n",
       "\t<tr><td>DevOps    </td><td> 8        </td></tr>\n",
       "\t<tr><td>Cloud     </td><td>12        </td></tr>\n",
       "</tbody>\n",
       "</table>\n"
      ],
      "text/latex": [
       "\\begin{tabular}{r|ll}\n",
       " groups & ironmen\\\\\n",
       "\\hline\n",
       "\t Modern Web & 46        \\\\\n",
       "\t DevOps     &  8        \\\\\n",
       "\t Cloud      & 12        \\\\\n",
       "\\end{tabular}\n"
      ],
      "text/markdown": [
       "\n",
       "groups | ironmen | \n",
       "|---|---|---|\n",
       "| Modern Web | 46         | \n",
       "| DevOps     |  8         | \n",
       "| Cloud      | 12         | \n",
       "\n",
       "\n"
      ],
      "text/plain": [
       "  groups     ironmen\n",
       "1 Modern Web 46     \n",
       "2 DevOps      8     \n",
       "3 Cloud      12     "
      ]
     },
     "metadata": {},
     "output_type": "display_data"
    },
    {
     "data": {
      "text/html": [
       "<table>\n",
       "<thead><tr><th></th><th scope=col>groups</th><th scope=col>ironmen</th></tr></thead>\n",
       "<tbody>\n",
       "\t<tr><th scope=row>4</th><td>Big Data  </td><td>12        </td></tr>\n",
       "\t<tr><th scope=row>5</th><td>Security  </td><td> 6        </td></tr>\n",
       "\t<tr><th scope=row>6</th><td>自我挑戰組</td><td>58        </td></tr>\n",
       "</tbody>\n",
       "</table>\n"
      ],
      "text/latex": [
       "\\begin{tabular}{r|ll}\n",
       "  & groups & ironmen\\\\\n",
       "\\hline\n",
       "\t4 & Big Data   & 12        \\\\\n",
       "\t5 & Security   &  6        \\\\\n",
       "\t6 & 自我挑戰組 & 58        \\\\\n",
       "\\end{tabular}\n"
      ],
      "text/markdown": [
       "\n",
       "| <!--/--> | groups | ironmen | \n",
       "|---|---|---|\n",
       "| 4 | Big Data   | 12         | \n",
       "| 5 | Security   |  6         | \n",
       "| 6 | 自我挑戰組 | 58         | \n",
       "\n",
       "\n"
      ],
      "text/plain": [
       "  groups     ironmen\n",
       "4 Big Data   12     \n",
       "5 Security    6     \n",
       "6 自我挑戰組 58     "
      ]
     },
     "metadata": {},
     "output_type": "display_data"
    },
    {
     "data": {
      "text/html": [
       "<ol class=list-inline>\n",
       "\t<li>'groups'</li>\n",
       "\t<li>'ironmen'</li>\n",
       "</ol>\n"
      ],
      "text/latex": [
       "\\begin{enumerate*}\n",
       "\\item 'groups'\n",
       "\\item 'ironmen'\n",
       "\\end{enumerate*}\n"
      ],
      "text/markdown": [
       "1. 'groups'\n",
       "2. 'ironmen'\n",
       "\n",
       "\n"
      ],
      "text/plain": [
       "[1] \"groups\"  \"ironmen\""
      ]
     },
     "metadata": {},
     "output_type": "display_data"
    }
   ],
   "source": [
    "dim(ironmen_df) # 回傳列數與欄數\n",
    "str(ironmen_df) # 回傳結構\n",
    "summary(ironmen_df) # 回傳描述性統計\n",
    "head(ironmen_df, n = 3) # 回傳前三筆觀測值\n",
    "tail(ironmen_df, n = 3) # 回傳後三筆觀測值\n",
    "names(ironmen_df) # 回傳欄位名稱"
   ]
  },
  {
   "cell_type": "code",
   "execution_count": null,
   "metadata": {
    "collapsed": true
   },
   "outputs": [],
   "source": []
  }
 ],
 "metadata": {
  "kernelspec": {
   "display_name": "R",
   "language": "R",
   "name": "ir"
  },
  "language_info": {
   "codemirror_mode": "r",
   "file_extension": ".r",
   "mimetype": "text/x-r-source",
   "name": "R",
   "pygments_lexer": "r",
   "version": "3.4.1"
  }
 },
 "nbformat": 4,
 "nbformat_minor": 2
}
