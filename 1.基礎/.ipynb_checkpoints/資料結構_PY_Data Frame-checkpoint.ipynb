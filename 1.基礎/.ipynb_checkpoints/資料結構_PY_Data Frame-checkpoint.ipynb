{
 "cells": [
  {
   "cell_type": "markdown",
   "metadata": {},
   "source": [
    "# pandas \n",
    "\n",
    "我們引用 pandas 套件之後依照使用慣例將它縮寫為 pd，\n",
    "\n",
    "最基本建立 data frame 的方式是利用 pandas 套件的 DataFrame() 方法\n",
    "\n",
    "將一個 dictionary 的資料結構轉換為 data frame\n",
    "\n",
    "（如果你對於 dictionary 資料結構感到陌生，我推薦你閱讀[[第 04 天] 資料結構 List，Tuple 與 Dictionary。）"
   ]
  },
  {
   "cell_type": "code",
   "execution_count": 2,
   "metadata": {},
   "outputs": [
    {
     "name": "stdout",
     "output_type": "stream",
     "text": [
      "       groups  ironmen\n",
      "0  Modern Web       46\n",
      "1      DevOps        8\n",
      "2       Cloud       12\n",
      "3    Big Data       12\n",
      "4    Security        6\n",
      "5       自我挑戰組       58\n",
      "<class 'pandas.core.frame.DataFrame'>\n"
     ]
    }
   ],
   "source": [
    "import pandas as pd # 引用套件並縮寫為 pd\n",
    "\n",
    "groups = [\"Modern Web\", \"DevOps\", \"Cloud\", \"Big Data\", \"Security\", \"自我挑戰組\"]\n",
    "ironmen = [46, 8, 12, 12, 6, 58]\n",
    "\n",
    "ironmen_dict = {\"groups\": groups,\n",
    "                \"ironmen\": ironmen\n",
    "                }\n",
    "\n",
    "ironmen_df = pd.DataFrame(ironmen_dict)\n",
    "\n",
    "print(ironmen_df) # 看看資料框的外觀\n",
    "print(type(ironmen_df)) # pandas.core.frame.DataFrame"
   ]
  },
  {
   "cell_type": "markdown",
   "metadata": {},
   "source": [
    "# Pandas 的 data frame\n",
    "\n",
    "可以由 NumPy 的 2d array 轉換\n",
    "\n",
    "如果 data frame 的變數類型相同，亦可以從 NumPy 的 2d array 轉換。"
   ]
  },
  {
   "cell_type": "code",
   "execution_count": 3,
   "metadata": {},
   "outputs": [
    {
     "name": "stdout",
     "output_type": "stream",
     "text": [
      "   col1  col2\n",
      "0     1     3\n",
      "1     2     4\n"
     ]
    }
   ],
   "source": [
    "import numpy as np\n",
    "import pandas as pd\n",
    "\n",
    "my_2d_array = np.array([[1, 3],\n",
    "                        [2, 4]\n",
    "                       ])\n",
    "\n",
    "my_df = pd.DataFrame(my_2d_array, columns = [\"col1\", \"col2\"])\n",
    "print(my_df)"
   ]
  },
  {
   "cell_type": "markdown",
   "metadata": {},
   "source": [
    "# 包含多種資料類型\n",
    "\n",
    "跟 list 的特性相仿，不會像 ndarray 僅限制容納單一資料類型。"
   ]
  },
  {
   "cell_type": "code",
   "execution_count": 8,
   "metadata": {},
   "outputs": [
    {
     "name": "stdout",
     "output_type": "stream",
     "text": [
      "groups     object\n",
      "ironmen     int64\n",
      "dtype: object\n"
     ]
    }
   ],
   "source": [
    "import pandas as pd\n",
    "\n",
    "groups = [\"Modern Web\", \"DevOps\", \"Cloud\", \"Big Data\", \"Security\", \"自我挑戰組\"]\n",
    "ironmen = [46, 8, 12, 12, 6, 58]\n",
    "\n",
    "ironmen_dict = {\"groups\": groups,\n",
    "                \"ironmen\": ironmen\n",
    "                }\n",
    "\n",
    "ironmen_df = pd.DataFrame(ironmen_dict)\n",
    "\n",
    "ironmen_df\n",
    "print(ironmen_df.dtypes) # 欄位的變數類型"
   ]
  },
  {
   "cell_type": "code",
   "execution_count": null,
   "metadata": {
    "collapsed": true
   },
   "outputs": [],
   "source": []
  }
 ],
 "metadata": {
  "kernelspec": {
   "display_name": "Python 3",
   "language": "python",
   "name": "python3"
  },
  "language_info": {
   "codemirror_mode": {
    "name": "ipython",
    "version": 3
   },
   "file_extension": ".py",
   "mimetype": "text/x-python",
   "name": "python",
   "nbconvert_exporter": "python",
   "pygments_lexer": "ipython3",
   "version": "3.6.1"
  }
 },
 "nbformat": 4,
 "nbformat_minor": 2
}
